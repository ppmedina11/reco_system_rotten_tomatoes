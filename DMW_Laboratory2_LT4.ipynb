{
 "cells": [
  {
   "cell_type": "code",
   "execution_count": 1,
   "id": "873e98e9-d152-44f9-8335-b6c2d7204d40",
   "metadata": {
    "execution": {
     "iopub.execute_input": "2024-02-10T17:28:56.461981Z",
     "iopub.status.busy": "2024-02-10T17:28:56.461448Z",
     "iopub.status.idle": "2024-02-10T17:28:56.483914Z",
     "shell.execute_reply": "2024-02-10T17:28:56.482621Z",
     "shell.execute_reply.started": "2024-02-10T17:28:56.461935Z"
    },
    "tags": []
   },
   "outputs": [
    {
     "data": {
      "text/html": [
       "<script src=\"require.js\"></script>\n"
      ],
      "text/plain": [
       "<IPython.core.display.HTML object>"
      ]
     },
     "metadata": {},
     "output_type": "display_data"
    }
   ],
   "source": [
    "%%HTML\n",
    "<script src=\"require.js\"></script>"
   ]
  },
  {
   "cell_type": "code",
   "execution_count": 2,
   "id": "064c1173-2745-481c-a848-02c726734949",
   "metadata": {
    "execution": {
     "iopub.execute_input": "2024-02-10T17:28:57.087776Z",
     "iopub.status.busy": "2024-02-10T17:28:57.086669Z",
     "iopub.status.idle": "2024-02-10T17:28:57.181309Z",
     "shell.execute_reply": "2024-02-10T17:28:57.180193Z",
     "shell.execute_reply.started": "2024-02-10T17:28:57.087728Z"
    },
    "tags": []
   },
   "outputs": [
    {
     "data": {
      "text/html": [
       "<script src=\"https://cdnjs.cloudflare.com/ajax/libs/jquery/2.0.3/jquery.min.js \"></script><script>\n",
       "code_show=true; \n",
       "function code_toggle() {\n",
       "if (code_show){\n",
       "$('div.jp-CodeCell > div.jp-Cell-inputWrapper').hide();\n",
       "} else {\n",
       "$('div.jp-CodeCell > div.jp-Cell-inputWrapper').show();\n",
       "}\n",
       "code_show = !code_show\n",
       "} \n",
       "$( document ).ready(code_toggle);</script><form action=\"javascript:code_toggle()\"><input type=\"submit\" value=\"Click here to toggle on/off the raw code.\"></form>\n"
      ],
      "text/plain": [
       "<IPython.core.display.HTML object>"
      ]
     },
     "execution_count": 2,
     "metadata": {},
     "output_type": "execute_result"
    }
   ],
   "source": [
    "from IPython.display import display, HTML, clear_output\n",
    "import ipywidgets as widgets\n",
    "HTML('''<script src=\"https://cdnjs.cloudflare.com/ajax/libs/jquery/2.0.3/jquery.min.js \"></script><script>\n",
    "code_show=true; \n",
    "function code_toggle() {\n",
    "if (code_show){\n",
    "$('div.jp-CodeCell > div.jp-Cell-inputWrapper').hide();\n",
    "} else {\n",
    "$('div.jp-CodeCell > div.jp-Cell-inputWrapper').show();\n",
    "}\n",
    "code_show = !code_show\n",
    "} \n",
    "$( document ).ready(code_toggle);</script><form action=\"javascript:code_toggle()\"><input type=\"submit\" value=\"Click here to toggle on/off the raw code.\"></form>\n",
    "''')"
   ]
  },
  {
   "cell_type": "markdown",
   "id": "05cf9e18-77b7-4037-8942-b8ca8c2850dd",
   "metadata": {
    "execution": {
     "iopub.execute_input": "2023-11-20T13:02:19.437356Z",
     "iopub.status.busy": "2023-11-20T13:02:19.436801Z",
     "iopub.status.idle": "2023-11-20T13:02:19.445917Z",
     "shell.execute_reply": "2023-11-20T13:02:19.444220Z",
     "shell.execute_reply.started": "2023-11-20T13:02:19.437309Z"
    },
    "tags": []
   },
   "source": [
    "<img src='movie-night-banner.png'>"
   ]
  },
  {
   "cell_type": "markdown",
   "id": "802df02f-8762-4c46-bec8-8ff4f90a2252",
   "metadata": {},
   "source": [
    "<a id='Abstract'></a>\n",
    "<h1 style=\"color:#ffffff; background-color:#E44728; border: 1px solid #ffffff; padding: 10px 10px 10px 10px;\">ABSTRACT</h1>"
   ]
  },
  {
   "cell_type": "markdown",
   "id": "3f4b9114-a3d7-4223-af46-da8af01e451a",
   "metadata": {
    "execution": {
     "iopub.execute_input": "2023-11-20T13:10:31.262781Z",
     "iopub.status.busy": "2023-11-20T13:10:31.262197Z",
     "iopub.status.idle": "2023-11-20T13:10:31.270999Z",
     "shell.execute_reply": "2023-11-20T13:10:31.269148Z",
     "shell.execute_reply.started": "2023-11-20T13:10:31.262730Z"
    },
    "tags": []
   },
   "source": [
    "In the era of abundant streaming services, finding similar movies after watching one poses a challenge. Relying solely on genre for recommendations may disappoint users, as it overlooks nuanced, less straightforward, and less obvious features, potentially suggesting irrelevant films despite sharing a genre. Hence, using all the features of movie as a query instead, which is the underpinning of an Information Retrieval System for movies, a type of movie recommender system, would help in addressing the lack of nuance provided by solely genre-based movie recommenders. With respect to this, our study aims to explore what potential characteristics, features, and parameters makes an Information Retrieval System, which is based on a movie dataset, effective.\n",
    "\n",
    "The team processed a dataset comprising 128 movies scraped from Rotten Tomatoes, employing techniques like one-hot encoding, TFIDF-normalization, and Min-Max Normalization for data cleaning. Within this dataset, Drama emerged as the most frequent genre, and English was the most commonly used language. The movie list was purposely limited in order to make evaluating the effectiveness of the Information Retrieval systems feasible. \n",
    "\n",
    "Two Information Retrieval systems were then created with different \"optimized\" vectorizer settings (which included stemming, word normalization, setting the maximum and minimum document frequency requirements, and such) and with default vectorizer settings. These were further divided by distance measures which included Euclidean, Manhattan, and Cosine distance measures.\n",
    "\n",
    "In evaluating the variants, the most optimal k parameter was determined using a Precision-Recall vs. k graph, informing Average Precision, Average Recall, and Average F-1 score at k. Additional metrics encompassed Mean Average Precision, R-Precision, and Eleven-Point Precision-Recall Curve. Key findings indicated that the default setting is optimal (1), cosine distance is the preferred measure (2), larger datasets lead to higher metrics (3), and a k of 5 is roughly the optimal number of results (4). Moreover, analyzing the R-Precision of each query, it was found that increasing the number of queries would account for coincidentally well-representative queries and less-representative queries in the queries, thereby removing the possible skew in the metrics, and that increasing the data points lead to higher metrics due to having more chances of acquiring salient features for a given characteristic of the data points.\n",
    "\n",
    "Recommendations for future studies include increasing the size of the dataset (1), creating hypotheses for each change in setting (2), increasing the number of test queries (3), improving the gold standard by outsourcing external \"movie watchers\" (4), and comparing cosine distance with other distance measures not studied in this report (5). This would allow for a more extensive exploration and discussion of the interplay among the characteristics of the Information Retrieval System, the characteristics of its dataset, and the entertainment domain, through which the most optimal settings are found for movie recommender systems and through which a better movie recommender system is created."
   ]
  },
  {
   "cell_type": "markdown",
   "id": "ceb9446a-88da-4aaf-88b7-c79f2a7fdb26",
   "metadata": {},
   "source": [
    "<a id='Libraries'></a>\n",
    "<h1 style=\"color:#ffffff; background-color:#E44728; border: 1px solid #ffffff; padding: 10px 10px 10px 10px;\">IMPORT LIBRARIES AND DEFINE FUNCTIONS</h1>"
   ]
  },
  {
   "cell_type": "markdown",
   "id": "4e9bf64f-8d47-47a1-8d7d-65849386b65f",
   "metadata": {},
   "source": [
    "<h2 style=\"color: #5BC461\">Import Libraries</h2>\n",
    "<p>The following libraries and functions were imported:</p>\n",
    "<ul>\n",
    "    <li><b>Pandas</b> for managing dataframes and tabular data</li>\n",
    "    <li><b>Requests</b> for acquiring access to the relevant Rotten Tomatoes webpages</li>\n",
    "    <li><b>Beautiful Soup 4</b> for scraping the Rotten Tomatoes webpages</li>\n",
    "    <li><b>Regular Expression</b> for utilizing patterns with the HTML script during scraping</li>\n",
    "    <li><b>OS</b> for managing downloaded webpages from Rotten Tomatoes</li>\n",
    "    <li><b>SQLite3</b> for accessing and querying created databases</li>\n",
    "    <li><b>sklearn's CountVectorizer</b> for vectorizing document columns</li>\n",
    "    <li><b>nltk's EnglishStemmer</b> for stemming the words in the documents</li>\n",
    "    <li><b>sklearn's TfidfTransformer</b> for normalizing the token frequencies into TF-IDF</li>\n",
    "    <li><b>matplotlib's pyplot</b> for plotting some of the relevant visualizations in the paper</li>\n",
    "    <li><b>Seaborn</b> for plotting the other relevant visualizations in the paper</li>\n",
    "    <li><b>sklearn's MinMaxScaler</b> for scaling the continuous variables</li>\n",
    "    <li><b>Warnings</b> for hiding the warnings and cleaning the notebook</li>\n",
    "    <li><b>scipy's distance module</b> for measuring distance metrics</li>\n",
    "    <li><b>scipy's trapz</b> for calculating the area under the curve</li>\n",
    "    <li><b>Numpy</b> for faster manipulation of matrices</li>\n",
    "    <li><b>IPython</b> for displaying purposes</li>\n",
    "    <li><b>ipywidgets</b> for creating interactive widgets</li>\n",
    "</ul>"
   ]
  },
  {
   "cell_type": "code",
   "execution_count": 252,
   "id": "e6b64705-1d3a-4d3d-97dc-77f9fce62d62",
   "metadata": {
    "execution": {
     "iopub.execute_input": "2023-11-23T21:07:49.494910Z",
     "iopub.status.busy": "2023-11-23T21:07:49.494356Z",
     "iopub.status.idle": "2023-11-23T21:07:49.505602Z",
     "shell.execute_reply": "2023-11-23T21:07:49.504310Z",
     "shell.execute_reply.started": "2023-11-23T21:07:49.494858Z"
    },
    "tags": []
   },
   "outputs": [],
   "source": [
    "import pandas as pd\n",
    "import bs4\n",
    "import requests\n",
    "import re\n",
    "import os\n",
    "import sqlite3\n",
    "from sklearn.feature_extraction.text import CountVectorizer\n",
    "from nltk.stem.snowball import EnglishStemmer\n",
    "from sklearn.feature_extraction.text import TfidfTransformer\n",
    "from matplotlib import pyplot as plt\n",
    "from sklearn.preprocessing import MinMaxScaler\n",
    "import numpy as np\n",
    "from scipy.spatial.distance import euclidean, cityblock, cosine\n",
    "from scipy.integrate import trapz\n",
    "import warnings\n",
    "import seaborn as sns"
   ]
  },
  {
   "cell_type": "markdown",
   "id": "b3ec6836-a1f6-408d-bc9f-592ba094b8f1",
   "metadata": {},
   "source": [
    "<h2 style=\"color: #5BC461\">Define Functions</h2>\n",
    "<p>The following functions were defined:</p>\n",
    "<ul>\n",
    "    <li><b>get_info</b> for getting the information for each movie, coming from an HTML file</li>\n",
    "    <li><b>get_all_movie_info</b> for creating a dataframe for the movies' details</li>\n",
    "    <li><b>one_hot_encode</b> for one-hot encoding all categorical columns</li>\n",
    "    <li><b>movie_sql</b> for creating and updating a database from the collected and processed data</li>\n",
    "    <li><b>load_sql</b> for converting the table in the database to a dataframe</li>\n",
    "    <li><b>sort_idf</b> for acquiring the idf of each token and collecting additional potential stopwords</li>\n",
    "    <li><b>preprocessor</b> for preprocessing the documents</li>\n",
    "    <li><b>bag_of_words</b> for converting documents into bag-of-words</li>\n",
    "    <li><b>normalize_tfidf</b> for normalizing bag-of-word vectors to TFIDF</li>\n",
    "    <li><b>nearest_k</b> for returning the results of the IR</li>\n",
    "    <li><b>kappa</b> for calculating the kappa statistic and presenting the relevance matrix</li>\n",
    "    <li><b>pk</b> for calculating the Precision @ k</li>\n",
    "    <li><b>a_pk</b> for calculating the Average (Precision @ K)</li>\n",
    "    <li><b>rk</b> for calculating the Recall @ k</li>\n",
    "    <li><b>a_rk</b> for calculating the Average (Recall @ k)</li>\n",
    "    <li><b>apk</b> for calculating the Average Precision @ k</li>\n",
    "    <li><b>mapk</b> for calculating the Mean Average Precision @ k</li>\n",
    "    <li><b>mf_onek</b> for calculating the Mean F-1 Score @ k</li>\n",
    "    <li><b>rprec</b> for calculating the individual R-Precisions</li>\n",
    "    <li><b>ave_rprec</b> for calculating the Average R-Precision</li>\n",
    "    <li><b>ave_prg</b> for plotting the 11-point Precision/Recall graph</li>\n",
    "    <li><b>pretty_print</b> for printing dataframes more cleanly</li>\n",
    "    <li><b>recommend</b> for recommeding movie titles based on a title</li>\n",
    "    <li><b>search_k_title</b> for listing all relevant movies based on k and title</li>\n",
    "</ul>"
   ]
  },
  {
   "cell_type": "code",
   "execution_count": 253,
   "id": "58cf2057-e2f8-4f5f-b6e8-d4d1b8da8051",
   "metadata": {
    "execution": {
     "iopub.execute_input": "2023-11-23T21:07:49.507453Z",
     "iopub.status.busy": "2023-11-23T21:07:49.507045Z",
     "iopub.status.idle": "2023-11-23T21:07:49.525485Z",
     "shell.execute_reply": "2023-11-23T21:07:49.523727Z",
     "shell.execute_reply.started": "2023-11-23T21:07:49.507415Z"
    },
    "tags": []
   },
   "outputs": [],
   "source": [
    "def get_info(html_file):\n",
    "    \"\"\"Get the information for each movie, which comes from an html file.\n",
    "\n",
    "    Parameters\n",
    "    -------\n",
    "    html_file : str\n",
    "        Name of html file\n",
    "\n",
    "    Returns\n",
    "    -------\n",
    "    mydict : dict\n",
    "        Dictionary which contains all features of a movie\n",
    "    \"\"\"\n",
    "    with open(html_file) as f:\n",
    "        html_content = f.read()\n",
    "\n",
    "    soup = bs4.BeautifulSoup(html_content)\n",
    "\n",
    "    title = soup.head.title.text.replace(' - Rotten Tomatoes', '')\n",
    "\n",
    "    synopsis = soup.find('p', {'data-qa': 'movie-info-synopsis'}).text\n",
    "\n",
    "    genre_raw = soup.find('span', {'class': 'genre'}).text\n",
    "    genre = genre_raw.replace('\\n', '').replace(' ', '').split(',')\n",
    "\n",
    "    runtime_raw = soup.find('b', string='Runtime:').find_parent() \\\n",
    "        .find('span').find('time').text.strip()\n",
    "    match = re.match(r'(\\d+)h (\\d+)m', runtime_raw)\n",
    "    runtime = int(match.group(1)) * 60 + int(match.group(2)) if match else 0\n",
    "\n",
    "    language = soup.find('b', string='Original Language:') \\\n",
    "        .find_parent().find('span').text\n",
    "\n",
    "    top_critics = soup.find_all(\n",
    "        'review-speech-balloon-deprecated',\n",
    "        {'istopcritic': 'true'}\n",
    "    )\n",
    "    critic = '\\n\\n'.join(tc.get('reviewquote', '') for tc in top_critics)\n",
    "\n",
    "    mydict = {\n",
    "        'title': title,\n",
    "        'synopsis': synopsis,\n",
    "        'genre': genre,\n",
    "        'runtime': runtime,\n",
    "        'language': language,\n",
    "        'critic': critic\n",
    "    }\n",
    "\n",
    "    return mydict"
   ]
  },
  {
   "cell_type": "code",
   "execution_count": 254,
   "id": "d4a42210-f1f2-483f-9827-4b872f1369e5",
   "metadata": {
    "execution": {
     "iopub.execute_input": "2023-11-23T21:07:49.530396Z",
     "iopub.status.busy": "2023-11-23T21:07:49.529829Z",
     "iopub.status.idle": "2023-11-23T21:07:49.540112Z",
     "shell.execute_reply": "2023-11-23T21:07:49.538605Z",
     "shell.execute_reply.started": "2023-11-23T21:07:49.530343Z"
    },
    "tags": []
   },
   "outputs": [],
   "source": [
    "def get_all_movie_info():\n",
    "    \"\"\"Create a dataframe for the movies' details.\n",
    "\n",
    "    Returns\n",
    "    -------\n",
    "    df\n",
    "        Data Frame containing all the movies' details\n",
    "    \"\"\"\n",
    "    movie_list = []\n",
    "    folder_path = \"movies\"\n",
    "\n",
    "    for filename in os.listdir(folder_path):\n",
    "        file_path = os.path.join(folder_path, filename)\n",
    "\n",
    "        if os.path.isfile(file_path):\n",
    "            movie_list.append(get_info(file_path))\n",
    "            print('done with ', file_path)\n",
    "\n",
    "    return pd.DataFrame(movie_list)"
   ]
  },
  {
   "cell_type": "code",
   "execution_count": 255,
   "id": "6bbe2f13-987d-4593-876f-3fc6caa402da",
   "metadata": {
    "execution": {
     "iopub.execute_input": "2023-11-23T21:07:49.542118Z",
     "iopub.status.busy": "2023-11-23T21:07:49.541705Z",
     "iopub.status.idle": "2023-11-23T21:07:49.551868Z",
     "shell.execute_reply": "2023-11-23T21:07:49.550575Z",
     "shell.execute_reply.started": "2023-11-23T21:07:49.542079Z"
    },
    "tags": []
   },
   "outputs": [],
   "source": [
    "def one_hot_encode(movies):\n",
    "    \"\"\"For categorical columns, such as genre and language, one-hot-encode\n",
    "    them. And return the new dataframe with one-hot-encoded categorical\n",
    "    variables.\n",
    "\n",
    "    Parameters\n",
    "    -------\n",
    "    movies : df\n",
    "        Data Frame containing all the movies and their features\n",
    "\n",
    "    Returns\n",
    "    -------\n",
    "    movies_encoded : df\n",
    "        Data Frame where the categorical features from the original Data Frame\n",
    "        are one-hot encoded\n",
    "    \"\"\"\n",
    "    genre_dummies = pd.get_dummies(\n",
    "        movies['genre'].apply(pd.Series).stack()).groupby(level=0).sum()\n",
    "    genre_dummies = genre_dummies.add_prefix('g_')\n",
    "\n",
    "    language_dummies = pd.get_dummies(\n",
    "        movies['language'], dtype='int').add_prefix('lang_')\n",
    "\n",
    "    movies_encoded = pd.concat([movies, genre_dummies, language_dummies],\n",
    "                               axis=1)\n",
    "    movies_encoded.drop(['genre', 'language'], axis=1, inplace=True)\n",
    "    movies_encoded.columns = movies_encoded.columns.str.lower()\n",
    "\n",
    "    return movies_encoded"
   ]
  },
  {
   "cell_type": "code",
   "execution_count": 256,
   "id": "d0cd712c-ba58-4223-b1f7-ab1261804e49",
   "metadata": {
    "execution": {
     "iopub.execute_input": "2023-11-23T21:07:49.554102Z",
     "iopub.status.busy": "2023-11-23T21:07:49.553353Z",
     "iopub.status.idle": "2023-11-23T21:07:49.560507Z",
     "shell.execute_reply": "2023-11-23T21:07:49.559308Z",
     "shell.execute_reply.started": "2023-11-23T21:07:49.554065Z"
    },
    "tags": []
   },
   "outputs": [],
   "source": [
    "def movie_sql(df):\n",
    "    \"\"\"Create a table from a Data Frame which will be placed inside a\n",
    "    SQLite3 database\n",
    "\n",
    "    Parameters\n",
    "    -------\n",
    "    df : df\n",
    "        Data Frame containing all the movies and their features\n",
    "    \"\"\"\n",
    "    db_file = 'rotten_tomatoes.db'\n",
    "    conn = sqlite3.connect(db_file)\n",
    "    df.to_sql('movie_encoded', conn, index=False, if_exists='replace',)\n",
    "    conn.close()"
   ]
  },
  {
   "cell_type": "code",
   "execution_count": 257,
   "id": "e813af54-27e1-4d1b-b707-55968c123371",
   "metadata": {
    "execution": {
     "iopub.execute_input": "2023-11-23T21:07:49.562307Z",
     "iopub.status.busy": "2023-11-23T21:07:49.561949Z",
     "iopub.status.idle": "2023-11-23T21:07:49.569114Z",
     "shell.execute_reply": "2023-11-23T21:07:49.567959Z",
     "shell.execute_reply.started": "2023-11-23T21:07:49.562273Z"
    },
    "tags": []
   },
   "outputs": [],
   "source": [
    "def load_sql(db='rotten_tomatoes.db'):\n",
    "    \"\"\"Return the Data Frame from the table in the SQLite3 database\n",
    "\n",
    "    Parameters\n",
    "    -------\n",
    "    db : str, optional\n",
    "        Name of the SQLite3 database\n",
    "\n",
    "    Returns\n",
    "    -------\n",
    "    df : df\n",
    "        Data Frame which was loaded from the SQLite3 database\n",
    "    \"\"\"\n",
    "    conn = sqlite3.connect(db)\n",
    "    cursor = conn.cursor()\n",
    "\n",
    "    df = pd.read_sql(\"SELECT * FROM movie_encoded\", conn)\n",
    "\n",
    "    cursor.close()\n",
    "    conn.close()\n",
    "\n",
    "    return df"
   ]
  },
  {
   "cell_type": "code",
   "execution_count": 258,
   "id": "aa525390-e48d-4b72-bfaa-af3f3cd7c71c",
   "metadata": {
    "execution": {
     "iopub.execute_input": "2023-11-23T21:07:49.570598Z",
     "iopub.status.busy": "2023-11-23T21:07:49.570262Z",
     "iopub.status.idle": "2023-11-23T21:07:49.578029Z",
     "shell.execute_reply": "2023-11-23T21:07:49.576948Z",
     "shell.execute_reply.started": "2023-11-23T21:07:49.570566Z"
    },
    "tags": []
   },
   "outputs": [],
   "source": [
    "def sort_idf(df, cv):\n",
    "    \"\"\"Calculate the idfs for each movie and inserting them into a Data Frame,\n",
    "    sort them by ascending order and return the Data Frame.\n",
    "\n",
    "    Parameters\n",
    "    -------\n",
    "    df : df\n",
    "        Data Frame containing all the movies and their features\n",
    "\n",
    "    cv : CountVectorizer\n",
    "        Fitted CountVectorizer containing the feature names\n",
    "\n",
    "    Returns\n",
    "    -------\n",
    "    df_idf : df\n",
    "        Data Frame containing the sorted idfs\n",
    "    \"\"\"\n",
    "    tfidf_transformer = TfidfTransformer(smooth_idf=True, use_idf=True) \n",
    "    tfidf_transformer.fit(df) \n",
    "    df_idf = pd.DataFrame(tfidf_transformer.idf_,\n",
    "                          index=cv.get_feature_names_out(),\n",
    "                          columns=[\"idf_weights\"]) \n",
    "    df_idf = df_idf.sort_values(by='idf_weights')\n",
    "    return df_idf"
   ]
  },
  {
   "cell_type": "code",
   "execution_count": 259,
   "id": "796f56da-cb49-42fd-aed5-1360a7a3d821",
   "metadata": {
    "execution": {
     "iopub.execute_input": "2023-11-23T21:07:49.580042Z",
     "iopub.status.busy": "2023-11-23T21:07:49.579230Z",
     "iopub.status.idle": "2023-11-23T21:07:49.587268Z",
     "shell.execute_reply": "2023-11-23T21:07:49.586199Z",
     "shell.execute_reply.started": "2023-11-23T21:07:49.580008Z"
    },
    "tags": []
   },
   "outputs": [],
   "source": [
    "def preprocessor(text):\n",
    "    \"\"\"Return a preprocessed document which is stemmed, lowercased, and removed of\n",
    "    special character and where some words are normalized to a similar\n",
    "    word `_connector_`.\n",
    "\n",
    "    Parameters\n",
    "    -------\n",
    "    text : str\n",
    "        Document\n",
    "\n",
    "    Returns\n",
    "    -------\n",
    "    str\n",
    "        Preprocessed document\n",
    "    \"\"\"\n",
    "    english_stemmer = EnglishStemmer()\n",
    "\n",
    "    text = text.lower()\n",
    "    # remove special chars\n",
    "    text = re.sub(r\"\\W\", \" \", text)\n",
    "    # normalize certain words\n",
    "    text = re.sub(r\"\\s+(in|the|all|for|and|on)\\s+\", \" _connector_ \", text) \n",
    "\n",
    "    # stem words\n",
    "    words = re.split(\"\\\\s+\",text)\n",
    "    stemmed_words = [english_stemmer.stem(word=word) for word in words]\n",
    "    return ' '.join(stemmed_words)"
   ]
  },
  {
   "cell_type": "code",
   "execution_count": 260,
   "id": "dbcd66df-61d9-4f63-ba94-9fab985511e7",
   "metadata": {
    "execution": {
     "iopub.execute_input": "2023-11-23T21:07:49.588794Z",
     "iopub.status.busy": "2023-11-23T21:07:49.588440Z",
     "iopub.status.idle": "2023-11-23T21:07:49.598270Z",
     "shell.execute_reply": "2023-11-23T21:07:49.597193Z",
     "shell.execute_reply.started": "2023-11-23T21:07:49.588761Z"
    },
    "tags": []
   },
   "outputs": [],
   "source": [
    "def bag_of_words(srs, mode, stop_extend=None):\n",
    "    \"\"\"Return the vectorized document, whose preprocessing settings differ\n",
    "    based on the mode and for the \"optimal\" preprocessing, whose stop words\n",
    "    may be extended by `stop_extend`.\n",
    "\n",
    "    Parameters\n",
    "    -------\n",
    "    srs : Series\n",
    "        Series containing the document\n",
    "\n",
    "    mode : str\n",
    "        Default or `Optimal`\n",
    "\n",
    "    stop_extend : list, optional\n",
    "        List of extra stop words\n",
    "\n",
    "    Returns\n",
    "    -------\n",
    "    vectorizer : CountVectorizer\n",
    "        Fitted CountVectorizer\n",
    "\n",
    "    bowmatrix : array-like\n",
    "        Bag-of-word matrix\n",
    "    \"\"\"\n",
    "    with open('minimal-stop.txt', 'r') as stop:\n",
    "        lst_temp = stop.readlines()\n",
    "        lst_stop = [i.replace('\\n', '') for i in lst_temp]\n",
    "    if stop_extend is not None:\n",
    "        lst_stop.extend(stop_extend)\n",
    "    if mode == 'default':\n",
    "        vectorizer = CountVectorizer()\n",
    "        bowmatrix = vectorizer.fit_transform(srs)\n",
    "        stop.close()\n",
    "        return vectorizer, bowmatrix\n",
    "    else:\n",
    "        vectorizer = CountVectorizer(preprocessor=preprocessor,\n",
    "                                     stop_words=lst_stop,\n",
    "                                     ngram_range=(1, 2),\n",
    "                                     max_df=0.9,\n",
    "                                     min_df=0.1,)\n",
    "        bowmatrix = vectorizer.fit_transform(srs)\n",
    "        stop.close()\n",
    "        return vectorizer, bowmatrix"
   ]
  },
  {
   "cell_type": "code",
   "execution_count": 261,
   "id": "a83157ed-8a44-4fa3-b90f-5ca68345d1c0",
   "metadata": {
    "execution": {
     "iopub.execute_input": "2023-11-23T21:07:49.599395Z",
     "iopub.status.busy": "2023-11-23T21:07:49.599114Z",
     "iopub.status.idle": "2023-11-23T21:07:49.605218Z",
     "shell.execute_reply": "2023-11-23T21:07:49.604138Z",
     "shell.execute_reply.started": "2023-11-23T21:07:49.599369Z"
    },
    "tags": []
   },
   "outputs": [],
   "source": [
    "def normalize_tfidf(df):\n",
    "    \"\"\"Normalize the frequencies of each token column by its TF-IDF.\n",
    "\n",
    "    Parameters\n",
    "    -------\n",
    "    df : df\n",
    "        Data Frame containing the bag-of-word matrix\n",
    "\n",
    "    Returns\n",
    "    -------\n",
    "    tfidf_transformer : TfidfTransformer\n",
    "        Fitted transformer for TF-IDF\n",
    "    \n",
    "    df_idf : df\n",
    "        Data Frame containing the TF-IDF normalized matrix\n",
    "    \"\"\"\n",
    "    tfidf_transformer = TfidfTransformer(smooth_idf=True, use_idf=True)\n",
    "    df_idf = tfidf_transformer.fit_transform(df)\n",
    "    return tfidf_transformer, df_idf"
   ]
  },
  {
   "cell_type": "code",
   "execution_count": 262,
   "id": "ecddca3b-0c27-4ed7-9f0f-af423dfc7f49",
   "metadata": {
    "execution": {
     "iopub.execute_input": "2023-11-23T21:07:49.606887Z",
     "iopub.status.busy": "2023-11-23T21:07:49.606503Z",
     "iopub.status.idle": "2023-11-23T21:07:49.613616Z",
     "shell.execute_reply": "2023-11-23T21:07:49.612453Z",
     "shell.execute_reply.started": "2023-11-23T21:07:49.606851Z"
    },
    "tags": []
   },
   "outputs": [],
   "source": [
    "def nearest_k(query, objects, k, dist):\n",
    "    \"\"\"Return the indices to objects most similar to query\n",
    "\n",
    "    Parameters\n",
    "    ----------\n",
    "    query : ndarray\n",
    "        query object represented in the same form vector representation as the\n",
    "        objects\n",
    "\n",
    "    objects : ndarray\n",
    "        vector-represented objects in the database; rows correspond to\n",
    "        objects, columns correspond to features\n",
    "\n",
    "    k : int\n",
    "        number of most similar objects to return\n",
    "\n",
    "    dist : function\n",
    "        accepts two ndarrays as parameters then returns their distance\n",
    "\n",
    "    Returns\n",
    "    -------\n",
    "    most_similar : ndarray\n",
    "        Indices to the most similar objects in the database\n",
    "    \"\"\"\n",
    "    return np.argsort([dist(query, obj) for obj in objects], kind=\"stable\")[:k]"
   ]
  },
  {
   "cell_type": "code",
   "execution_count": 263,
   "id": "dfdafae1-71f7-459e-aea0-2d39b5300977",
   "metadata": {
    "execution": {
     "iopub.execute_input": "2023-11-23T21:07:49.619477Z",
     "iopub.status.busy": "2023-11-23T21:07:49.619110Z",
     "iopub.status.idle": "2023-11-23T21:07:49.633403Z",
     "shell.execute_reply": "2023-11-23T21:07:49.632101Z",
     "shell.execute_reply.started": "2023-11-23T21:07:49.619443Z"
    },
    "tags": []
   },
   "outputs": [],
   "source": [
    "def kappa(df1, df2, name1, name2):\n",
    "    \"\"\"Compute the kappa statistic for a given pair of judges and return both\n",
    "    the kappa statistic and relevance matrix\n",
    "\n",
    "    Parameters\n",
    "    ----------\n",
    "    df1 : df\n",
    "        Data Frame containing the first judge's votes\n",
    "\n",
    "    df2 : df\n",
    "        Data Frame containing the second judge's votes\n",
    "\n",
    "    name1 : str\n",
    "        Name of first judge\n",
    "\n",
    "    name2 : str\n",
    "        Name of second judge\n",
    "\n",
    "    Returns\n",
    "    -------\n",
    "    kappa : float\n",
    "        Kappa statistic\n",
    "\n",
    "    rel_mat : df\n",
    "        Relevance matrix\n",
    "    \"\"\"\n",
    "    yes_yes = 0\n",
    "    yes_no = 0\n",
    "    no_yes = 0\n",
    "    no_no = 0\n",
    "    df1 = df1.notnull().astype('int')\n",
    "    df2 = df2.notnull().astype('int')\n",
    "    for (index1, row1), (index2, row2) in zip(df1.iterrows(), df2.iterrows()):\n",
    "        for column in df1.columns:\n",
    "            if row1[column] == 1 and row1[column] == row2[column]:\n",
    "                yes_yes += 1\n",
    "            elif row1[column] > row2[column]:\n",
    "                yes_no += 1\n",
    "            elif row1[column] < row2[column]:\n",
    "                no_yes += 1\n",
    "            elif row1[column] == 0 and row1[column] == row2[column]:\n",
    "                no_no += 1\n",
    "    yes_tup1 = (name1, 'Yes')\n",
    "    yes_tup2 = (name2, 'Yes')\n",
    "    no_tup1 = (name1, 'No')\n",
    "    no_tup2 = (name2, 'No')\n",
    "    total_tup1 = (name1, 'Total')\n",
    "    total_tup2 = (name2, 'Total')\n",
    "    index = pd.MultiIndex.from_tuples([yes_tup1, no_tup1, total_tup1])\n",
    "    cols = pd.MultiIndex.from_tuples([yes_tup2, no_tup2, total_tup2])\n",
    "    rel_mat = pd.DataFrame([[yes_yes, yes_no, yes_yes + yes_no],\n",
    "                            [no_yes, no_no, no_yes + no_no],\n",
    "                           [yes_yes + no_yes, yes_no + no_no, (\n",
    "                            yes_yes + yes_no + no_yes + no_no)]],\n",
    "                           columns=cols,\n",
    "                           index=index)\n",
    "\n",
    "    # Getting kappa statistic\n",
    "    total = yes_yes + no_no + yes_no + no_yes\n",
    "    p_a = (yes_yes + no_no) / total\n",
    "    p_nonrelevant = (yes_no + no_no + no_yes + no_no) / (total * 2)\n",
    "    p_relevant = (yes_yes + yes_no + yes_yes + no_yes) / (total *2)\n",
    "    p_e = (p_nonrelevant ** 2) + (p_relevant ** 2)\n",
    "    kappa = (p_a - p_e) / (1 - p_e)\n",
    "    return kappa, rel_mat"
   ]
  },
  {
   "cell_type": "code",
   "execution_count": 264,
   "id": "933180cf-cbff-4959-8124-770644483d7e",
   "metadata": {
    "execution": {
     "iopub.execute_input": "2023-11-23T21:07:49.634563Z",
     "iopub.status.busy": "2023-11-23T21:07:49.634321Z",
     "iopub.status.idle": "2023-11-23T21:07:49.643005Z",
     "shell.execute_reply": "2023-11-23T21:07:49.642010Z",
     "shell.execute_reply.started": "2023-11-23T21:07:49.634540Z"
    },
    "tags": []
   },
   "outputs": [],
   "source": [
    "def pk(df, y_test, y_pred, k=5):\n",
    "    \"\"\"Compute precision @ k for an input boolean dataframe\n",
    "\n",
    "    Parameters\n",
    "    ----------\n",
    "    df : df\n",
    "        Data Frame containing boolean columns y_text and y_pred\n",
    "\n",
    "    y_test : str\n",
    "        Name of column containing actual relevance in binary where 0 is\n",
    "        irrelevant and 1 is relevant\n",
    "\n",
    "    y_pred : str\n",
    "        Name of column containing ones since the returned results are\n",
    "        essentially considered as relevant by the system\n",
    "\n",
    "    k : int, optional\n",
    "        Integer number of items to consider\n",
    "\n",
    "    Returns\n",
    "    -------\n",
    "    float\n",
    "        Number of precision value for k items\n",
    "    \"\"\"\n",
    "    # extract the k rows\n",
    "    dfK = df.head(k)\n",
    "    # compute number of recommended items @ k\n",
    "    denominator = dfK[y_pred].sum()\n",
    "    # compute number of recommended items that are relevant @ k\n",
    "    numerator = dfK[y_test].sum()\n",
    "    # return result\n",
    "    if denominator > 0:\n",
    "        return numerator/denominator\n",
    "    else:\n",
    "        return None\n",
    "\n",
    "\n",
    "def rk(df, y_test, y_pred, k=5):\n",
    "    \"\"\"Compute recall @ k for an input boolean dataframe\n",
    "\n",
    "    Parameters\n",
    "    ----------\n",
    "    df : df\n",
    "        Data Frame containing boolean columns y_text and y_pred\n",
    "\n",
    "    y_test : str\n",
    "        Name of column containing actual relevance in binary where 0 is\n",
    "        irrelevant and 1 is relevant\n",
    "\n",
    "    y_pred : str\n",
    "        Name of column containing ones since the returned results are\n",
    "        essentially considered as relevant by the system\n",
    "\n",
    "    k : int, optional\n",
    "        Integer number of items to consider\n",
    "\n",
    "    Returns\n",
    "    -------\n",
    "    float\n",
    "        Number of recall value for k items\n",
    "    \"\"\"\n",
    "    # extract the k rows\n",
    "    dfK = df.head(k)\n",
    "    # compute number of all relevant items\n",
    "    denominator = df[y_test].sum()\n",
    "    # compute number of recommended items that are relevant @ k\n",
    "    numerator = dfK[y_test].sum()\n",
    "    # return result\n",
    "    if denominator > 0:\n",
    "        return numerator/denominator\n",
    "    else:\n",
    "        return None"
   ]
  },
  {
   "cell_type": "code",
   "execution_count": 265,
   "id": "5923a8dc-b85f-4cb2-966d-6437483e09f0",
   "metadata": {
    "execution": {
     "iopub.execute_input": "2023-11-23T21:07:49.644191Z",
     "iopub.status.busy": "2023-11-23T21:07:49.643951Z",
     "iopub.status.idle": "2023-11-23T21:07:49.649915Z",
     "shell.execute_reply": "2023-11-23T21:07:49.648834Z",
     "shell.execute_reply.started": "2023-11-23T21:07:49.644168Z"
    },
    "tags": []
   },
   "outputs": [],
   "source": [
    "def a_pk(lst_pk):\n",
    "    \"\"\"Compute average (precision @ k)\n",
    "\n",
    "    Parameters\n",
    "    ----------\n",
    "    lst_pk : list\n",
    "        List of precision values @ k\n",
    "\n",
    "    Returns\n",
    "    -------\n",
    "    float\n",
    "        Average (Precision @ k)\n",
    "    \"\"\"\n",
    "    return np.mean(lst_pk)\n",
    "\n",
    "\n",
    "def a_rk(lst_rk):\n",
    "    \"\"\"Compute average (recall @ k)\n",
    "\n",
    "    Parameters\n",
    "    ----------\n",
    "    lst_pk : list\n",
    "        List of recall values @ k\n",
    "\n",
    "    Returns\n",
    "    -------\n",
    "    float\n",
    "        Average (Recall @ k)\n",
    "    \"\"\"\n",
    "    return np.mean(lst_rk)"
   ]
  },
  {
   "cell_type": "code",
   "execution_count": 266,
   "id": "2bc121fb-531a-4edf-b3e8-a7e720c8e229",
   "metadata": {
    "execution": {
     "iopub.execute_input": "2023-11-23T21:07:49.651025Z",
     "iopub.status.busy": "2023-11-23T21:07:49.650786Z",
     "iopub.status.idle": "2023-11-23T21:07:49.658044Z",
     "shell.execute_reply": "2023-11-23T21:07:49.657052Z",
     "shell.execute_reply.started": "2023-11-23T21:07:49.651002Z"
    },
    "tags": []
   },
   "outputs": [],
   "source": [
    "def apk(actual, predicted, k=10):\n",
    "    \"\"\"\n",
    "    Compute the average precision at k. Compute the average precision at k \n",
    "    between two lists of items.\n",
    "\n",
    "    Parameters\n",
    "    ----------\n",
    "    actual : list\n",
    "        A list of elements that are to be predicted (order doesn't matter)\n",
    "\n",
    "    predicted : list\n",
    "        A list of predicted elements (order does matter)\n",
    "\n",
    "    k : int, optional\n",
    "        The maximum number of predicted elements\n",
    "\n",
    "    Returns\n",
    "    -------\n",
    "    score : double\n",
    "            The average precision at k over the input lists\n",
    "    \"\"\"\n",
    "    if not actual:\n",
    "        return 0.0\n",
    "\n",
    "    if len(predicted) > k:\n",
    "        predicted = predicted[:k]\n",
    "\n",
    "    score = 0.0\n",
    "    num_hits = 0.0\n",
    "\n",
    "    for i, p in enumerate(predicted):\n",
    "        # first condition checks whether it is valid prediction\n",
    "        # second condition checks if prediction is not repeated\n",
    "        if p in actual and p not in predicted[:i]:\n",
    "            num_hits += 1.0\n",
    "            score += num_hits / (i+1.0)\n",
    "\n",
    "    return score / min(len(actual), k)"
   ]
  },
  {
   "cell_type": "code",
   "execution_count": 267,
   "id": "e9cb8e65-ddb9-413c-8e38-a6e64b66b49d",
   "metadata": {
    "execution": {
     "iopub.execute_input": "2023-11-23T21:07:49.659066Z",
     "iopub.status.busy": "2023-11-23T21:07:49.658829Z",
     "iopub.status.idle": "2023-11-23T21:07:49.664581Z",
     "shell.execute_reply": "2023-11-23T21:07:49.663547Z",
     "shell.execute_reply.started": "2023-11-23T21:07:49.659043Z"
    },
    "tags": []
   },
   "outputs": [],
   "source": [
    "def mapk(actual, predicted, k=10):\n",
    "    \"\"\"\n",
    "    Compute the mean average precision at k. Compute the mean average\n",
    "    prescision at k between two lists of lists of items.\n",
    "\n",
    "    Parameters\n",
    "    ----------\n",
    "    actual : list\n",
    "        A list of lists of elements that are to be predicted (order doesn't\n",
    "        matter in the lists)\n",
    "\n",
    "    predicted : list\n",
    "        A list of lists of predicted elements (order matters in the lists)\n",
    "\n",
    "    k : int, optional\n",
    "        The maximum number of predicted elements\n",
    "\n",
    "    Returns\n",
    "    -------\n",
    "    score : double\n",
    "        The mean average precision at k over the input lists\n",
    "    \"\"\"\n",
    "    return np.mean([apk(a, p, k) for a, p in zip(actual, predicted)])"
   ]
  },
  {
   "cell_type": "code",
   "execution_count": 268,
   "id": "7c809ee6-abf3-4874-a83c-a6a1b76a8693",
   "metadata": {
    "execution": {
     "iopub.execute_input": "2023-11-23T21:07:49.666417Z",
     "iopub.status.busy": "2023-11-23T21:07:49.665683Z",
     "iopub.status.idle": "2023-11-23T21:07:49.675763Z",
     "shell.execute_reply": "2023-11-23T21:07:49.674163Z",
     "shell.execute_reply.started": "2023-11-23T21:07:49.666383Z"
    },
    "tags": []
   },
   "outputs": [],
   "source": [
    "def mf_onek(mean_prec, mean_rec, beta=0.5):\n",
    "    \"\"\"Accept the mean precision, mean recall, and beta,\n",
    "    and return the mean F-measure.\n",
    "\n",
    "    Parameters\n",
    "    ----------\n",
    "    mean_prec : float\n",
    "        Mean Precision\n",
    "\n",
    "    mean_rec : float\n",
    "        Mean Recall\n",
    "\n",
    "    beta : float, optional\n",
    "        Beta for the F-measure\n",
    "\n",
    "    Returns\n",
    "    -------\n",
    "    F : float\n",
    "        Mean F-measure based on the parameters\n",
    "    \"\"\"\n",
    "    first_factor = 1 + beta**2\n",
    "    second_factor = (mean_prec * mean_rec) / ((beta**2 * mean_prec) + mean_rec)\n",
    "    F = first_factor * second_factor\n",
    "    return F"
   ]
  },
  {
   "cell_type": "code",
   "execution_count": 269,
   "id": "6506e170-1c29-44b0-8be5-74cae9798aea",
   "metadata": {
    "execution": {
     "iopub.execute_input": "2023-11-23T21:07:49.677208Z",
     "iopub.status.busy": "2023-11-23T21:07:49.676891Z",
     "iopub.status.idle": "2023-11-23T21:07:49.685899Z",
     "shell.execute_reply": "2023-11-23T21:07:49.684533Z",
     "shell.execute_reply.started": "2023-11-23T21:07:49.677179Z"
    },
    "tags": []
   },
   "outputs": [],
   "source": [
    "def rprec(actual, predicted):\n",
    "    \"\"\"Compute the R-Precision of a query.\n",
    "\n",
    "    Parameters\n",
    "    ----------\n",
    "    actual : array-like\n",
    "        List of actual values\n",
    "\n",
    "    predicted : array-like\n",
    "        List of predicted values\n",
    "\n",
    "    Returns\n",
    "    -------\n",
    "    float\n",
    "        R-Precision of a query\n",
    "    \"\"\"\n",
    "    rel = len(actual)\n",
    "    predicted = predicted[:rel]\n",
    "    sum_rel = 0\n",
    "    for predict in predicted:\n",
    "        if predict in actual:\n",
    "            sum_rel += 1\n",
    "    return sum_rel / rel\n",
    "\n",
    "\n",
    "def ave_rprec(actual, predicted):\n",
    "    \"\"\"Compute the average R-Precision of several queries.\n",
    "\n",
    "    Parameters\n",
    "    ----------\n",
    "    actual : array-like\n",
    "        List of list of actual values (per query)\n",
    "\n",
    "    predicted : array-like\n",
    "        List of list of predicted values (per query)\n",
    "\n",
    "    Returns\n",
    "    -------\n",
    "    float\n",
    "        R-Precision of a query\n",
    "    \"\"\"\n",
    "    return np.mean([rprec(a, p) for a, p in zip(actual, predicted)])"
   ]
  },
  {
   "cell_type": "code",
   "execution_count": 270,
   "id": "1c89e970-55d4-4074-b16c-1fbb8a027b4b",
   "metadata": {
    "execution": {
     "iopub.execute_input": "2023-11-23T21:07:49.687190Z",
     "iopub.status.busy": "2023-11-23T21:07:49.686898Z",
     "iopub.status.idle": "2023-11-23T21:07:49.699637Z",
     "shell.execute_reply": "2023-11-23T21:07:49.698617Z",
     "shell.execute_reply.started": "2023-11-23T21:07:49.687162Z"
    },
    "tags": []
   },
   "outputs": [],
   "source": [
    "def ave_prg(lst_query, objects, dist, actual, lst_all_labels):\n",
    "    \"\"\"Draw PR curve\n",
    "\n",
    "    Parameters\n",
    "    ----------\n",
    "    query : array-like\n",
    "        find objects similar to this query\n",
    "\n",
    "    objects : ndarray\n",
    "        database of objects to search in\n",
    "\n",
    "    dist : function\n",
    "        function that returns the distance of two input `ndarray`s\n",
    "\n",
    "    actual : int\n",
    "        class label\n",
    "\n",
    "    all_labels : array-like\n",
    "        label of each object in the database\n",
    "\n",
    "    Returns\n",
    "    -------\n",
    "    matplotlib.Axes\n",
    "        rendered PR curve\n",
    "    \"\"\"\n",
    "    lst_recalls = []\n",
    "    lst_precisions = []\n",
    "    for query, all_labels in zip(lst_query, lst_all_labels):\n",
    "        all_labels = np.asarray(all_labels)\n",
    "        results = nearest_k(query, objects, len(all_labels), dist)\n",
    "        rs = (all_labels[results] == actual).cumsum()\n",
    "        N = (all_labels == actual).sum()\n",
    "        precisions = rs / np.arange(1, len(rs) + 1)\n",
    "        recalls = rs / N\n",
    "        recalls = [0] + recalls.tolist()\n",
    "        precisions = [1] + precisions.tolist()\n",
    "        lst_recalls.append(recalls)\n",
    "        lst_precisions.append(precisions)\n",
    "\n",
    "    ys = []\n",
    "    x = np.linspace(0, 1, 11, endpoint=True)\n",
    "    for recall, precision in zip(lst_recalls, lst_precisions):\n",
    "        y = np.interp(x, recall, precision)\n",
    "        ys.append(y)\n",
    "    y = np.mean(ys, axis=0)\n",
    "\n",
    "    fig, ax = plt.subplots()\n",
    "    ax.set_xlim(0, 1)\n",
    "    ax.set_ylim(0, 1)\n",
    "    ax.set_xlabel(\"recall\")\n",
    "    ax.set_ylabel(\"precision\")\n",
    "    ax.set_title(\"Averaged Eleven-Point Precision/Recall Curve\")\n",
    "    ax.plot(x, y, \"--r\")\n",
    "    ax.text(\n",
    "        0.65,\n",
    "        0.8,\n",
    "        \"AUC={:0.2f}\".format(trapz(y, x)),\n",
    "        fontsize=12,\n",
    "    )\n",
    "    return ax"
   ]
  },
  {
   "cell_type": "code",
   "execution_count": 271,
   "id": "3787ab6a-7dd0-4575-89f9-87e57e008c27",
   "metadata": {
    "execution": {
     "iopub.execute_input": "2023-11-23T21:07:49.700620Z",
     "iopub.status.busy": "2023-11-23T21:07:49.700383Z",
     "iopub.status.idle": "2023-11-23T21:07:49.706012Z",
     "shell.execute_reply": "2023-11-23T21:07:49.704939Z",
     "shell.execute_reply.started": "2023-11-23T21:07:49.700598Z"
    },
    "tags": []
   },
   "outputs": [],
   "source": [
    "def pretty_print(df):\n",
    "    \"\"\"Pretty print the dataframe\n",
    "\n",
    "    Parameters\n",
    "    ----------\n",
    "    df : df\n",
    "        Data Frame\n",
    "\n",
    "    Returns\n",
    "    ----------\n",
    "    Display Object\n",
    "        Pretty printed Data Frame\n",
    "    \"\"\"\n",
    "    return display(HTML(df.to_html().replace(\"\\\\n\", \"<br>\")))"
   ]
  },
  {
   "cell_type": "code",
   "execution_count": 272,
   "id": "0a4c8b94-43ab-4782-b311-113086e574de",
   "metadata": {
    "execution": {
     "iopub.execute_input": "2023-11-23T21:07:49.707325Z",
     "iopub.status.busy": "2023-11-23T21:07:49.707049Z",
     "iopub.status.idle": "2023-11-23T21:07:49.714775Z",
     "shell.execute_reply": "2023-11-23T21:07:49.713668Z",
     "shell.execute_reply.started": "2023-11-23T21:07:49.707299Z"
    },
    "tags": []
   },
   "outputs": [],
   "source": [
    "def recommend(name, k=5):\n",
    "    \"\"\"Print the Data Frame containing the k `relevant` movies.\n",
    "\n",
    "    Parameters\n",
    "    ----------\n",
    "    name : str\n",
    "        Movie whose similar or `relevant` movies would be searched for\n",
    "\n",
    "    k : int, optional\n",
    "        Number of movies to return\n",
    "    \"\"\"\n",
    "    query_d = movies_default[movies_default[\"title_old\"] == name].iloc[0]\n",
    "    query_d = query_d.drop(\"title_old\")\n",
    "    results = nearest_k(query_d, movies_default.iloc[:, 1:].to_numpy(),\n",
    "                        int(k), cosine)\n",
    "    pretty_print(\n",
    "        pd.DataFrame(movies[\"title\"][results])\n",
    "        .reset_index()\n",
    "        .rename(columns={\"title\": \"Movie\"})\n",
    "        .drop(\"index\", axis=1)\n",
    "    )"
   ]
  },
  {
   "cell_type": "code",
   "execution_count": 273,
   "id": "df682492-4612-47a9-94ff-8d7ce866ab2e",
   "metadata": {
    "execution": {
     "iopub.execute_input": "2023-11-23T21:07:49.716493Z",
     "iopub.status.busy": "2023-11-23T21:07:49.716123Z",
     "iopub.status.idle": "2023-11-23T21:07:49.726236Z",
     "shell.execute_reply": "2023-11-23T21:07:49.725142Z",
     "shell.execute_reply.started": "2023-11-23T21:07:49.716461Z"
    },
    "tags": []
   },
   "outputs": [],
   "source": [
    "def search_k_title():\n",
    "    \"\"\"Display the drop-down menu widget and button widget\n",
    "    \"\"\"\n",
    "    lst_reco_k = list(range(1, 129))\n",
    "\n",
    "    reco_k = widgets.Dropdown(\n",
    "        options=lst_reco_k,\n",
    "        value=5,\n",
    "        description='k',\n",
    "        disabled=False,\n",
    "    )\n",
    "    reco_movie = widgets.Dropdown(\n",
    "        options=movies['title'].tolist(),\n",
    "        value='Afire',\n",
    "        description='Movie Title',\n",
    "        disabled=False,\n",
    "    )\n",
    "\n",
    "    display(reco_k)\n",
    "    display(reco_movie)\n",
    "\n",
    "    button = widgets.Button(description=\"Search\", button_style='success')\n",
    "    output = widgets.Output()\n",
    "    display(button, output)\n",
    "\n",
    "    def on_button_clicked(b):\n",
    "        \"\"\"Run an event given a click input of the button\n",
    "\n",
    "        Parameters\n",
    "        ----------\n",
    "        b : Button\n",
    "            Button\n",
    "        \"\"\"\n",
    "        with output:\n",
    "            clear_output(wait=True)\n",
    "            display(HTML(f'<p><b>Table 27.</b></p>'\n",
    "                         f'<p><i>{reco_k.value} movies similar to '\n",
    "                         f'{reco_movie.value}</i></p>'))\n",
    "            recommend(reco_movie.value, reco_k.value)\n",
    "\n",
    "    button.on_click(on_button_clicked)"
   ]
  },
  {
   "cell_type": "markdown",
   "id": "09c3bbac-102c-41af-a007-f06461e2ae0c",
   "metadata": {
    "execution": {
     "iopub.execute_input": "2023-11-20T13:14:44.567714Z",
     "iopub.status.busy": "2023-11-20T13:14:44.567206Z",
     "iopub.status.idle": "2023-11-20T13:14:44.574182Z",
     "shell.execute_reply": "2023-11-20T13:14:44.573173Z",
     "shell.execute_reply.started": "2023-11-20T13:14:44.567670Z"
    },
    "tags": []
   },
   "source": [
    "<a id='TContents'></a>\n",
    "<h1 style=\"color:#ffffff; background-color:#E44728; border: 1px solid #ffffff; padding: 10px 10px 10px 10px;\">TABLE OF CONTENTS</h1>"
   ]
  },
  {
   "cell_type": "markdown",
   "id": "87d25871-2c52-4655-a754-152e7e623de4",
   "metadata": {},
   "source": [
    "[ABSTRACT](#Abstract) <br> \n",
    "[IMPORT LIBRARIES AND DEFINE FUNCTIONS](#Libraries) <br>\n",
    "[I. PROBLEM STATEMENT](#Problem) <br> \n",
    "[II. MOTIVATION](#Motivation) <br> \n",
    "[III. DATA SOURCE](#DataSrc) <br> \n",
    "[IV. DATA EXPLORATION](#DataExp) <br> \n",
    "[V. METHODOLOGY](#Method) <br> \n",
    "[VI. RESULTS AND DISCUSSION](#Results) <br> \n",
    "[VII. CONCLUSION](#Conclusion) <br> \n",
    "[VIII. RECOMMENDATION](#Recommendation) <br> \n",
    "[ACKNOWLEGMENT](#Acknowledgment) <br>\n",
    "[REFERENCES](#References) <br> "
   ]
  },
  {
   "cell_type": "markdown",
   "id": "79133857-9455-4745-b0b7-6da81ee74773",
   "metadata": {},
   "source": [
    "<a id='Problem'></a>\n",
    "<h1 style=\"color:#ffffff; background-color:#E44728; border: 1px solid #ffffff; padding: 10px 10px 10px 10px;\">I. PROBLEM STATEMENT</h1>"
   ]
  },
  {
   "cell_type": "markdown",
   "id": "3554fd4f-520f-4af1-8812-d72475e17b02",
   "metadata": {},
   "source": [
    "<p>Movies are a staple of entertainment for the modern day. From still images and slideshows to modern cinema and video streaming services, the quality, breadth, and the quantity of movies have been increasing at an exponential rate. Now, we are bombarded with so many movie choices that it is difficult to choose what to watch, or to even know what is available. Movie Recommenders are a necessary part of the movie provider business such as Netflix or Disney+ so they can let users find the movies that they want to see and spend more time on their platform.</p>\n",
    "    \n",
    "<p>This project takes a simplified approach to the same problem that all these providers have; <strong>if we have an idea of what kind of movie someone likes, what are the best other movies in our catalog that we can offer to them?</strong></p>\n",
    "\n",
    "[Back to TOC](#TContents)"
   ]
  },
  {
   "cell_type": "markdown",
   "id": "49e84e83-4827-4173-80ac-99477af8ae35",
   "metadata": {},
   "source": [
    "<a id='Motivation'></a>\n",
    "<h1 style=\"color:#ffffff; background-color:#E44728; border: 1px solid #ffffff; padding: 10px 10px 10px 10px;\">II. MOTIVATION</h1>"
   ]
  },
  {
   "cell_type": "markdown",
   "id": "65361912-ddcb-4078-899e-874e8f003fad",
   "metadata": {},
   "source": [
    "<p>Movie recommendation system has revolutionized the way people discover and consume movies. According to Anish Gulati (2023), recommender systems can be classified as content-based and collaborative-filtering. Content-based filtering uses the similarities of movies to recommend new movies, while collaborative-filtering uses the user’s behavior and ratings to recommend new movies.\n",
    "\n",
    "The dynamic nature of the entertainment industry, coupled with the vast and ever-growing library of movies, necessitates continuous innovation in recommendation techniques. According to Popflick, approximately 700 movies on average are released yearly. While content-based and collaborative-filtering methods have proven effective, the exploration of alternative approaches is crucial to further enhance the precision and personalization of movie recommendations.\n",
    "\n",
    "In this context, our study is motivated by the recognition that Information Retrieval (IR) offers a promising avenue for improving movie recommendation systems. Information Retrieval, a field known for efficiently retrieving relevant information from large datasets, has demonstrated success in various domains. However, its application in the realm of movie recommendations remains an area of exploration, and its potential benefits are yet to be fully realized.</p>\n",
    "\n",
    "[Back to TOC](#TContents)"
   ]
  },
  {
   "cell_type": "markdown",
   "id": "9fb581d1-049b-4f26-bca9-3a82530cde71",
   "metadata": {
    "execution": {
     "iopub.execute_input": "2023-11-20T13:28:49.419070Z",
     "iopub.status.busy": "2023-11-20T13:28:49.418564Z",
     "iopub.status.idle": "2023-11-20T13:28:49.426534Z",
     "shell.execute_reply": "2023-11-20T13:28:49.424929Z",
     "shell.execute_reply.started": "2023-11-20T13:28:49.419025Z"
    },
    "tags": []
   },
   "source": [
    "<a id='DataSrc'></a>\n",
    "<h1 style=\"color:#ffffff; background-color:#E44728; border: 1px solid #ffffff; padding: 10px 10px 10px 10px;\">III. DATA SOURCE</h1>"
   ]
  },
  {
   "cell_type": "markdown",
   "id": "0d769639-020a-47bf-b8b0-99d76532a90a",
   "metadata": {},
   "source": [
    "<h2 style=\"color: #5BC461\">Data Source and Description</h2>\n",
    "<p>Our primary data source for this study is Rotten Tomatoes, a reputable online platform for movie and TV show reviews. We extracted details for our analysis from Rotten Tomatoes' list of Top 2023 Movies. This included scraping information such as movie synopsis, critic reviews, and genres.</p>"
   ]
  },
  {
   "cell_type": "markdown",
   "id": "0392941c-381a-4fb6-9927-3df38624a443",
   "metadata": {},
   "source": [
    "In this study, we focused on a curated dataset comprising 128 movies. These selections were drawn from the Top 2023 Movies list available on Rotten Tomatoes' editorial page (`https://editorial.rottentomatoes.com/guide/best-movies-of-2023/`). For each movie, we collected pertinent details by scraping information from its respective Rotten Tomatoes page, exemplified by: `https://www.rottentomatoes.com/m/the_first_slam_dunk`.\n",
    "\n",
    "To acquire all the details of the movies, the function `get_all_movie_info` is used."
   ]
  },
  {
   "cell_type": "code",
   "execution_count": 274,
   "id": "c400dc07-9396-42bf-8f4b-acf032e0664b",
   "metadata": {
    "execution": {
     "iopub.execute_input": "2023-11-23T21:07:49.727585Z",
     "iopub.status.busy": "2023-11-23T21:07:49.727301Z",
     "iopub.status.idle": "2023-11-23T21:08:01.433641Z",
     "shell.execute_reply": "2023-11-23T21:08:01.432055Z",
     "shell.execute_reply.started": "2023-11-23T21:07:49.727559Z"
    },
    "tags": []
   },
   "outputs": [],
   "source": [
    "%%capture\n",
    "movies =  get_all_movie_info();"
   ]
  },
  {
   "cell_type": "markdown",
   "id": "44ce6122-5157-4e98-b004-ea2eeb0bdc06",
   "metadata": {},
   "source": [
    "The following were the gathered features or columns for the preliminary dataframe:\n",
    "\n",
    "<p><b>Table 1.</b></p>\n",
    "<p><i>Columns of Preliminary DataFrame</i></p>\n",
    "\n",
    "<table>\n",
    "    <tr style=\"color:#ffffff; background-color:#E44728\">\n",
    "        <th style=\"text-align: left\">No.</th>\n",
    "        <th style=\"text-align: left\">Column</th>\n",
    "        <th style=\"text-align: left\">Description</th>\n",
    "        <th style=\"text-align: left\">Data Type</th>\n",
    "    </tr>\n",
    "    <tr>\n",
    "        <td style=\"text-align: left\">1.</td>\n",
    "        <td style=\"text-align: left; font-weight: bold;\">Title</td>\n",
    "        <td style=\"text-align: left\">title of the movie</td>\n",
    "        <td style=\"text-align: left\">string</td>\n",
    "    </tr>\n",
    "    <tr>\n",
    "        <td style=\"text-align: left\">2.</td>\n",
    "        <td style=\"text-align: left; font-weight: bold;\">Synopsis</td>\n",
    "        <td style=\"text-align: left\">synopsis of the movie, which would be converted to bag-of-words</td>\n",
    "        <td style=\"text-align: left\">string</td>\n",
    "    </tr>\n",
    "    <tr>\n",
    "        <td style=\"text-align: left\">3.</td>\n",
    "        <td style=\"text-align: left; font-weight: bold;\">Runtime</td>\n",
    "        <td style=\"text-align: left\">runtime of the movie, in minutes</td>\n",
    "        <td style=\"text-align: left\">int</td>\n",
    "    </tr>\n",
    "    <tr>\n",
    "        <td style=\"text-align: left\">4.</td>\n",
    "        <td style=\"text-align: left; font-weight: bold;\">Critic</td>\n",
    "        <td style=\"text-align: left\">the concatenated review for the movie of the different Top Critics of Rotten Tomatoes,  which would be converted to bag-of-words</td>\n",
    "        <td style=\"text-align: left\">string</td>\n",
    "    </tr>\n",
    "    <tr>\n",
    "        <td style=\"text-align: left\">5.</td>\n",
    "        <td style=\"text-align: left; font-weight: bold;\">Genre</td>\n",
    "        <td style=\"text-align: left\">genre/s of the movies, which would soon be one-hot encoded with the prefix ‘g_’ (eg. g_drama, g_comedy)</td>\n",
    "        <td style=\"text-align: left\">string</td>\n",
    "    </tr>\n",
    "    <tr>\n",
    "        <td style=\"text-align: left\">6.</td>\n",
    "        <td style=\"text-align: left; font-weight: bold;\">Language</td>\n",
    "        <td style=\"text-align: left\">language of the film, which would soon be one-hot encoded with the prefix ‘lang_’ (eg. lang_english, lang_french)</td>\n",
    "        <td style=\"text-align: left\">string</td>\n",
    "    </tr>\n",
    "</table>"
   ]
  },
  {
   "cell_type": "markdown",
   "id": "3ef1a24c-763f-4f79-90bc-c7c352b2e4e4",
   "metadata": {},
   "source": [
    "<h2 style=\"color: #5BC461\">Data Assumptions and Limitations</h2>\n",
    "<p>For the purposes of the movie recommender system, the dataset would only include the 128 top-ranking movies in 2023 listed by Rotten Tomatoes in their article. Hence, the similar movies returned by the system would only be movies from 2023, and thus, it could be assumed that the distribution of the movie genres is not equally distributed. This means that some genre may be less represented in the dataset, and vice-versa, which may consequentially cause some queries to return few relevant results. </p>\n",
    "<p>Still, the decision to limit our dataset to 128 movies was made to ensure practicality in measuring the effectiveness of our Information Retrieval (IR) system. This carefully selected subset allows for a focused and in-depth analysis, enhancing the precision and feasibility of our evaluation.</p>"
   ]
  },
  {
   "cell_type": "markdown",
   "id": "37e2c686-db36-47dc-84b6-7d753096985c",
   "metadata": {},
   "source": [
    "<h2 style=\"color: #5BC461\">Database Creation</h2>"
   ]
  },
  {
   "cell_type": "markdown",
   "id": "0a27845f-7c7f-422a-8af3-79cd4465713f",
   "metadata": {},
   "source": [
    "As a preliminary processing, the multi-class categorical features of the dataframe `movies` which are `genre` and `language` is then one-hot encoded using the function `one_hot_encode`."
   ]
  },
  {
   "cell_type": "code",
   "execution_count": 275,
   "id": "a28ecd81-3842-4827-90de-2033562eb0ad",
   "metadata": {
    "execution": {
     "iopub.execute_input": "2023-11-23T21:08:01.434950Z",
     "iopub.status.busy": "2023-11-23T21:08:01.434714Z",
     "iopub.status.idle": "2023-11-23T21:08:01.463074Z",
     "shell.execute_reply": "2023-11-23T21:08:01.462041Z",
     "shell.execute_reply.started": "2023-11-23T21:08:01.434926Z"
    },
    "tags": []
   },
   "outputs": [],
   "source": [
    "movies = one_hot_encode(movies)"
   ]
  },
  {
   "cell_type": "markdown",
   "id": "f80a7341-015c-48c8-8707-d7a49e61a196",
   "metadata": {
    "execution": {
     "iopub.execute_input": "2023-11-20T15:05:06.225305Z",
     "iopub.status.busy": "2023-11-20T15:05:06.224795Z",
     "iopub.status.idle": "2023-11-20T15:05:06.233170Z",
     "shell.execute_reply": "2023-11-20T15:05:06.231451Z",
     "shell.execute_reply.started": "2023-11-20T15:05:06.225260Z"
    },
    "tags": []
   },
   "source": [
    "The collected data from each HTML file are then inserted into a database as a table named `movie_encoded` in the database entitled `rotten_tomatoes.db`. The team used the following code to do this:"
   ]
  },
  {
   "cell_type": "markdown",
   "id": "46dc99cf-9de8-40e6-a433-b6a82f7ea6cf",
   "metadata": {},
   "source": [
    "```python\n",
    "# Convert the dataframe into a table inside a SQL database\n",
    "movie_sql(movies)\n",
    "```"
   ]
  },
  {
   "cell_type": "code",
   "execution_count": 276,
   "id": "3e9915e7-ea30-4e34-9493-625f43c0972b",
   "metadata": {
    "execution": {
     "iopub.execute_input": "2023-11-23T21:08:01.464157Z",
     "iopub.status.busy": "2023-11-23T21:08:01.463941Z",
     "iopub.status.idle": "2023-11-23T21:08:01.534347Z",
     "shell.execute_reply": "2023-11-23T21:08:01.532892Z",
     "shell.execute_reply.started": "2023-11-23T21:08:01.464137Z"
    },
    "tags": []
   },
   "outputs": [],
   "source": [
    "movie_sql(movies)"
   ]
  },
  {
   "cell_type": "markdown",
   "id": "dcbf7e6f-45b0-4173-9707-041876054edc",
   "metadata": {
    "execution": {
     "iopub.execute_input": "2023-11-20T14:48:54.335409Z",
     "iopub.status.busy": "2023-11-20T14:48:54.334721Z",
     "iopub.status.idle": "2023-11-20T14:48:54.342857Z",
     "shell.execute_reply": "2023-11-20T14:48:54.341536Z",
     "shell.execute_reply.started": "2023-11-20T14:48:54.335362Z"
    },
    "tags": []
   },
   "source": [
    "[Back to TOC](#TContents)"
   ]
  },
  {
   "cell_type": "markdown",
   "id": "13f5e280-27fd-4729-b4fe-32958864a6b3",
   "metadata": {
    "execution": {
     "iopub.execute_input": "2023-11-20T13:35:50.889731Z",
     "iopub.status.busy": "2023-11-20T13:35:50.889201Z",
     "iopub.status.idle": "2023-11-20T13:35:50.897407Z",
     "shell.execute_reply": "2023-11-20T13:35:50.895723Z",
     "shell.execute_reply.started": "2023-11-20T13:35:50.889686Z"
    },
    "tags": []
   },
   "source": [
    "<a id='DataExp'></a>\n",
    "<h1 style=\"color:#ffffff; background-color:#E44728; border: 1px solid #ffffff; padding: 10px 10px 10px 10px;\">IV. DATA EXPLORATION</h1>"
   ]
  },
  {
   "cell_type": "markdown",
   "id": "1992c6ea-5534-48de-9bb1-d0eb5c5bc308",
   "metadata": {},
   "source": [
    "<h2 style=\"color: #5BC461\">Data Cleaning</h2>"
   ]
  },
  {
   "cell_type": "markdown",
   "id": "0c16b6c6-48c4-46df-a29f-7702395ec432",
   "metadata": {},
   "source": [
    "First, the table `movies_encoded` from the `rotten_tomatoes.db` is loaded using the function `load_sql`. A preview of the table is shown below."
   ]
  },
  {
   "cell_type": "code",
   "execution_count": 277,
   "id": "ea032128-67f7-46f1-bc61-671091b73eb6",
   "metadata": {
    "execution": {
     "iopub.execute_input": "2023-11-23T21:08:01.535405Z",
     "iopub.status.busy": "2023-11-23T21:08:01.535180Z",
     "iopub.status.idle": "2023-11-23T21:08:01.550804Z",
     "shell.execute_reply": "2023-11-23T21:08:01.549156Z",
     "shell.execute_reply.started": "2023-11-23T21:08:01.535387Z"
    },
    "tags": []
   },
   "outputs": [],
   "source": [
    "%%capture\n",
    "movies = load_sql()"
   ]
  },
  {
   "cell_type": "markdown",
   "id": "d36f2227-f201-40c7-b4f0-67198471449d",
   "metadata": {},
   "source": [
    "<p><b>Table 2.</b></p>\n",
    "<p><i>Preview of the DataFrame</i></p>"
   ]
  },
  {
   "cell_type": "code",
   "execution_count": 278,
   "id": "0ca8a980-bdd5-4caa-a06d-aec82ce27b44",
   "metadata": {
    "execution": {
     "iopub.execute_input": "2023-11-23T21:08:01.551822Z",
     "iopub.status.busy": "2023-11-23T21:08:01.551611Z",
     "iopub.status.idle": "2023-11-23T21:08:01.574233Z",
     "shell.execute_reply": "2023-11-23T21:08:01.573147Z",
     "shell.execute_reply.started": "2023-11-23T21:08:01.551802Z"
    },
    "tags": []
   },
   "outputs": [
    {
     "data": {
      "text/html": [
       "<div>\n",
       "<style scoped>\n",
       "    .dataframe tbody tr th:only-of-type {\n",
       "        vertical-align: middle;\n",
       "    }\n",
       "\n",
       "    .dataframe tbody tr th {\n",
       "        vertical-align: top;\n",
       "    }\n",
       "\n",
       "    .dataframe thead th {\n",
       "        text-align: right;\n",
       "    }\n",
       "</style>\n",
       "<table border=\"1\" class=\"dataframe\">\n",
       "  <thead>\n",
       "    <tr style=\"text-align: right;\">\n",
       "      <th></th>\n",
       "      <th>title</th>\n",
       "      <th>synopsis</th>\n",
       "      <th>runtime</th>\n",
       "      <th>critic</th>\n",
       "      <th>g_action</th>\n",
       "      <th>g_adventure</th>\n",
       "      <th>g_animation</th>\n",
       "      <th>g_anime</th>\n",
       "      <th>g_biography</th>\n",
       "      <th>g_comedy</th>\n",
       "      <th>...</th>\n",
       "      <th>lang_french (canada)</th>\n",
       "      <th>lang_french (france)</th>\n",
       "      <th>lang_german</th>\n",
       "      <th>lang_italian</th>\n",
       "      <th>lang_japanese</th>\n",
       "      <th>lang_korean</th>\n",
       "      <th>lang_norwegian</th>\n",
       "      <th>lang_romanian</th>\n",
       "      <th>lang_spanish</th>\n",
       "      <th>lang_urdu</th>\n",
       "    </tr>\n",
       "  </thead>\n",
       "  <tbody>\n",
       "    <tr>\n",
       "      <th>0</th>\n",
       "      <td>Afire</td>\n",
       "      <td>\\n                    While vacationing by the...</td>\n",
       "      <td>103</td>\n",
       "      <td>The script, also by director Christian Petzold...</td>\n",
       "      <td>0</td>\n",
       "      <td>0</td>\n",
       "      <td>0</td>\n",
       "      <td>0</td>\n",
       "      <td>0</td>\n",
       "      <td>1</td>\n",
       "      <td>...</td>\n",
       "      <td>0</td>\n",
       "      <td>0</td>\n",
       "      <td>1</td>\n",
       "      <td>0</td>\n",
       "      <td>0</td>\n",
       "      <td>0</td>\n",
       "      <td>0</td>\n",
       "      <td>0</td>\n",
       "      <td>0</td>\n",
       "      <td>0</td>\n",
       "    </tr>\n",
       "    <tr>\n",
       "      <th>1</th>\n",
       "      <td>A Thousand and One</td>\n",
       "      <td>\\n                    A THOUSAND AND ONE follo...</td>\n",
       "      <td>117</td>\n",
       "      <td>The director maps the contours of a destabilis...</td>\n",
       "      <td>0</td>\n",
       "      <td>0</td>\n",
       "      <td>0</td>\n",
       "      <td>0</td>\n",
       "      <td>0</td>\n",
       "      <td>0</td>\n",
       "      <td>...</td>\n",
       "      <td>0</td>\n",
       "      <td>0</td>\n",
       "      <td>0</td>\n",
       "      <td>0</td>\n",
       "      <td>0</td>\n",
       "      <td>0</td>\n",
       "      <td>0</td>\n",
       "      <td>0</td>\n",
       "      <td>0</td>\n",
       "      <td>0</td>\n",
       "    </tr>\n",
       "    <tr>\n",
       "      <th>2</th>\n",
       "      <td>A Million Miles Away</td>\n",
       "      <td>\\n                    Inspired by the real-lif...</td>\n",
       "      <td>121</td>\n",
       "      <td>A Million Miles Away doesn’t exactly zoom past...</td>\n",
       "      <td>0</td>\n",
       "      <td>0</td>\n",
       "      <td>0</td>\n",
       "      <td>0</td>\n",
       "      <td>1</td>\n",
       "      <td>0</td>\n",
       "      <td>...</td>\n",
       "      <td>0</td>\n",
       "      <td>0</td>\n",
       "      <td>0</td>\n",
       "      <td>0</td>\n",
       "      <td>0</td>\n",
       "      <td>0</td>\n",
       "      <td>0</td>\n",
       "      <td>0</td>\n",
       "      <td>0</td>\n",
       "      <td>0</td>\n",
       "    </tr>\n",
       "  </tbody>\n",
       "</table>\n",
       "<p>3 rows × 45 columns</p>\n",
       "</div>"
      ],
      "text/plain": [
       "                  title                                           synopsis  \\\n",
       "0                 Afire  \\n                    While vacationing by the...   \n",
       "1    A Thousand and One  \\n                    A THOUSAND AND ONE follo...   \n",
       "2  A Million Miles Away  \\n                    Inspired by the real-lif...   \n",
       "\n",
       "   runtime                                             critic  g_action  \\\n",
       "0      103  The script, also by director Christian Petzold...         0   \n",
       "1      117  The director maps the contours of a destabilis...         0   \n",
       "2      121  A Million Miles Away doesn’t exactly zoom past...         0   \n",
       "\n",
       "   g_adventure  g_animation  g_anime  g_biography  g_comedy  ...  \\\n",
       "0            0            0        0            0         1  ...   \n",
       "1            0            0        0            0         0  ...   \n",
       "2            0            0        0            1         0  ...   \n",
       "\n",
       "   lang_french (canada)  lang_french (france)  lang_german  lang_italian  \\\n",
       "0                     0                     0            1             0   \n",
       "1                     0                     0            0             0   \n",
       "2                     0                     0            0             0   \n",
       "\n",
       "   lang_japanese  lang_korean  lang_norwegian  lang_romanian  lang_spanish  \\\n",
       "0              0            0               0              0             0   \n",
       "1              0            0               0              0             0   \n",
       "2              0            0               0              0             0   \n",
       "\n",
       "   lang_urdu  \n",
       "0          0  \n",
       "1          0  \n",
       "2          0  \n",
       "\n",
       "[3 rows x 45 columns]"
      ]
     },
     "execution_count": 278,
     "metadata": {},
     "output_type": "execute_result"
    }
   ],
   "source": [
    "movies.head(3)"
   ]
  },
  {
   "cell_type": "markdown",
   "id": "b1e2e331-85c7-41b2-b10f-ca8cdb3856bc",
   "metadata": {},
   "source": [
    "Second, given that the columns `synopsis` and `critic` are essentially documents whose words would need to be parsed one-by-one, they would be converted in bag-of-word format using the function `bag_of_words` which would preprocess them and convert them into bag-of-words afterwards. Two set of dataframes would be acquired from this process, as the team plans to compare using the default settings and the \"optimal\" settings for the vectorizer."
   ]
  },
  {
   "cell_type": "markdown",
   "id": "aa6246ee-4f9a-4987-8df1-0aed762e3743",
   "metadata": {},
   "source": [
    "Third, the IDF of the tokens in the \"optimal\" dataframe would be acquired and ranked using the function `sort_idf`, and the tokens with IDF between 1 and 2 (exclusive) would be removed. Using the function `bag_of_words`, the optimal settings would be used again, while including the removed tokens in the stop words. The two dataframes (default and optimal) are then normalized to their TFIDF values and concatenated back to the main dataframe."
   ]
  },
  {
   "cell_type": "markdown",
   "id": "b7dd8e00-c4d0-46be-8671-5bebab927500",
   "metadata": {},
   "source": [
    "Fourth, given that the values for runtime are far from the values of the other columns and the ranges of the column are only from zero to one, it would be best to use MinMaxScaler as it would limit the range of column from zero to one. However, since the MinMaxScaler is very sensitive to outliers, it would be checked first whether there are several outliers in the dataset or not."
   ]
  },
  {
   "cell_type": "code",
   "execution_count": 279,
   "id": "7bbb568e-a924-4cdb-b0a4-566bcff0eb91",
   "metadata": {
    "execution": {
     "iopub.execute_input": "2023-11-23T21:08:01.575745Z",
     "iopub.status.busy": "2023-11-23T21:08:01.575426Z",
     "iopub.status.idle": "2023-11-23T21:08:01.718925Z",
     "shell.execute_reply": "2023-11-23T21:08:01.717957Z",
     "shell.execute_reply.started": "2023-11-23T21:08:01.575715Z"
    },
    "tags": []
   },
   "outputs": [
    {
     "data": {
      "image/png": "[encoded data removed]",
      "text/plain": [
       "<Figure size 640x480 with 1 Axes>"
      ]
     },
     "metadata": {},
     "output_type": "display_data"
    }
   ],
   "source": [
    "movies.boxplot('runtime', color='green',\n",
    "               flierprops=dict(markeredgecolor='red',\n",
    "                               markerfacecolor='red'))\n",
    "plt.title('Box-Plot of Runtime Column')\n",
    "plt.ylabel('runtime')\n",
    "plt.show()"
   ]
  },
  {
   "cell_type": "markdown",
   "id": "e11e62ac-4b2d-4cab-806f-38a9cb6aab07",
   "metadata": {
    "execution": {
     "iopub.execute_input": "2023-11-21T11:03:12.215706Z",
     "iopub.status.busy": "2023-11-21T11:03:12.215175Z",
     "iopub.status.idle": "2023-11-21T11:03:12.425784Z",
     "shell.execute_reply": "2023-11-21T11:03:12.424727Z",
     "shell.execute_reply.started": "2023-11-21T11:03:12.215660Z"
    },
    "tags": []
   },
   "source": [
    "<center><b>Figure 1.</b> Box-Plot of Runtime Column</center>"
   ]
  },
  {
   "cell_type": "markdown",
   "id": "bc68000f-18a2-4305-85f4-d63e01e281aa",
   "metadata": {},
   "source": [
    "Hence, given that the outliers are only 4 out of 128 and that they are relatively few, the team would push through with using the MinMaxScaler on the `runtime` column."
   ]
  },
  {
   "cell_type": "markdown",
   "id": "232b185f-351e-4cfc-a68f-31f24b8ced7a",
   "metadata": {
    "execution": {
     "iopub.execute_input": "2023-11-20T15:15:27.245339Z",
     "iopub.status.busy": "2023-11-20T15:15:27.244850Z",
     "iopub.status.idle": "2023-11-20T15:15:27.254702Z",
     "shell.execute_reply": "2023-11-20T15:15:27.252811Z",
     "shell.execute_reply.started": "2023-11-20T15:15:27.245295Z"
    },
    "tags": []
   },
   "source": [
    "<h2 style=\"color: #5BC461\">Data Exploration</h2>"
   ]
  },
  {
   "cell_type": "markdown",
   "id": "4075b88f-2b3e-4b33-8ae0-3c7600a2aee9",
   "metadata": {
    "execution": {
     "iopub.execute_input": "2023-11-22T12:43:22.353868Z",
     "iopub.status.busy": "2023-11-22T12:43:22.352965Z",
     "iopub.status.idle": "2023-11-22T12:43:22.377600Z",
     "shell.execute_reply": "2023-11-22T12:43:22.375932Z",
     "shell.execute_reply.started": "2023-11-22T12:43:22.353790Z"
    },
    "tags": []
   },
   "source": [
    "In the dynamic and diverse world of cinema, Exploratory Data Analysis (EDA) serves as a crucial first step in understanding the underlying patterns and trends that shape the movie industry. Our analytical journey in 2023 begins with a thorough examination of the Rotten Tomatoes database, where each movie serves as a unique narrative entity contributing to the vast cinematic landscape. The EDA process in this context encompasses several key steps, each providing vital insights into different aspects of the movie data.\n",
    "\n",
    "- <u>**Runtime Distribution Analysis**</u>: We delve into the exploration of movie runtimes, a critical aspect that often influences audience preferences and perceptions. This involves plotting the distribution of runtimes, providing insights into common lengths and deviations.\n",
    "\n",
    "- <u>**Category Distribution Exploration**</u>: The analysis of movie categories unfolds the diversity in thematic content and narrative styles. This step includes a detailed look at the frequency and prevalence of various movie categories within our dataset.\n",
    "\n",
    "- <u>**Genre Distribution Analysis**</u>: Finally, we analyze the distribution of movie genres, an aspect that reflects the creative and artistic choices in film-making. This analysis not only highlights popular genres but also uncovers less explored ones, revealing the breadth and depth of cinematic expression in 2023.\n",
    "\n",
    "- <u>**Language Distribution Assessment**</u>: Movies are often defined by their language, an element that resonates cultural and regional nuances. We examine the distribution of movie languages, offering a glimpse into the linguistic diversity present in the 2023 movie lineup.\n",
    "\n",
    "Through these EDA steps, we aim to build a comprehensive understanding of the movies released in 2023. This analysis not only aids in appreciating the current trends and preferences in the film industry but also sets the stage for more advanced analytical tasks, such as similarity assessments and predictive modeling, in our quest to explore the cinematic universe of 2023."
   ]
  },
  {
   "cell_type": "markdown",
   "id": "e93e26f6-576f-41d0-b4bd-d12ccad5c237",
   "metadata": {},
   "source": [
    "<h3>Runtime Distribution</h3>"
   ]
  },
  {
   "cell_type": "code",
   "execution_count": 280,
   "id": "7b955810-1b3b-4fe2-943f-c8210912f2a2",
   "metadata": {
    "execution": {
     "iopub.execute_input": "2023-11-23T21:08:01.720083Z",
     "iopub.status.busy": "2023-11-23T21:08:01.719862Z",
     "iopub.status.idle": "2023-11-23T21:08:01.904093Z",
     "shell.execute_reply": "2023-11-23T21:08:01.903142Z",
     "shell.execute_reply.started": "2023-11-23T21:08:01.720062Z"
    },
    "tags": []
   },
   "outputs": [
    {
     "data": {
      "image/png": "[encoded data removed]",
      "text/plain": [
       "<Figure size 1000x600 with 1 Axes>"
      ]
     },
     "metadata": {},
     "output_type": "display_data"
    }
   ],
   "source": [
    "warnings.filterwarnings(\"ignore\", category=FutureWarning)\n",
    "\n",
    "df = movies\n",
    "\n",
    "bin_ranges = [0, 30, 60, 90, 120, 150, 180, 210, 240, 270, 300]\n",
    "bin_labels = ['0-30', '31-60', '61-90', '91-120', '121-150',\n",
    "              '151-180', '181-210', '211-240', '241-270', '271-300']\n",
    "\n",
    "df['runtime_bins'] = pd.cut(\n",
    "    df['runtime'], bins=bin_ranges, labels=bin_labels, right=False)\n",
    "\n",
    "runtime_counts = df['runtime_bins'].value_counts().sort_index()\n",
    "\n",
    "\n",
    "top_colors = ['#B74325' if 1 < i < 5 else '#FAE3A6'\n",
    "              for i in range(len(runtime_counts))]\n",
    "\n",
    "plt.figure(figsize=(10, 6))\n",
    "sns.barplot(x=runtime_counts.index, y=runtime_counts.values,\n",
    "            palette=top_colors)\n",
    "\n",
    "plt.xticks(rotation=45)\n",
    "plt.xlabel('Runtime (minutes)')\n",
    "plt.ylabel('Number of Movies')\n",
    "plt.title('Distribution of Movie Runtimes')\n",
    "\n",
    "plt.show()"
   ]
  },
  {
   "cell_type": "markdown",
   "id": "40e78ab3-6cca-4f1c-90ff-87ac9025a37a",
   "metadata": {},
   "source": [
    "<center><b>Figure 2.</b> Distribution of Movie Runtimes</center>"
   ]
  },
  {
   "cell_type": "markdown",
   "id": "c5cc0fb1-56fd-434a-93ab-5fd8006430d2",
   "metadata": {},
   "source": [
    "#### The analysis of the runtime distribution highlights a clear inclination towards feature-length films of approximately **<u>1.5 to 2 hours**</u>, with a limited but notable acceptance of longer films up to about **2.5 hours**. **<u>Extremely short and very long films</u>** appear to be outliers, indicating their specialized roles within the broader landscape of the film industry.\n",
    "\n",
    "- **Dominance of Standard Feature-Length Films**: A significant portion of the movies, particularly 86 out of the total, predominantly fall within the 91-120 minutes runtime range. This trend underscores a strong preference for standard feature-length films, which typically align with the audience's attention span and narrative development needs.\n",
    "\n",
    "- **Niche Presence of Short and Extended Films**: The dataset reveals a minimal presence of extremely short (0-30 minutes, with only 2 films) and notably long films (151-180 minutes with 4 films, and 181-210 minutes with 1 film). This suggests that films deviating significantly from the standard duration are less common, catering to niche audiences or specific cinematic purposes.\n",
    "\n",
    "- **Moderate Acceptance of Longer Narratives**: Films within the 121-150 minutes range, totaling 19, exhibit a moderate level of prevalence. This could reflect the industry's inclination towards more elaborate storytelling, potentially in genres that demand detailed plot development.\n",
    "\n",
    "- **Absence of Ultra-Long Films**: The dataset shows no films exceeding 210 minutes, indicating the rarity of ultra-long cinematic experiences in mainstream cinema. Such lengths are likely reserved for unique or specialized film genres.\n",
    "\n",
    "- **Clear Demarcation Between Film Categories**: The complete absence of films in the 31-60 minutes range points to a distinct separation between short films and feature-length films. This gap aligns with established industry norms and audience expectations regarding the categorization of film lengths."
   ]
  },
  {
   "cell_type": "markdown",
   "id": "43f8e8b2-dd4f-4547-ae1c-6744a37497d7",
   "metadata": {},
   "source": [
    "<h3>Movie Category Analysis</h3>"
   ]
  },
  {
   "cell_type": "code",
   "execution_count": 281,
   "id": "070e3317-2924-4e00-b06f-564442b314b6",
   "metadata": {
    "execution": {
     "iopub.execute_input": "2023-11-23T21:08:01.905315Z",
     "iopub.status.busy": "2023-11-23T21:08:01.905087Z",
     "iopub.status.idle": "2023-11-23T21:08:02.605823Z",
     "shell.execute_reply": "2023-11-23T21:08:02.604820Z",
     "shell.execute_reply.started": "2023-11-23T21:08:01.905294Z"
    },
    "tags": []
   },
   "outputs": [
    {
     "data": {
      "image/png": "[encoded data removed]",
      "text/plain": [
       "<Figure size 1000x1500 with 1 Axes>"
      ]
     },
     "metadata": {},
     "output_type": "display_data"
    }
   ],
   "source": [
    "warnings.filterwarnings(\"ignore\", category=FutureWarning)\n",
    "\n",
    "cat = movies.loc[:, 'g_action':'g_western']\n",
    "cat.columns = [re.sub(r'g_', '', i) for i in cat.columns]\n",
    "\n",
    "lst_categories = []\n",
    "\n",
    "for index, row in cat.iterrows():\n",
    "    category = []\n",
    "    for column in cat.columns:\n",
    "        if row[column] == 1:\n",
    "            category.append(column)\n",
    "    categories = ', '.join(category)\n",
    "    lst_categories.append(categories)\n",
    "\n",
    "cat['categories'] = lst_categories\n",
    "\n",
    "category_counts = cat['categories'].value_counts()\n",
    "\n",
    "top_colors = ['#B74325' if i < 5 else '#FAE3A6'\n",
    "              for i in range(len(category_counts))]\n",
    "\n",
    "plt.figure(figsize=(10, 15))\n",
    "sns.barplot(y=category_counts.index, x=category_counts.values,\n",
    "            palette=top_colors, orient='h')\n",
    "\n",
    "plt.xticks(rotation=0, ha='right')\n",
    "plt.xlabel('Number of Movies')\n",
    "plt.ylabel('Categories')\n",
    "plt.title('Distribution of Movie Categories (Top 10)')\n",
    "\n",
    "plt.tight_layout()\n",
    "plt.show()"
   ]
  },
  {
   "cell_type": "markdown",
   "id": "f424e904-d21c-4ed4-b4ae-cbcd5811f710",
   "metadata": {},
   "source": [
    "<center><b>Figure 3.</b> Distribution of Movie Categories</center>"
   ]
  },
  {
   "cell_type": "markdown",
   "id": "c8179167-3c2e-4acf-aa90-dce2de4c3114",
   "metadata": {
    "execution": {
     "iopub.execute_input": "2023-11-22T12:49:04.896817Z",
     "iopub.status.busy": "2023-11-22T12:49:04.896052Z",
     "iopub.status.idle": "2023-11-22T12:49:04.917372Z",
     "shell.execute_reply": "2023-11-22T12:49:04.915591Z",
     "shell.execute_reply.started": "2023-11-22T12:49:04.896753Z"
    },
    "tags": []
   },
   "source": [
    "#### The category distribution in the dataset demonstrates a rich tapestry of cinematic genres, with a strong inclination towards <u>**drama, hybrid genres, and suspenseful narratives**</u>. The presence of diverse genre combinations suggests an industry that is continually evolving and experimenting, aiming to cater to a wide array of audience preferences and tastes.\n",
    "\n",
    "- **Predominance of Drama**: The single most prevalent category is 'drama,' with 24 films, highlighting its enduring appeal. Drama, known for its depth and emotional complexity, remains a cornerstone genre in the film industry.\n",
    "\n",
    "- **Hybrid Genres Gaining Traction**: There is a notable presence of hybrid genres, such as 'drama, mystery&thriller' and 'comedy, drama', each with 9 films. This trend signifies a growing interest in films that blend elements from multiple genres, offering more nuanced and multifaceted cinematic experiences.\n",
    "\n",
    "- **Horror and Mystery Fusion**: The combination of 'horror' with 'mystery&thriller' appears frequently, with 7 films falling into this combined category. Additionally, there are 4 films that blend 'horror, mystery&thriller, sci-fi', suggesting a strong audience interest in suspenseful and speculative narratives.\n",
    "\n",
    "- **Diverse Combinations with Comedy**: 'Comedy' appears in various combinations, reflecting its versatility as a genre. It is seen paired with 'drama', 'horror', and even 'sci-fi', indicating a tendency to infuse humor into various narrative contexts.\n",
    "\n",
    "- **LGBTQ+ Representation**: Films categorizing under 'drama, lgbtq+, romance' and similar combinations, although fewer in number, show an inclusion of LGBTQ+ themes in mainstream cinema. This represents a progressive move towards more diverse and representative storytelling.\n",
    "\n",
    "- **Action and Mystery**: 'Action, mystery&thriller' is another popular combination, with 2 films. This blend suggests a continued audience interest in high-adrenaline, suspense-filled narratives.\n",
    "\n",
    "- **Unique One-Off Combinations**: Several categories appear only once, such as 'biography, drama, history, music' and 'action, war'. These unique combinations indicate experimentation and niche filmmaking within the industry.\n",
    "\n",
    "- **Animation and Family Films**: There is also a presence of 'animation' and 'kids&family' genres, sometimes combined with 'comedy' and 'adventure', highlighting the industry's focus on family-friendly entertainment.\n",
    "\n",
    "\n",
    "\n"
   ]
  },
  {
   "cell_type": "markdown",
   "id": "11e78c4b-23f0-4c94-8f28-affc9eb7361c",
   "metadata": {
    "execution": {
     "iopub.execute_input": "2023-11-23T18:18:35.146321Z",
     "iopub.status.busy": "2023-11-23T18:18:35.145578Z",
     "iopub.status.idle": "2023-11-23T18:18:35.157226Z",
     "shell.execute_reply": "2023-11-23T18:18:35.154789Z",
     "shell.execute_reply.started": "2023-11-23T18:18:35.146258Z"
    },
    "tags": []
   },
   "source": [
    "<h3>Movie Genre Breakdown</h3>"
   ]
  },
  {
   "cell_type": "code",
   "execution_count": 282,
   "id": "e26092cd-c756-4a34-8505-981251754ad7",
   "metadata": {
    "execution": {
     "iopub.execute_input": "2023-11-23T21:08:02.607130Z",
     "iopub.status.busy": "2023-11-23T21:08:02.606893Z",
     "iopub.status.idle": "2023-11-23T21:08:02.898453Z",
     "shell.execute_reply": "2023-11-23T21:08:02.897450Z",
     "shell.execute_reply.started": "2023-11-23T21:08:02.607109Z"
    },
    "tags": []
   },
   "outputs": [
    {
     "data": {
      "image/png": "[encoded data removed]",
      "text/plain": [
       "<Figure size 1000x600 with 1 Axes>"
      ]
     },
     "metadata": {},
     "output_type": "display_data"
    }
   ],
   "source": [
    "genres = movies.loc[:, 'g_action':'g_western']\n",
    "genres.columns = [re.sub(r'g_', '', i) for i in genres.columns]\n",
    "\n",
    "genres = genres.sum(axis=0)\n",
    "genres = genres.sort_values(ascending=False)\n",
    "\n",
    "top_colors = ['#B74325' if i < 5 else '#FAE3A6'\n",
    "              for i in range(len(genres))]\n",
    "\n",
    "plt.figure(figsize=(10, 6))\n",
    "sns.barplot(y=genres.index, x=genres.values,\n",
    "            palette=top_colors, orient=\"h\")\n",
    "\n",
    "plt.xticks(rotation=0)\n",
    "plt.xlabel(\"Number of Movies\")\n",
    "plt.ylabel(\"Genre\")\n",
    "plt.title(\"Distribution of Movie Genres\")\n",
    "\n",
    "plt.show()"
   ]
  },
  {
   "cell_type": "markdown",
   "id": "351a6837-de0d-4b69-a49f-0b47fa31d3bb",
   "metadata": {
    "execution": {
     "iopub.execute_input": "2023-11-22T12:52:20.514053Z",
     "iopub.status.busy": "2023-11-22T12:52:20.513333Z",
     "iopub.status.idle": "2023-11-22T12:52:20.524769Z",
     "shell.execute_reply": "2023-11-22T12:52:20.522542Z",
     "shell.execute_reply.started": "2023-11-22T12:52:20.513991Z"
    },
    "tags": []
   },
   "source": [
    "<center><b>Figure 4.</b> Distribution of Movie Genres</center>"
   ]
  },
  {
   "cell_type": "markdown",
   "id": "33d16d35-9f23-448d-9de3-fc291fa3ecd9",
   "metadata": {},
   "source": [
    "#### The genre distribution in the dataset, where each genre is treated as a unique category without combinations, reflects a diverse cinematic palette, with drama and comedy at the forefront, followed by a strong interest in mystery, thriller, and horror. The presence of a wide array of other genres, though less frequent, underscores the industry's capacity to cater to varied and specific audience tastes and preferences.\n",
    "\n",
    "- **Dominance of Drama**: With 80 films categorized under 'g_drama', this genre emerges as the most predominant. Drama's preeminence underscores its universal appeal and versatility in storytelling, capable of encompassing a wide range of human experiences and emotions.\n",
    "\n",
    "- **Strong Presence of Comedy**: 'g_comedy', with 45 films, holds a significant position, reflecting the audience's consistent preference for humor and light-hearted entertainment. Comedy's ability to appeal to a broad audience base makes it a perennial favorite.\n",
    "\n",
    "- **Popularity of Mystery and Thriller**: The 'g_mystery&thriller' genre, with 39 films, highlights the audience's inclination towards suspense, intrigue, and excitement. This genre's popularity suggests a strong demand for narratives that provide a sense of suspense and engagement.\n",
    "\n",
    "- **Horror as a Staple Genre**: With 21 films, 'g_horror' maintains its status as a staple genre. The enduring appeal of horror speaks to the audience's fascination with fear, the supernatural, and the unknown.\n",
    "\n",
    "- **Romance Continues to Charm**: 'g_romance', represented by 16 films, continues to charm audiences, showcasing the timeless appeal of love stories and romantic narratives.\n",
    "\n",
    "- **Action and Sci-Fi**: 'g_action' and 'g_sci-fi' genres, with 13 and 11 films respectively, reflect the audience's interest in high-energy, visually impactful, and often technologically driven stories.\n",
    "\n",
    "- **Adventure and Diversity**: 'g_adventure' and 'g_lgbtq+', each with 10 films, indicate a desire for escapism and exploration, as well as a growing recognition of diverse narratives within the mainstream.\n",
    "\n",
    "- **Fantasy and Beyond**: 'g_fantasy', with 8 films, along with other genres like 'g_biography', 'g_history', and 'g_animation', each with a handful of films, suggest niche but dedicated audience interests in imaginative worlds, real-life stories, historical narratives, and animated features.\n",
    "\n",
    "- **Lesser-Represented Genres**: Genres like 'g_crime', 'g_music', 'g_kids&family', and 'g_anime' appear less frequently, indicating more specialized audience segments. Similarly, 'g_holiday', 'g_short', 'g_sports', 'g_musical', 'g_war', and 'g_western', each with 1 or 2 films, represent highly niche categories within the cinematic landscape."
   ]
  },
  {
   "cell_type": "markdown",
   "id": "7c60d05d-2566-41e1-a73b-e72a1cdc38f7",
   "metadata": {
    "execution": {
     "iopub.execute_input": "2023-11-22T12:50:41.609216Z",
     "iopub.status.busy": "2023-11-22T12:50:41.608494Z",
     "iopub.status.idle": "2023-11-22T12:50:41.619418Z",
     "shell.execute_reply": "2023-11-22T12:50:41.617195Z",
     "shell.execute_reply.started": "2023-11-22T12:50:41.609152Z"
    },
    "tags": []
   },
   "source": [
    "<h3>Movie Language Diversity</h3>"
   ]
  },
  {
   "cell_type": "code",
   "execution_count": 283,
   "id": "fd8129d6-d794-42bf-9133-391cbe7d8c53",
   "metadata": {
    "execution": {
     "iopub.execute_input": "2023-11-23T21:08:02.899782Z",
     "iopub.status.busy": "2023-11-23T21:08:02.899551Z",
     "iopub.status.idle": "2023-11-23T21:08:03.150217Z",
     "shell.execute_reply": "2023-11-23T21:08:03.149252Z",
     "shell.execute_reply.started": "2023-11-23T21:08:02.899761Z"
    },
    "tags": []
   },
   "outputs": [
    {
     "data": {
      "image/png": "[encoded data removed]",
      "text/plain": [
       "<Figure size 1000x600 with 1 Axes>"
      ]
     },
     "metadata": {},
     "output_type": "display_data"
    }
   ],
   "source": [
    "lang = movies.loc[:, 'lang_arabic':'lang_urdu']\n",
    "lang.columns = [re.sub(r'lang_', '', i) for i in lang.columns]\n",
    "\n",
    "lang = lang.sum(axis=0)\n",
    "lang = lang.sort_values(ascending=False)\n",
    "\n",
    "top_colors = ['#B74325' if i < 5 else '#FAE3A6'\n",
    "              for i in range(len(lang))]\n",
    "\n",
    "plt.figure(figsize=(10, 6))\n",
    "sns.barplot(y=lang.index, x=lang.values,\n",
    "            palette=top_colors, orient=\"h\")\n",
    "\n",
    "plt.xticks(rotation=0)\n",
    "plt.xlabel(\"Number of Movies\")\n",
    "plt.ylabel(\"Languages\")\n",
    "plt.title(\"Distribution of Movie Languages\")\n",
    "\n",
    "plt.show()"
   ]
  },
  {
   "cell_type": "markdown",
   "id": "73efc69d-52b8-4d74-8d3c-16e62a5a7c1c",
   "metadata": {
    "execution": {
     "iopub.execute_input": "2023-11-22T12:52:44.440774Z",
     "iopub.status.busy": "2023-11-22T12:52:44.439782Z",
     "iopub.status.idle": "2023-11-22T12:52:44.452538Z",
     "shell.execute_reply": "2023-11-22T12:52:44.449587Z",
     "shell.execute_reply.started": "2023-11-22T12:52:44.440673Z"
    },
    "tags": []
   },
   "source": [
    "<center><b>Figure 5.</b> Distribution of Movie Languages</center>"
   ]
  },
  {
   "cell_type": "markdown",
   "id": "829da77b-9d60-4f74-9461-1bc31633c46c",
   "metadata": {},
   "source": [
    "#### The language distribution analysis reveals a strong skew towards English, underscoring its predominant role in the global movie industry. However, the presence of a variety of other languages highlights the rich diversity and multicultural nature of contemporary cinema. This linguistic variety not only represents different cultural perspectives but also showcases the expansive reach and inclusive nature of the film industry, catering to a global audience with varied linguistic backgrounds.\n",
    "\n",
    "- **Overwhelming Dominance of English**: With 89 films, 'English' is the overwhelmingly dominant language, underscoring the global influence and reach of English-language cinema. This prevalence reflects both the large English-speaking audience worldwide and the significant output of major film industries like Hollywood.\n",
    "\n",
    "- **Significant Presence of French Cinema**: 'French (France)' ranks second with 13 films, indicating a strong representation of French cinema. This points to the cultural richness and global appeal of French-language films, known for their artistic and narrative depth.\n",
    "\n",
    "- **Diversity in European and Asian Languages**: Languages like 'Spanish', 'Japanese', 'Italian', 'Arabic', and 'Danish', each with a few films, highlight the diversity of the dataset. These languages represent significant national cinemas that contribute richly to the global tapestry of film.\n",
    "\n",
    "- **English Variants and Regional Films**: The presence of 'English (United Kingdom)' with 3 films and other regional variants like 'French (Canada)' with 1 film, illustrates the linguistic nuances and regional diversity within major languages.\n",
    "\n",
    "- **Representation of Lesser-Known Languages**: Languages such as 'Korean', 'Catalan', 'Finnish', 'Romanian', 'Urdu', 'Filipino', 'Norwegian', and 'German', each with 1 film, though less prevalent, are indicative of the wide range of global cinema. Their inclusion reflects the industry's breadth and the increasing recognition of diverse linguistic narratives.\n",
    "\n",
    "[Back to TOC](#TContents)"
   ]
  },
  {
   "cell_type": "markdown",
   "id": "40629188-a6aa-4a2d-9f47-db1bed490758",
   "metadata": {
    "execution": {
     "iopub.execute_input": "2023-11-20T13:36:44.243426Z",
     "iopub.status.busy": "2023-11-20T13:36:44.242437Z",
     "iopub.status.idle": "2023-11-20T13:36:44.250081Z",
     "shell.execute_reply": "2023-11-20T13:36:44.248667Z",
     "shell.execute_reply.started": "2023-11-20T13:36:44.243387Z"
    },
    "tags": []
   },
   "source": [
    "<a id='Method'></a>\n",
    "<h1 style=\"color:#ffffff; background-color:#E44728; border: 1px solid #ffffff; padding: 10px 10px 10px 10px;\">V. METHODOLOGY</h1>"
   ]
  },
  {
   "cell_type": "markdown",
   "id": "be837b64-836a-4764-a7d0-87b3841921e7",
   "metadata": {},
   "source": [
    "<img src=\"methodology-v2.png\">"
   ]
  },
  {
   "cell_type": "markdown",
   "id": "103b9b31-c7a5-4b4f-a72e-ded75068be65",
   "metadata": {},
   "source": [
    "<h2 style=\"color: #5BC461\">Methodology Overview</h2>"
   ]
  },
  {
   "cell_type": "markdown",
   "id": "fa9018b5-def5-4a01-8d4c-8e1adb1c61ba",
   "metadata": {
    "execution": {
     "iopub.execute_input": "2023-11-21T10:19:41.861267Z",
     "iopub.status.busy": "2023-11-21T10:19:41.860211Z",
     "iopub.status.idle": "2023-11-21T10:19:41.875323Z",
     "shell.execute_reply": "2023-11-21T10:19:41.873998Z",
     "shell.execute_reply.started": "2023-11-21T10:19:41.861210Z"
    },
    "tags": []
   },
   "source": [
    "<p>In creating the Information Retrieval System, the following were done:</p>\n",
    "<p><b>Table 3.</b></p>\n",
    "<p><i>Methodology Framework</i></p>\n",
    "<table>\n",
    "    <tr style=\"color:#ffffff; background-color:#E44728\">\n",
    "        <th style=\"text-align: left\">Step No.</th>\n",
    "        <th style=\"text-align: left\">Step</th>\n",
    "        <th style=\"text-align: left\">Description</th>\n",
    "    </tr>\n",
    "    <tr>\n",
    "        <td style=\"text-align: left\">1.</td>\n",
    "        <td style=\"text-align: left; font-weight: bold;\">Data Extraction</td>\n",
    "        <td style=\"text-align: left\">The team scraped data from the Rotten Tomatoes' website and complied these data into a dataframe which was then saved into a database.</td>\n",
    "    </tr>\n",
    "    <tr>\n",
    "        <td style=\"text-align: left\">2.</td>\n",
    "        <td style=\"text-align: left; font-weight: bold;\">Data Preprocessing</td>\n",
    "        <td style=\"text-align: left\">The team preprocessed the data through one-hot encoding, stemming, common word-normalization, lowercasing of each character, and other relevant preprocessing techniques.</td>\n",
    "    </tr>\n",
    "    <tr>\n",
    "        <td style=\"text-align: left\">3.</td>\n",
    "        <td style=\"text-align: left; font-weight: bold;\">Information Retrieval Creation</td>\n",
    "        <td style=\"text-align: left\">The team tested several distance measures for the system, where the distance measure which would provide the highest IR metric would be used as the final measure.</td>\n",
    "    </tr>\n",
    "    <tr>\n",
    "        <td style=\"text-align: left\">4.</td>\n",
    "        <td style=\"text-align: left; font-weight: bold;\">Evaluation of IR System</td>\n",
    "        <td style=\"text-align: left\">The team evaluated the created IR systems using average (precision @ k), average (recall @k), mean average precision, area under the Averaged Eleven-Point PR curve, and such which would then be discussed afterwards.</td>\n",
    "    </tr>\n",
    "</table>"
   ]
  },
  {
   "cell_type": "markdown",
   "id": "9d9039cc-ff92-4b47-8622-f5c033e23e77",
   "metadata": {
    "execution": {
     "iopub.execute_input": "2023-11-21T10:27:23.835548Z",
     "iopub.status.busy": "2023-11-21T10:27:23.834386Z",
     "iopub.status.idle": "2023-11-21T10:27:23.842809Z",
     "shell.execute_reply": "2023-11-21T10:27:23.841188Z",
     "shell.execute_reply.started": "2023-11-21T10:27:23.835491Z"
    },
    "tags": []
   },
   "source": [
    "<h2 style=\"color: #5BC461\">Data Extraction</h2>"
   ]
  },
  {
   "cell_type": "markdown",
   "id": "f0c23b13-a53d-45e9-a916-75863b95173a",
   "metadata": {},
   "source": [
    "With web scraping, Requests, and BeautifulSoup consolidated in the function `get_all_movie_info`, the team was able to extract movie details from the Rotten Tomatoes movie pages.\n",
    "\n",
    "As said beforehand, the categorical columns, genre and language, were one-hot encoded. This preprocessing is done for easier conversion to SQLite table. In the end, the team have all the details for each movie, detailed in Table 1.\n",
    "   \n",
    "These collected data was placed in a dataframe, and then turned into an SQLite database for exploration and processing through the function `movie_sql`."
   ]
  },
  {
   "cell_type": "markdown",
   "id": "bf7f9b7a-18b6-402f-ade2-502d93bff079",
   "metadata": {
    "execution": {
     "iopub.execute_input": "2023-11-21T11:16:22.901415Z",
     "iopub.status.busy": "2023-11-21T11:16:22.900878Z",
     "iopub.status.idle": "2023-11-21T11:16:22.908645Z",
     "shell.execute_reply": "2023-11-21T11:16:22.907412Z",
     "shell.execute_reply.started": "2023-11-21T11:16:22.901369Z"
    },
    "tags": []
   },
   "source": [
    "<h2 style=\"color: #5BC461\">Data Preprocessing</h2>"
   ]
  },
  {
   "cell_type": "markdown",
   "id": "218934bc-604f-4a8a-81a5-50ec9390dc83",
   "metadata": {},
   "source": [
    "As said beforehand, the table `movies_encoded` from the `rotten_tomatoes.db` is loaded using the function `load_sql`. A preview is shown in Table 2."
   ]
  },
  {
   "cell_type": "code",
   "execution_count": 284,
   "id": "1918ee88-86a0-45a8-98a7-1512fa83adb5",
   "metadata": {
    "execution": {
     "iopub.execute_input": "2023-11-23T21:08:03.151549Z",
     "iopub.status.busy": "2023-11-23T21:08:03.151319Z",
     "iopub.status.idle": "2023-11-23T21:08:03.166097Z",
     "shell.execute_reply": "2023-11-23T21:08:03.165105Z",
     "shell.execute_reply.started": "2023-11-23T21:08:03.151528Z"
    },
    "tags": []
   },
   "outputs": [],
   "source": [
    "%%capture\n",
    "movies = load_sql()"
   ]
  },
  {
   "cell_type": "markdown",
   "id": "da3c5b04-42b6-4b24-bd07-b15ab8e7c032",
   "metadata": {},
   "source": [
    "In pre-processing the data, given that there are columns which are essentially documents or \"collection\" of strings which are `synopsis` and `critic`, these columns would be converted into bag-of-words through the function `bag_of_words`. In doing so, a fitted vectorizer would also be made available. To test the difference in performance between default parameters and \"optimally\" set parameters, the team would be making two dataframes named `movie_default` and `movie_optimal`."
   ]
  },
  {
   "cell_type": "markdown",
   "id": "2736e2a2-de00-49d6-831b-4f0b3efa29ca",
   "metadata": {},
   "source": [
    "In setting the parameters for `movie_optimal`, a preprocesser function named `preprocesser` was defined, wherein it places all the documents into lowercase, removes special characters, normalizes certain common words such as `in`, `the`, and the like, and stems the words through the English Snowball stemmer. The rationale for stemming the words is to allow the Information Retrieval System to \"recognize\" words which are diffent in spelling yet similar in meaning; these includes conjugated words such as `explored` and `exploring`. Furthermore, an ngram_range of (1,2) was set in order to capture meaningful two-word phrases which may help in finding similar movies or differentiating them from one another."
   ]
  },
  {
   "cell_type": "markdown",
   "id": "45271839-22df-4bd8-8af8-d83104d1fd23",
   "metadata": {},
   "source": [
    "Moreover, common stop words acquired from Ganesan (n.d.) were used as stop words, and these include common words such as `another`, `certain`, and such. This is to remove noise from the system and to avoid associating dissimilar movies, by virtue of their similarities in numbers of these stop words. Lastly, to make sure that extremely rare and extremely common words are removed from the system, a max_df of 0.9 is set and a min_df of 0.1 is set as well. This would remove words which are present in more than 90% and in less than 10% of the documents."
   ]
  },
  {
   "cell_type": "code",
   "execution_count": 285,
   "id": "cc95758f-edeb-4b97-bc6d-a601ed1d1275",
   "metadata": {
    "execution": {
     "iopub.execute_input": "2023-11-23T21:08:03.167028Z",
     "iopub.status.busy": "2023-11-23T21:08:03.166808Z",
     "iopub.status.idle": "2023-11-23T21:08:03.622412Z",
     "shell.execute_reply": "2023-11-23T21:08:03.620903Z",
     "shell.execute_reply.started": "2023-11-23T21:08:03.167007Z"
    },
    "tags": []
   },
   "outputs": [],
   "source": [
    "warnings.filterwarnings('ignore')\n",
    "\n",
    "# Movies (Default Mode)\n",
    "vectorizer_default_synopsis, movie_default_synopsis = bag_of_words(\n",
    "    movies['synopsis'], mode='default')\n",
    "movie_default_synopsis = pd.DataFrame.sparse.from_spmatrix(\n",
    "    movie_default_synopsis,\n",
    "    columns=vectorizer_default_synopsis.get_feature_names_out(),\n",
    ")\n",
    "vectorizer_default_critic, movie_default_critic = bag_of_words(\n",
    "    movies['critic'], mode='default')\n",
    "movie_default_critic = pd.DataFrame.sparse.from_spmatrix(\n",
    "    movie_default_critic,\n",
    "    columns=vectorizer_default_critic.get_feature_names_out(),\n",
    ")\n",
    "\n",
    "# Movies (Optimal Mode)\n",
    "vectorizer_optimal_synopsis, movie_optimal_synopsis = bag_of_words(\n",
    "    movies['synopsis'], mode='optimal')\n",
    "movie_optimal_synopsis = pd.DataFrame.sparse.from_spmatrix(\n",
    "    movie_optimal_synopsis,\n",
    "    columns=vectorizer_optimal_synopsis.get_feature_names_out(),\n",
    ")\n",
    "vectorizer_optimal_critic, movie_optimal_critic = bag_of_words(\n",
    "    movies['critic'], mode='optimal')\n",
    "movie_optimal_critic = pd.DataFrame.sparse.from_spmatrix(\n",
    "    movie_optimal_critic,\n",
    "    columns=vectorizer_optimal_critic.get_feature_names_out(),\n",
    ")"
   ]
  },
  {
   "cell_type": "markdown",
   "id": "3d4e60d3-2c13-4fd6-b1fd-0cd140132e80",
   "metadata": {
    "execution": {
     "iopub.execute_input": "2023-11-21T11:38:05.982315Z",
     "iopub.status.busy": "2023-11-21T11:38:05.982000Z",
     "iopub.status.idle": "2023-11-21T11:38:05.988354Z",
     "shell.execute_reply": "2023-11-21T11:38:05.987328Z",
     "shell.execute_reply.started": "2023-11-21T11:38:05.982291Z"
    },
    "tags": []
   },
   "source": [
    "The following are a preview of each table."
   ]
  },
  {
   "cell_type": "markdown",
   "id": "70eb4a06-1381-4388-a153-56522869acd7",
   "metadata": {},
   "source": [
    "<p><b>Table 4.</b></p>\n",
    "<p><i>Movies Synopsis (Default Settings)</i></p>"
   ]
  },
  {
   "cell_type": "code",
   "execution_count": 286,
   "id": "338db7c0-d804-4210-81f6-68f60916ac6b",
   "metadata": {
    "execution": {
     "iopub.execute_input": "2023-11-23T21:08:03.623816Z",
     "iopub.status.busy": "2023-11-23T21:08:03.623586Z",
     "iopub.status.idle": "2023-11-23T21:08:03.715665Z",
     "shell.execute_reply": "2023-11-23T21:08:03.714699Z",
     "shell.execute_reply.started": "2023-11-23T21:08:03.623795Z"
    },
    "tags": []
   },
   "outputs": [
    {
     "data": {
      "text/html": [
       "<div>\n",
       "<style scoped>\n",
       "    .dataframe tbody tr th:only-of-type {\n",
       "        vertical-align: middle;\n",
       "    }\n",
       "\n",
       "    .dataframe tbody tr th {\n",
       "        vertical-align: top;\n",
       "    }\n",
       "\n",
       "    .dataframe thead th {\n",
       "        text-align: right;\n",
       "    }\n",
       "</style>\n",
       "<table border=\"1\" class=\"dataframe\">\n",
       "  <thead>\n",
       "    <tr style=\"text-align: right;\">\n",
       "      <th></th>\n",
       "      <th>11</th>\n",
       "      <th>12</th>\n",
       "      <th>12th</th>\n",
       "      <th>15</th>\n",
       "      <th>16</th>\n",
       "      <th>17</th>\n",
       "      <th>18th</th>\n",
       "      <th>1945</th>\n",
       "      <th>1960s</th>\n",
       "      <th>1976</th>\n",
       "      <th>...</th>\n",
       "      <th>younger</th>\n",
       "      <th>youngest</th>\n",
       "      <th>your</th>\n",
       "      <th>yourself</th>\n",
       "      <th>youssef</th>\n",
       "      <th>youth</th>\n",
       "      <th>zadi</th>\n",
       "      <th>zakhar</th>\n",
       "      <th>zem</th>\n",
       "      <th>zero</th>\n",
       "    </tr>\n",
       "  </thead>\n",
       "  <tbody>\n",
       "    <tr>\n",
       "      <th>0</th>\n",
       "      <td>0</td>\n",
       "      <td>0</td>\n",
       "      <td>0</td>\n",
       "      <td>0</td>\n",
       "      <td>0</td>\n",
       "      <td>0</td>\n",
       "      <td>0</td>\n",
       "      <td>0</td>\n",
       "      <td>0</td>\n",
       "      <td>0</td>\n",
       "      <td>...</td>\n",
       "      <td>0</td>\n",
       "      <td>0</td>\n",
       "      <td>0</td>\n",
       "      <td>0</td>\n",
       "      <td>0</td>\n",
       "      <td>0</td>\n",
       "      <td>0</td>\n",
       "      <td>0</td>\n",
       "      <td>0</td>\n",
       "      <td>0</td>\n",
       "    </tr>\n",
       "    <tr>\n",
       "      <th>1</th>\n",
       "      <td>0</td>\n",
       "      <td>0</td>\n",
       "      <td>0</td>\n",
       "      <td>0</td>\n",
       "      <td>0</td>\n",
       "      <td>0</td>\n",
       "      <td>0</td>\n",
       "      <td>0</td>\n",
       "      <td>0</td>\n",
       "      <td>0</td>\n",
       "      <td>...</td>\n",
       "      <td>0</td>\n",
       "      <td>0</td>\n",
       "      <td>0</td>\n",
       "      <td>0</td>\n",
       "      <td>0</td>\n",
       "      <td>0</td>\n",
       "      <td>0</td>\n",
       "      <td>0</td>\n",
       "      <td>0</td>\n",
       "      <td>0</td>\n",
       "    </tr>\n",
       "    <tr>\n",
       "      <th>2</th>\n",
       "      <td>0</td>\n",
       "      <td>0</td>\n",
       "      <td>0</td>\n",
       "      <td>0</td>\n",
       "      <td>0</td>\n",
       "      <td>0</td>\n",
       "      <td>0</td>\n",
       "      <td>0</td>\n",
       "      <td>0</td>\n",
       "      <td>0</td>\n",
       "      <td>...</td>\n",
       "      <td>0</td>\n",
       "      <td>0</td>\n",
       "      <td>0</td>\n",
       "      <td>0</td>\n",
       "      <td>0</td>\n",
       "      <td>0</td>\n",
       "      <td>0</td>\n",
       "      <td>0</td>\n",
       "      <td>0</td>\n",
       "      <td>0</td>\n",
       "    </tr>\n",
       "  </tbody>\n",
       "</table>\n",
       "<p>3 rows × 3291 columns</p>\n",
       "</div>"
      ],
      "text/plain": [
       "   11  12  12th  15  16  17  18th  1945  1960s  1976  ...  younger  youngest  \\\n",
       "0   0   0     0   0   0   0     0     0      0     0  ...        0         0   \n",
       "1   0   0     0   0   0   0     0     0      0     0  ...        0         0   \n",
       "2   0   0     0   0   0   0     0     0      0     0  ...        0         0   \n",
       "\n",
       "   your  yourself  youssef  youth  zadi  zakhar  zem  zero  \n",
       "0     0         0        0      0     0       0    0     0  \n",
       "1     0         0        0      0     0       0    0     0  \n",
       "2     0         0        0      0     0       0    0     0  \n",
       "\n",
       "[3 rows x 3291 columns]"
      ]
     },
     "execution_count": 286,
     "metadata": {},
     "output_type": "execute_result"
    }
   ],
   "source": [
    "movie_default_synopsis.head(3)"
   ]
  },
  {
   "cell_type": "markdown",
   "id": "759cfd4c-766d-47a7-a4f5-49104660652d",
   "metadata": {},
   "source": [
    "<p><b>Table 5.</b></p>\n",
    "<p><i>Movies Critic (Default Settings)</i></p>"
   ]
  },
  {
   "cell_type": "code",
   "execution_count": 287,
   "id": "eb9f9ad9-8b49-4ec2-a903-c66d729795cf",
   "metadata": {
    "execution": {
     "iopub.execute_input": "2023-11-23T21:08:03.716731Z",
     "iopub.status.busy": "2023-11-23T21:08:03.716509Z",
     "iopub.status.idle": "2023-11-23T21:08:03.837081Z",
     "shell.execute_reply": "2023-11-23T21:08:03.836063Z",
     "shell.execute_reply.started": "2023-11-23T21:08:03.716711Z"
    },
    "tags": []
   },
   "outputs": [
    {
     "data": {
      "text/html": [
       "<div>\n",
       "<style scoped>\n",
       "    .dataframe tbody tr th:only-of-type {\n",
       "        vertical-align: middle;\n",
       "    }\n",
       "\n",
       "    .dataframe tbody tr th {\n",
       "        vertical-align: top;\n",
       "    }\n",
       "\n",
       "    .dataframe thead th {\n",
       "        text-align: right;\n",
       "    }\n",
       "</style>\n",
       "<table border=\"1\" class=\"dataframe\">\n",
       "  <thead>\n",
       "    <tr style=\"text-align: right;\">\n",
       "      <th></th>\n",
       "      <th>00s</th>\n",
       "      <th>10</th>\n",
       "      <th>104</th>\n",
       "      <th>10s</th>\n",
       "      <th>16mm</th>\n",
       "      <th>18th</th>\n",
       "      <th>1970</th>\n",
       "      <th>1980s</th>\n",
       "      <th>1992</th>\n",
       "      <th>1998</th>\n",
       "      <th>...</th>\n",
       "      <th>zaniness</th>\n",
       "      <th>zany</th>\n",
       "      <th>zee</th>\n",
       "      <th>zero</th>\n",
       "      <th>zion</th>\n",
       "      <th>zip</th>\n",
       "      <th>zlotowski</th>\n",
       "      <th>zone</th>\n",
       "      <th>zoom</th>\n",
       "      <th>zootropolis</th>\n",
       "    </tr>\n",
       "  </thead>\n",
       "  <tbody>\n",
       "    <tr>\n",
       "      <th>0</th>\n",
       "      <td>0</td>\n",
       "      <td>0</td>\n",
       "      <td>0</td>\n",
       "      <td>0</td>\n",
       "      <td>0</td>\n",
       "      <td>0</td>\n",
       "      <td>0</td>\n",
       "      <td>0</td>\n",
       "      <td>0</td>\n",
       "      <td>0</td>\n",
       "      <td>...</td>\n",
       "      <td>0</td>\n",
       "      <td>0</td>\n",
       "      <td>0</td>\n",
       "      <td>0</td>\n",
       "      <td>0</td>\n",
       "      <td>0</td>\n",
       "      <td>0</td>\n",
       "      <td>0</td>\n",
       "      <td>0</td>\n",
       "      <td>0</td>\n",
       "    </tr>\n",
       "    <tr>\n",
       "      <th>1</th>\n",
       "      <td>0</td>\n",
       "      <td>0</td>\n",
       "      <td>0</td>\n",
       "      <td>0</td>\n",
       "      <td>0</td>\n",
       "      <td>0</td>\n",
       "      <td>0</td>\n",
       "      <td>0</td>\n",
       "      <td>0</td>\n",
       "      <td>0</td>\n",
       "      <td>...</td>\n",
       "      <td>0</td>\n",
       "      <td>0</td>\n",
       "      <td>0</td>\n",
       "      <td>0</td>\n",
       "      <td>0</td>\n",
       "      <td>0</td>\n",
       "      <td>0</td>\n",
       "      <td>0</td>\n",
       "      <td>0</td>\n",
       "      <td>0</td>\n",
       "    </tr>\n",
       "    <tr>\n",
       "      <th>2</th>\n",
       "      <td>0</td>\n",
       "      <td>0</td>\n",
       "      <td>0</td>\n",
       "      <td>0</td>\n",
       "      <td>0</td>\n",
       "      <td>0</td>\n",
       "      <td>0</td>\n",
       "      <td>0</td>\n",
       "      <td>0</td>\n",
       "      <td>0</td>\n",
       "      <td>...</td>\n",
       "      <td>0</td>\n",
       "      <td>0</td>\n",
       "      <td>0</td>\n",
       "      <td>0</td>\n",
       "      <td>0</td>\n",
       "      <td>0</td>\n",
       "      <td>0</td>\n",
       "      <td>0</td>\n",
       "      <td>1</td>\n",
       "      <td>0</td>\n",
       "    </tr>\n",
       "  </tbody>\n",
       "</table>\n",
       "<p>3 rows × 4692 columns</p>\n",
       "</div>"
      ],
      "text/plain": [
       "   00s  10  104  10s  16mm  18th  1970  1980s  1992  1998  ...  zaniness  \\\n",
       "0    0   0    0    0     0     0     0      0     0     0  ...         0   \n",
       "1    0   0    0    0     0     0     0      0     0     0  ...         0   \n",
       "2    0   0    0    0     0     0     0      0     0     0  ...         0   \n",
       "\n",
       "   zany  zee  zero  zion  zip  zlotowski  zone  zoom  zootropolis  \n",
       "0     0    0     0     0    0          0     0     0            0  \n",
       "1     0    0     0     0    0          0     0     0            0  \n",
       "2     0    0     0     0    0          0     0     1            0  \n",
       "\n",
       "[3 rows x 4692 columns]"
      ]
     },
     "execution_count": 287,
     "metadata": {},
     "output_type": "execute_result"
    }
   ],
   "source": [
    "movie_default_critic.head(3)"
   ]
  },
  {
   "cell_type": "markdown",
   "id": "7217f9a9-b009-430d-a9e0-51d296102b21",
   "metadata": {},
   "source": [
    "<p><b>Table 6.</b></p>\n",
    "<p><i>Movies Synopsis (Optimal Settings)</i></p>"
   ]
  },
  {
   "cell_type": "code",
   "execution_count": 288,
   "id": "6f2f1fa4-7c55-43bd-98a0-83104f08a8c3",
   "metadata": {
    "execution": {
     "iopub.execute_input": "2023-11-23T21:08:03.838331Z",
     "iopub.status.busy": "2023-11-23T21:08:03.838103Z",
     "iopub.status.idle": "2023-11-23T21:08:03.858142Z",
     "shell.execute_reply": "2023-11-23T21:08:03.857195Z",
     "shell.execute_reply.started": "2023-11-23T21:08:03.838310Z"
    },
    "tags": []
   },
   "outputs": [
    {
     "data": {
      "text/html": [
       "<div>\n",
       "<style scoped>\n",
       "    .dataframe tbody tr th:only-of-type {\n",
       "        vertical-align: middle;\n",
       "    }\n",
       "\n",
       "    .dataframe tbody tr th {\n",
       "        vertical-align: top;\n",
       "    }\n",
       "\n",
       "    .dataframe thead th {\n",
       "        text-align: right;\n",
       "    }\n",
       "</style>\n",
       "<table border=\"1\" class=\"dataframe\">\n",
       "  <thead>\n",
       "    <tr style=\"text-align: right;\">\n",
       "      <th></th>\n",
       "      <th>_connector_ world</th>\n",
       "      <th>are</th>\n",
       "      <th>back</th>\n",
       "      <th>be</th>\n",
       "      <th>becom</th>\n",
       "      <th>begin</th>\n",
       "      <th>best</th>\n",
       "      <th>can</th>\n",
       "      <th>discov</th>\n",
       "      <th>famili</th>\n",
       "      <th>...</th>\n",
       "      <th>them</th>\n",
       "      <th>they</th>\n",
       "      <th>time</th>\n",
       "      <th>two</th>\n",
       "      <th>when</th>\n",
       "      <th>who</th>\n",
       "      <th>world</th>\n",
       "      <th>year</th>\n",
       "      <th>year old</th>\n",
       "      <th>young</th>\n",
       "    </tr>\n",
       "  </thead>\n",
       "  <tbody>\n",
       "    <tr>\n",
       "      <th>0</th>\n",
       "      <td>0</td>\n",
       "      <td>1</td>\n",
       "      <td>0</td>\n",
       "      <td>0</td>\n",
       "      <td>0</td>\n",
       "      <td>0</td>\n",
       "      <td>0</td>\n",
       "      <td>0</td>\n",
       "      <td>0</td>\n",
       "      <td>1</td>\n",
       "      <td>...</td>\n",
       "      <td>0</td>\n",
       "      <td>0</td>\n",
       "      <td>0</td>\n",
       "      <td>0</td>\n",
       "      <td>1</td>\n",
       "      <td>0</td>\n",
       "      <td>0</td>\n",
       "      <td>1</td>\n",
       "      <td>0</td>\n",
       "      <td>1</td>\n",
       "    </tr>\n",
       "    <tr>\n",
       "      <th>1</th>\n",
       "      <td>0</td>\n",
       "      <td>0</td>\n",
       "      <td>0</td>\n",
       "      <td>0</td>\n",
       "      <td>0</td>\n",
       "      <td>0</td>\n",
       "      <td>0</td>\n",
       "      <td>0</td>\n",
       "      <td>0</td>\n",
       "      <td>0</td>\n",
       "      <td>...</td>\n",
       "      <td>0</td>\n",
       "      <td>0</td>\n",
       "      <td>0</td>\n",
       "      <td>0</td>\n",
       "      <td>0</td>\n",
       "      <td>1</td>\n",
       "      <td>0</td>\n",
       "      <td>1</td>\n",
       "      <td>1</td>\n",
       "      <td>0</td>\n",
       "    </tr>\n",
       "    <tr>\n",
       "      <th>2</th>\n",
       "      <td>0</td>\n",
       "      <td>0</td>\n",
       "      <td>0</td>\n",
       "      <td>0</td>\n",
       "      <td>0</td>\n",
       "      <td>0</td>\n",
       "      <td>0</td>\n",
       "      <td>0</td>\n",
       "      <td>0</td>\n",
       "      <td>1</td>\n",
       "      <td>...</td>\n",
       "      <td>0</td>\n",
       "      <td>0</td>\n",
       "      <td>0</td>\n",
       "      <td>0</td>\n",
       "      <td>0</td>\n",
       "      <td>0</td>\n",
       "      <td>0</td>\n",
       "      <td>0</td>\n",
       "      <td>0</td>\n",
       "      <td>0</td>\n",
       "    </tr>\n",
       "  </tbody>\n",
       "</table>\n",
       "<p>3 rows × 48 columns</p>\n",
       "</div>"
      ],
      "text/plain": [
       "   _connector_ world  are  back  be  becom  begin  best  can  discov  famili  \\\n",
       "0                  0    1     0   0      0      0     0    0       0       1   \n",
       "1                  0    0     0   0      0      0     0    0       0       0   \n",
       "2                  0    0     0   0      0      0     0    0       0       1   \n",
       "\n",
       "   ...  them  they  time  two  when  who  world  year  year old  young  \n",
       "0  ...     0     0     0    0     1    0      0     1         0      1  \n",
       "1  ...     0     0     0    0     0    1      0     1         1      0  \n",
       "2  ...     0     0     0    0     0    0      0     0         0      0  \n",
       "\n",
       "[3 rows x 48 columns]"
      ]
     },
     "execution_count": 288,
     "metadata": {},
     "output_type": "execute_result"
    }
   ],
   "source": [
    "movie_optimal_synopsis.head(3)"
   ]
  },
  {
   "cell_type": "markdown",
   "id": "6df0f0a3-9ad8-4c9d-b607-9fdcb5b68d02",
   "metadata": {
    "execution": {
     "iopub.execute_input": "2023-11-21T12:16:58.625648Z",
     "iopub.status.busy": "2023-11-21T12:16:58.625086Z",
     "iopub.status.idle": "2023-11-21T12:16:58.633435Z",
     "shell.execute_reply": "2023-11-21T12:16:58.631996Z",
     "shell.execute_reply.started": "2023-11-21T12:16:58.625598Z"
    },
    "tags": []
   },
   "source": [
    "<p><b>Table 7.</b></p>\n",
    "<p><i>Movies Critic (Optimal Settings)</i></p>"
   ]
  },
  {
   "cell_type": "code",
   "execution_count": 289,
   "id": "4a2368ab-0124-4eef-b170-599bc9dbb95f",
   "metadata": {
    "execution": {
     "iopub.execute_input": "2023-11-23T21:08:03.859168Z",
     "iopub.status.busy": "2023-11-23T21:08:03.858957Z",
     "iopub.status.idle": "2023-11-23T21:08:03.883792Z",
     "shell.execute_reply": "2023-11-23T21:08:03.882844Z",
     "shell.execute_reply.started": "2023-11-23T21:08:03.859148Z"
    },
    "tags": []
   },
   "outputs": [
    {
     "data": {
      "text/html": [
       "<div>\n",
       "<style scoped>\n",
       "    .dataframe tbody tr th:only-of-type {\n",
       "        vertical-align: middle;\n",
       "    }\n",
       "\n",
       "    .dataframe tbody tr th {\n",
       "        vertical-align: top;\n",
       "    }\n",
       "\n",
       "    .dataframe thead th {\n",
       "        text-align: right;\n",
       "    }\n",
       "</style>\n",
       "<table border=\"1\" class=\"dataframe\">\n",
       "  <thead>\n",
       "    <tr style=\"text-align: right;\">\n",
       "      <th></th>\n",
       "      <th>_connector_ _connector_</th>\n",
       "      <th>_connector_ end</th>\n",
       "      <th>_connector_ film</th>\n",
       "      <th>_connector_ it</th>\n",
       "      <th>_connector_ most</th>\n",
       "      <th>_connector_ movi</th>\n",
       "      <th>_connector_ spanish</th>\n",
       "      <th>_connector_ way</th>\n",
       "      <th>action</th>\n",
       "      <th>actor</th>\n",
       "      <th>...</th>\n",
       "      <th>which</th>\n",
       "      <th>while</th>\n",
       "      <th>who</th>\n",
       "      <th>will</th>\n",
       "      <th>work</th>\n",
       "      <th>world</th>\n",
       "      <th>writer</th>\n",
       "      <th>year</th>\n",
       "      <th>you</th>\n",
       "      <th>your</th>\n",
       "    </tr>\n",
       "  </thead>\n",
       "  <tbody>\n",
       "    <tr>\n",
       "      <th>0</th>\n",
       "      <td>0</td>\n",
       "      <td>0</td>\n",
       "      <td>0</td>\n",
       "      <td>0</td>\n",
       "      <td>0</td>\n",
       "      <td>0</td>\n",
       "      <td>1</td>\n",
       "      <td>0</td>\n",
       "      <td>0</td>\n",
       "      <td>1</td>\n",
       "      <td>...</td>\n",
       "      <td>0</td>\n",
       "      <td>1</td>\n",
       "      <td>0</td>\n",
       "      <td>0</td>\n",
       "      <td>1</td>\n",
       "      <td>0</td>\n",
       "      <td>0</td>\n",
       "      <td>0</td>\n",
       "      <td>0</td>\n",
       "      <td>0</td>\n",
       "    </tr>\n",
       "    <tr>\n",
       "      <th>1</th>\n",
       "      <td>0</td>\n",
       "      <td>0</td>\n",
       "      <td>1</td>\n",
       "      <td>0</td>\n",
       "      <td>0</td>\n",
       "      <td>0</td>\n",
       "      <td>0</td>\n",
       "      <td>0</td>\n",
       "      <td>0</td>\n",
       "      <td>0</td>\n",
       "      <td>...</td>\n",
       "      <td>0</td>\n",
       "      <td>0</td>\n",
       "      <td>1</td>\n",
       "      <td>0</td>\n",
       "      <td>0</td>\n",
       "      <td>0</td>\n",
       "      <td>0</td>\n",
       "      <td>0</td>\n",
       "      <td>0</td>\n",
       "      <td>0</td>\n",
       "    </tr>\n",
       "    <tr>\n",
       "      <th>2</th>\n",
       "      <td>0</td>\n",
       "      <td>0</td>\n",
       "      <td>0</td>\n",
       "      <td>0</td>\n",
       "      <td>0</td>\n",
       "      <td>0</td>\n",
       "      <td>0</td>\n",
       "      <td>0</td>\n",
       "      <td>0</td>\n",
       "      <td>0</td>\n",
       "      <td>...</td>\n",
       "      <td>0</td>\n",
       "      <td>0</td>\n",
       "      <td>0</td>\n",
       "      <td>0</td>\n",
       "      <td>0</td>\n",
       "      <td>0</td>\n",
       "      <td>0</td>\n",
       "      <td>0</td>\n",
       "      <td>0</td>\n",
       "      <td>0</td>\n",
       "    </tr>\n",
       "  </tbody>\n",
       "</table>\n",
       "<p>3 rows × 156 columns</p>\n",
       "</div>"
      ],
      "text/plain": [
       "   _connector_ _connector_  _connector_ end  _connector_ film  _connector_ it  \\\n",
       "0                        0                0                 0               0   \n",
       "1                        0                0                 1               0   \n",
       "2                        0                0                 0               0   \n",
       "\n",
       "   _connector_ most  _connector_ movi  _connector_ spanish  _connector_ way  \\\n",
       "0                 0                 0                    1                0   \n",
       "1                 0                 0                    0                0   \n",
       "2                 0                 0                    0                0   \n",
       "\n",
       "   action  actor  ...  which  while  who  will  work  world  writer  year  \\\n",
       "0       0      1  ...      0      1    0     0     1      0       0     0   \n",
       "1       0      0  ...      0      0    1     0     0      0       0     0   \n",
       "2       0      0  ...      0      0    0     0     0      0       0     0   \n",
       "\n",
       "   you  your  \n",
       "0    0     0  \n",
       "1    0     0  \n",
       "2    0     0  \n",
       "\n",
       "[3 rows x 156 columns]"
      ]
     },
     "execution_count": 289,
     "metadata": {},
     "output_type": "execute_result"
    }
   ],
   "source": [
    "movie_optimal_critic.head(3)"
   ]
  },
  {
   "cell_type": "markdown",
   "id": "5322218b-e11e-4303-9567-69b830a4febe",
   "metadata": {},
   "source": [
    "To further optimize Table 5, the IDFs of the vectorized `critic` and `synopsis` would be calculated, and from this, the tokens with the lowest IDFs would be removed, as these tokens would serve as the \"domain-specific\" common words, wherein the domain in this study would be on films."
   ]
  },
  {
   "cell_type": "code",
   "execution_count": 290,
   "id": "8cdb9cf0-50b7-4bd9-b17b-d7108abee64c",
   "metadata": {
    "execution": {
     "iopub.execute_input": "2023-11-23T21:08:03.889509Z",
     "iopub.status.busy": "2023-11-23T21:08:03.889290Z",
     "iopub.status.idle": "2023-11-23T21:08:04.253373Z",
     "shell.execute_reply": "2023-11-23T21:08:04.251657Z",
     "shell.execute_reply.started": "2023-11-23T21:08:03.889489Z"
    },
    "tags": []
   },
   "outputs": [],
   "source": [
    "# Synopsis Optimal\n",
    "vectorizer_optimal_synopsis, movie_optimal_synopsis = bag_of_words(\n",
    "    movies['synopsis'], mode='optimal')\n",
    "idf_movie_synopsis = sort_idf(movie_optimal_synopsis,\n",
    "                             vectorizer_optimal_synopsis)\n",
    "\n",
    "# Critic Optimal\n",
    "vectorizer_optimal_critic, movie_optimal_critic = bag_of_words(\n",
    "    movies['critic'], mode='optimal')\n",
    "idf_movie_critic = sort_idf(movie_optimal_critic,\n",
    "                             vectorizer_optimal_critic)"
   ]
  },
  {
   "cell_type": "markdown",
   "id": "16729162-5a5f-41fc-a419-440b28143884",
   "metadata": {},
   "source": [
    "The following are the tables showing the top 5 words with the least IDFs. What would be done then with the \"domain-specific\" common words which are at the range from 1 to 2 (exclusive) within this top 5 list would be to remove them as they serve as noise and do not help in differentiating the movies at all."
   ]
  },
  {
   "cell_type": "markdown",
   "id": "1b11ae46-124c-4f40-a0f1-ecd0217be871",
   "metadata": {
    "execution": {
     "iopub.execute_input": "2023-11-21T12:09:39.786435Z",
     "iopub.status.busy": "2023-11-21T12:09:39.785887Z",
     "iopub.status.idle": "2023-11-21T12:09:39.793656Z",
     "shell.execute_reply": "2023-11-21T12:09:39.792575Z",
     "shell.execute_reply.started": "2023-11-21T12:09:39.786388Z"
    },
    "tags": []
   },
   "source": [
    "<p><b>Table 8.</b></p>\n",
    "<p><i>Movies_Optimal Synopsis IDFs</i></p>"
   ]
  },
  {
   "cell_type": "code",
   "execution_count": 291,
   "id": "4236f377-b06d-464b-ab41-a15b419e7cd9",
   "metadata": {
    "execution": {
     "iopub.execute_input": "2023-11-23T21:08:04.254513Z",
     "iopub.status.busy": "2023-11-23T21:08:04.254289Z",
     "iopub.status.idle": "2023-11-23T21:08:04.263542Z",
     "shell.execute_reply": "2023-11-23T21:08:04.262565Z",
     "shell.execute_reply.started": "2023-11-23T21:08:04.254492Z"
    },
    "tags": []
   },
   "outputs": [
    {
     "data": {
      "text/html": [
       "<div>\n",
       "<style scoped>\n",
       "    .dataframe tbody tr th:only-of-type {\n",
       "        vertical-align: middle;\n",
       "    }\n",
       "\n",
       "    .dataframe tbody tr th {\n",
       "        vertical-align: top;\n",
       "    }\n",
       "\n",
       "    .dataframe thead th {\n",
       "        text-align: right;\n",
       "    }\n",
       "</style>\n",
       "<table border=\"1\" class=\"dataframe\">\n",
       "  <thead>\n",
       "    <tr style=\"text-align: right;\">\n",
       "      <th></th>\n",
       "      <th>idf_weights</th>\n",
       "    </tr>\n",
       "  </thead>\n",
       "  <tbody>\n",
       "    <tr>\n",
       "      <th>is</th>\n",
       "      <td>1.655120</td>\n",
       "    </tr>\n",
       "    <tr>\n",
       "      <th>when</th>\n",
       "      <td>1.889520</td>\n",
       "    </tr>\n",
       "    <tr>\n",
       "      <th>who</th>\n",
       "      <td>2.276293</td>\n",
       "    </tr>\n",
       "    <tr>\n",
       "      <th>she</th>\n",
       "      <td>2.276293</td>\n",
       "    </tr>\n",
       "    <tr>\n",
       "      <th>life</th>\n",
       "      <td>2.394077</td>\n",
       "    </tr>\n",
       "  </tbody>\n",
       "</table>\n",
       "</div>"
      ],
      "text/plain": [
       "      idf_weights\n",
       "is       1.655120\n",
       "when     1.889520\n",
       "who      2.276293\n",
       "she      2.276293\n",
       "life     2.394077"
      ]
     },
     "execution_count": 291,
     "metadata": {},
     "output_type": "execute_result"
    }
   ],
   "source": [
    "idf_movie_synopsis.head(5)"
   ]
  },
  {
   "cell_type": "markdown",
   "id": "2d99cf56-4230-497c-a9f0-c8ba4d1242b4",
   "metadata": {
    "execution": {
     "iopub.execute_input": "2023-11-21T12:26:03.594084Z",
     "iopub.status.busy": "2023-11-21T12:26:03.593499Z",
     "iopub.status.idle": "2023-11-21T12:26:03.600896Z",
     "shell.execute_reply": "2023-11-21T12:26:03.599645Z",
     "shell.execute_reply.started": "2023-11-21T12:26:03.594038Z"
    },
    "tags": []
   },
   "source": [
    "<p><b>Table 9.</b></p>\n",
    "<p><i>Movies_Optimal Critic IDFs</i></p>"
   ]
  },
  {
   "cell_type": "code",
   "execution_count": 292,
   "id": "d5f6df0a-0c9f-4c5e-acc7-d2d2cdfaf154",
   "metadata": {
    "execution": {
     "iopub.execute_input": "2023-11-23T21:08:04.264614Z",
     "iopub.status.busy": "2023-11-23T21:08:04.264406Z",
     "iopub.status.idle": "2023-11-23T21:08:04.273033Z",
     "shell.execute_reply": "2023-11-23T21:08:04.271968Z",
     "shell.execute_reply.started": "2023-11-23T21:08:04.264594Z"
    },
    "tags": []
   },
   "outputs": [
    {
     "data": {
      "text/html": [
       "<div>\n",
       "<style scoped>\n",
       "    .dataframe tbody tr th:only-of-type {\n",
       "        vertical-align: middle;\n",
       "    }\n",
       "\n",
       "    .dataframe tbody tr th {\n",
       "        vertical-align: top;\n",
       "    }\n",
       "\n",
       "    .dataframe thead th {\n",
       "        text-align: right;\n",
       "    }\n",
       "</style>\n",
       "<table border=\"1\" class=\"dataframe\">\n",
       "  <thead>\n",
       "    <tr style=\"text-align: right;\">\n",
       "      <th></th>\n",
       "      <th>idf_weights</th>\n",
       "    </tr>\n",
       "  </thead>\n",
       "  <tbody>\n",
       "    <tr>\n",
       "      <th>film</th>\n",
       "      <td>1.244692</td>\n",
       "    </tr>\n",
       "    <tr>\n",
       "      <th>movi</th>\n",
       "      <td>1.625706</td>\n",
       "    </tr>\n",
       "    <tr>\n",
       "      <th>be</th>\n",
       "      <td>1.732678</td>\n",
       "    </tr>\n",
       "    <tr>\n",
       "      <th>what</th>\n",
       "      <td>1.834461</td>\n",
       "    </tr>\n",
       "    <tr>\n",
       "      <th>more</th>\n",
       "      <td>1.834461</td>\n",
       "    </tr>\n",
       "  </tbody>\n",
       "</table>\n",
       "</div>"
      ],
      "text/plain": [
       "      idf_weights\n",
       "film     1.244692\n",
       "movi     1.625706\n",
       "be       1.732678\n",
       "what     1.834461\n",
       "more     1.834461"
      ]
     },
     "execution_count": 292,
     "metadata": {},
     "output_type": "execute_result"
    }
   ],
   "source": [
    "idf_movie_critic.head(5)"
   ]
  },
  {
   "cell_type": "markdown",
   "id": "44446885-c6a6-4d44-9c90-8f7643217e17",
   "metadata": {},
   "source": [
    "Having seen that there are tokens which have very low IDFs, using the same \"optimal\" parameters, both columns `synopsis` and `critic` would be converted to the bag-of-words again, but preprocessed with the new \"domain-specific\" stop words, alongside the original set of stop words."
   ]
  },
  {
   "cell_type": "code",
   "execution_count": 293,
   "id": "884741bb-1a90-45d8-8f94-e9817edca392",
   "metadata": {
    "execution": {
     "iopub.execute_input": "2023-11-23T21:08:04.273986Z",
     "iopub.status.busy": "2023-11-23T21:08:04.273743Z",
     "iopub.status.idle": "2023-11-23T21:08:04.633946Z",
     "shell.execute_reply": "2023-11-23T21:08:04.632909Z",
     "shell.execute_reply.started": "2023-11-23T21:08:04.273964Z"
    },
    "tags": []
   },
   "outputs": [],
   "source": [
    "# Optimal Synopsis\n",
    "vectorizer_optimal_synopsis, movie_optimal_synopsis = bag_of_words(\n",
    "    movies['synopsis'],\n",
    "    mode='optimal',\n",
    "    stop_extend=list(idf_movie_synopsis.head(2).index)\n",
    ")\n",
    "movie_optimal_synopsis = pd.DataFrame.sparse.from_spmatrix(\n",
    "    movie_optimal_synopsis,\n",
    "    columns=vectorizer_optimal_synopsis.get_feature_names_out(),\n",
    ")\n",
    "\n",
    "# Optimal Critic\n",
    "vectorizer_optimal_critic, movie_optimal_critic = bag_of_words(\n",
    "    movies['critic'],\n",
    "    mode='optimal',\n",
    "    stop_extend=list(idf_movie_critic.head(5).index)\n",
    ")\n",
    "movie_optimal_critic = pd.DataFrame.sparse.from_spmatrix(\n",
    "    movie_optimal_critic,\n",
    "    columns=vectorizer_optimal_critic.get_feature_names_out(),\n",
    ")"
   ]
  },
  {
   "cell_type": "markdown",
   "id": "4e09e63c-65e1-4731-978d-155d4f16103d",
   "metadata": {},
   "source": [
    "<p><b>Table 10.</b></p>\n",
    "<p><i>Movies Synopsis (Optimal Settings; Additional Stop)</i></p>"
   ]
  },
  {
   "cell_type": "code",
   "execution_count": 294,
   "id": "df0987ec-d23c-46ff-b4c8-bda28bdb57f4",
   "metadata": {
    "execution": {
     "iopub.execute_input": "2023-11-23T21:08:04.635231Z",
     "iopub.status.busy": "2023-11-23T21:08:04.634992Z",
     "iopub.status.idle": "2023-11-23T21:08:04.657641Z",
     "shell.execute_reply": "2023-11-23T21:08:04.656557Z",
     "shell.execute_reply.started": "2023-11-23T21:08:04.635210Z"
    },
    "tags": []
   },
   "outputs": [
    {
     "data": {
      "text/html": [
       "<div>\n",
       "<style scoped>\n",
       "    .dataframe tbody tr th:only-of-type {\n",
       "        vertical-align: middle;\n",
       "    }\n",
       "\n",
       "    .dataframe tbody tr th {\n",
       "        vertical-align: top;\n",
       "    }\n",
       "\n",
       "    .dataframe thead th {\n",
       "        text-align: right;\n",
       "    }\n",
       "</style>\n",
       "<table border=\"1\" class=\"dataframe\">\n",
       "  <thead>\n",
       "    <tr style=\"text-align: right;\">\n",
       "      <th></th>\n",
       "      <th>_connector_ world</th>\n",
       "      <th>are</th>\n",
       "      <th>back</th>\n",
       "      <th>be</th>\n",
       "      <th>becom</th>\n",
       "      <th>begin</th>\n",
       "      <th>best</th>\n",
       "      <th>can</th>\n",
       "      <th>discov</th>\n",
       "      <th>famili</th>\n",
       "      <th>...</th>\n",
       "      <th>take</th>\n",
       "      <th>them</th>\n",
       "      <th>they</th>\n",
       "      <th>time</th>\n",
       "      <th>two</th>\n",
       "      <th>who</th>\n",
       "      <th>world</th>\n",
       "      <th>year</th>\n",
       "      <th>year old</th>\n",
       "      <th>young</th>\n",
       "    </tr>\n",
       "  </thead>\n",
       "  <tbody>\n",
       "    <tr>\n",
       "      <th>0</th>\n",
       "      <td>0</td>\n",
       "      <td>1</td>\n",
       "      <td>0</td>\n",
       "      <td>0</td>\n",
       "      <td>0</td>\n",
       "      <td>0</td>\n",
       "      <td>0</td>\n",
       "      <td>0</td>\n",
       "      <td>0</td>\n",
       "      <td>1</td>\n",
       "      <td>...</td>\n",
       "      <td>0</td>\n",
       "      <td>0</td>\n",
       "      <td>0</td>\n",
       "      <td>0</td>\n",
       "      <td>0</td>\n",
       "      <td>0</td>\n",
       "      <td>0</td>\n",
       "      <td>1</td>\n",
       "      <td>0</td>\n",
       "      <td>1</td>\n",
       "    </tr>\n",
       "    <tr>\n",
       "      <th>1</th>\n",
       "      <td>0</td>\n",
       "      <td>0</td>\n",
       "      <td>0</td>\n",
       "      <td>0</td>\n",
       "      <td>0</td>\n",
       "      <td>0</td>\n",
       "      <td>0</td>\n",
       "      <td>0</td>\n",
       "      <td>0</td>\n",
       "      <td>0</td>\n",
       "      <td>...</td>\n",
       "      <td>0</td>\n",
       "      <td>0</td>\n",
       "      <td>0</td>\n",
       "      <td>0</td>\n",
       "      <td>0</td>\n",
       "      <td>1</td>\n",
       "      <td>0</td>\n",
       "      <td>1</td>\n",
       "      <td>1</td>\n",
       "      <td>0</td>\n",
       "    </tr>\n",
       "    <tr>\n",
       "      <th>2</th>\n",
       "      <td>0</td>\n",
       "      <td>0</td>\n",
       "      <td>0</td>\n",
       "      <td>0</td>\n",
       "      <td>0</td>\n",
       "      <td>0</td>\n",
       "      <td>0</td>\n",
       "      <td>0</td>\n",
       "      <td>0</td>\n",
       "      <td>1</td>\n",
       "      <td>...</td>\n",
       "      <td>0</td>\n",
       "      <td>0</td>\n",
       "      <td>0</td>\n",
       "      <td>0</td>\n",
       "      <td>0</td>\n",
       "      <td>0</td>\n",
       "      <td>0</td>\n",
       "      <td>0</td>\n",
       "      <td>0</td>\n",
       "      <td>0</td>\n",
       "    </tr>\n",
       "  </tbody>\n",
       "</table>\n",
       "<p>3 rows × 46 columns</p>\n",
       "</div>"
      ],
      "text/plain": [
       "   _connector_ world  are  back  be  becom  begin  best  can  discov  famili  \\\n",
       "0                  0    1     0   0      0      0     0    0       0       1   \n",
       "1                  0    0     0   0      0      0     0    0       0       0   \n",
       "2                  0    0     0   0      0      0     0    0       0       1   \n",
       "\n",
       "   ...  take  them  they  time  two  who  world  year  year old  young  \n",
       "0  ...     0     0     0     0    0    0      0     1         0      1  \n",
       "1  ...     0     0     0     0    0    1      0     1         1      0  \n",
       "2  ...     0     0     0     0    0    0      0     0         0      0  \n",
       "\n",
       "[3 rows x 46 columns]"
      ]
     },
     "execution_count": 294,
     "metadata": {},
     "output_type": "execute_result"
    }
   ],
   "source": [
    "movie_optimal_synopsis.head(3)"
   ]
  },
  {
   "cell_type": "markdown",
   "id": "fab207eb-1b6b-4c6b-9edb-410e30c4bfb7",
   "metadata": {
    "execution": {
     "iopub.execute_input": "2023-11-21T12:34:43.735364Z",
     "iopub.status.busy": "2023-11-21T12:34:43.734963Z",
     "iopub.status.idle": "2023-11-21T12:34:43.741875Z",
     "shell.execute_reply": "2023-11-21T12:34:43.740599Z",
     "shell.execute_reply.started": "2023-11-21T12:34:43.735330Z"
    },
    "tags": []
   },
   "source": [
    "<p><b>Table 11.</b></p>\n",
    "<p><i>Movies Critic (Optimal Settings; Additional Stop)</i></p>"
   ]
  },
  {
   "cell_type": "code",
   "execution_count": 295,
   "id": "943a7579-7e88-4212-9822-0ebc4e78d3a4",
   "metadata": {
    "execution": {
     "iopub.execute_input": "2023-11-23T21:08:04.658676Z",
     "iopub.status.busy": "2023-11-23T21:08:04.658461Z",
     "iopub.status.idle": "2023-11-23T21:08:04.684391Z",
     "shell.execute_reply": "2023-11-23T21:08:04.683402Z",
     "shell.execute_reply.started": "2023-11-23T21:08:04.658657Z"
    },
    "tags": []
   },
   "outputs": [
    {
     "data": {
      "text/html": [
       "<div>\n",
       "<style scoped>\n",
       "    .dataframe tbody tr th:only-of-type {\n",
       "        vertical-align: middle;\n",
       "    }\n",
       "\n",
       "    .dataframe tbody tr th {\n",
       "        vertical-align: top;\n",
       "    }\n",
       "\n",
       "    .dataframe thead th {\n",
       "        text-align: right;\n",
       "    }\n",
       "</style>\n",
       "<table border=\"1\" class=\"dataframe\">\n",
       "  <thead>\n",
       "    <tr style=\"text-align: right;\">\n",
       "      <th></th>\n",
       "      <th>_connector_ _connector_</th>\n",
       "      <th>_connector_ end</th>\n",
       "      <th>_connector_ is</th>\n",
       "      <th>_connector_ it</th>\n",
       "      <th>_connector_ most</th>\n",
       "      <th>_connector_ spanish</th>\n",
       "      <th>_connector_ way</th>\n",
       "      <th>action</th>\n",
       "      <th>actor</th>\n",
       "      <th>also</th>\n",
       "      <th>...</th>\n",
       "      <th>which</th>\n",
       "      <th>while</th>\n",
       "      <th>who</th>\n",
       "      <th>will</th>\n",
       "      <th>work</th>\n",
       "      <th>world</th>\n",
       "      <th>writer</th>\n",
       "      <th>year</th>\n",
       "      <th>you</th>\n",
       "      <th>your</th>\n",
       "    </tr>\n",
       "  </thead>\n",
       "  <tbody>\n",
       "    <tr>\n",
       "      <th>0</th>\n",
       "      <td>0</td>\n",
       "      <td>0</td>\n",
       "      <td>0</td>\n",
       "      <td>0</td>\n",
       "      <td>0</td>\n",
       "      <td>1</td>\n",
       "      <td>0</td>\n",
       "      <td>0</td>\n",
       "      <td>1</td>\n",
       "      <td>1</td>\n",
       "      <td>...</td>\n",
       "      <td>0</td>\n",
       "      <td>1</td>\n",
       "      <td>0</td>\n",
       "      <td>0</td>\n",
       "      <td>1</td>\n",
       "      <td>0</td>\n",
       "      <td>0</td>\n",
       "      <td>0</td>\n",
       "      <td>0</td>\n",
       "      <td>0</td>\n",
       "    </tr>\n",
       "    <tr>\n",
       "      <th>1</th>\n",
       "      <td>0</td>\n",
       "      <td>0</td>\n",
       "      <td>0</td>\n",
       "      <td>0</td>\n",
       "      <td>0</td>\n",
       "      <td>0</td>\n",
       "      <td>0</td>\n",
       "      <td>0</td>\n",
       "      <td>0</td>\n",
       "      <td>0</td>\n",
       "      <td>...</td>\n",
       "      <td>0</td>\n",
       "      <td>0</td>\n",
       "      <td>1</td>\n",
       "      <td>0</td>\n",
       "      <td>0</td>\n",
       "      <td>0</td>\n",
       "      <td>0</td>\n",
       "      <td>0</td>\n",
       "      <td>0</td>\n",
       "      <td>0</td>\n",
       "    </tr>\n",
       "    <tr>\n",
       "      <th>2</th>\n",
       "      <td>0</td>\n",
       "      <td>0</td>\n",
       "      <td>1</td>\n",
       "      <td>0</td>\n",
       "      <td>0</td>\n",
       "      <td>0</td>\n",
       "      <td>0</td>\n",
       "      <td>0</td>\n",
       "      <td>0</td>\n",
       "      <td>0</td>\n",
       "      <td>...</td>\n",
       "      <td>0</td>\n",
       "      <td>0</td>\n",
       "      <td>0</td>\n",
       "      <td>0</td>\n",
       "      <td>0</td>\n",
       "      <td>0</td>\n",
       "      <td>0</td>\n",
       "      <td>0</td>\n",
       "      <td>0</td>\n",
       "      <td>0</td>\n",
       "    </tr>\n",
       "  </tbody>\n",
       "</table>\n",
       "<p>3 rows × 148 columns</p>\n",
       "</div>"
      ],
      "text/plain": [
       "   _connector_ _connector_  _connector_ end  _connector_ is  _connector_ it  \\\n",
       "0                        0                0               0               0   \n",
       "1                        0                0               0               0   \n",
       "2                        0                0               1               0   \n",
       "\n",
       "   _connector_ most  _connector_ spanish  _connector_ way  action  actor  \\\n",
       "0                 0                    1                0       0      1   \n",
       "1                 0                    0                0       0      0   \n",
       "2                 0                    0                0       0      0   \n",
       "\n",
       "   also  ...  which  while  who  will  work  world  writer  year  you  your  \n",
       "0     1  ...      0      1    0     0     1      0       0     0    0     0  \n",
       "1     0  ...      0      0    1     0     0      0       0     0    0     0  \n",
       "2     0  ...      0      0    0     0     0      0       0     0    0     0  \n",
       "\n",
       "[3 rows x 148 columns]"
      ]
     },
     "execution_count": 295,
     "metadata": {},
     "output_type": "execute_result"
    }
   ],
   "source": [
    "movie_optimal_critic.head(3)"
   ]
  },
  {
   "cell_type": "markdown",
   "id": "32d7cd90-1b78-4dc3-b5e2-3cee991dca9d",
   "metadata": {},
   "source": [
    "The four tables (default and optimal) would then be normalized as TFIDF values. This would be done through the function `normalize_tfidf`."
   ]
  },
  {
   "cell_type": "code",
   "execution_count": 296,
   "id": "fbac7748-dd53-4465-8ade-21f7333de9f6",
   "metadata": {
    "execution": {
     "iopub.execute_input": "2023-11-23T21:08:04.685408Z",
     "iopub.status.busy": "2023-11-23T21:08:04.685196Z",
     "iopub.status.idle": "2023-11-23T21:08:05.134394Z",
     "shell.execute_reply": "2023-11-23T21:08:05.133337Z",
     "shell.execute_reply.started": "2023-11-23T21:08:04.685388Z"
    },
    "tags": []
   },
   "outputs": [],
   "source": [
    "# Movies (Default Mode)\n",
    "vectorizer_default_synopsis, movie_default_synopsis = bag_of_words(\n",
    "    movies['synopsis'], mode='default')\n",
    "vectorizer_default_critic, movie_default_critic = bag_of_words(\n",
    "    movies['critic'], mode='default')\n",
    "vectorizer_def_sys_tfidf, movie_default_synopsis = normalize_tfidf(\n",
    "    movie_default_synopsis)\n",
    "vectorizer_def_crit_tfidf, movie_default_critic = normalize_tfidf(\n",
    "    movie_default_critic)\n",
    "movie_default_synopsis = pd.DataFrame.sparse.from_spmatrix(\n",
    "    movie_default_synopsis,\n",
    "    columns=vectorizer_default_synopsis.get_feature_names_out(),\n",
    ")\n",
    "movie_default_critic = pd.DataFrame.sparse.from_spmatrix(\n",
    "    movie_default_critic,\n",
    "    columns=vectorizer_default_critic.get_feature_names_out(),\n",
    ")\n",
    "\n",
    "# Movies (Optimal Mode)\n",
    "vectorizer_optimal_synopsis, movie_optimal_synopsis = bag_of_words(\n",
    "    movies['synopsis'],\n",
    "    mode='optimal',\n",
    "    stop_extend=list(idf_movie_synopsis.head(2).index)\n",
    ")\n",
    "vectorizer_optimal_critic, movie_optimal_critic = bag_of_words(\n",
    "    movies['critic'],\n",
    "    mode='optimal',\n",
    "    stop_extend=list(idf_movie_critic.head(5).index)\n",
    ")\n",
    "vectorizer_opt_sys_tfidf, movie_optimal_synopsis = normalize_tfidf(\n",
    "    movie_optimal_synopsis)\n",
    "vectorizer_opt_crit_tfidf, movie_optimal_critic = normalize_tfidf(\n",
    "    movie_optimal_critic)\n",
    "movie_optimal_synopsis = pd.DataFrame.sparse.from_spmatrix(\n",
    "    movie_optimal_synopsis,\n",
    "    columns=vectorizer_optimal_synopsis.get_feature_names_out(),\n",
    ")\n",
    "movie_optimal_critic = pd.DataFrame.sparse.from_spmatrix(\n",
    "    movie_optimal_critic,\n",
    "    columns=vectorizer_optimal_critic.get_feature_names_out(),\n",
    ")"
   ]
  },
  {
   "cell_type": "markdown",
   "id": "f1aacba0-ecfc-4cc6-b768-1dfac2856fab",
   "metadata": {},
   "source": [
    "The four tables are previewed below:"
   ]
  },
  {
   "cell_type": "markdown",
   "id": "52867774-cbaa-4c27-880d-c1b89ee3a9eb",
   "metadata": {
    "execution": {
     "iopub.execute_input": "2023-11-21T13:11:07.709581Z",
     "iopub.status.busy": "2023-11-21T13:11:07.708759Z",
     "iopub.status.idle": "2023-11-21T13:11:07.716068Z",
     "shell.execute_reply": "2023-11-21T13:11:07.714731Z",
     "shell.execute_reply.started": "2023-11-21T13:11:07.709533Z"
    },
    "tags": []
   },
   "source": [
    "<p><b>Table 12.</b></p>\n",
    "<p><i>Movies Synopsis (Default Settings; TFIDF Normalized)</i></p>"
   ]
  },
  {
   "cell_type": "code",
   "execution_count": 297,
   "id": "673fbca0-06f4-47f5-a235-da3c5b687da1",
   "metadata": {
    "execution": {
     "iopub.execute_input": "2023-11-23T21:08:05.135608Z",
     "iopub.status.busy": "2023-11-23T21:08:05.135374Z",
     "iopub.status.idle": "2023-11-23T21:08:06.024292Z",
     "shell.execute_reply": "2023-11-23T21:08:06.023314Z",
     "shell.execute_reply.started": "2023-11-23T21:08:05.135588Z"
    },
    "tags": []
   },
   "outputs": [
    {
     "data": {
      "text/html": [
       "<div>\n",
       "<style scoped>\n",
       "    .dataframe tbody tr th:only-of-type {\n",
       "        vertical-align: middle;\n",
       "    }\n",
       "\n",
       "    .dataframe tbody tr th {\n",
       "        vertical-align: top;\n",
       "    }\n",
       "\n",
       "    .dataframe thead th {\n",
       "        text-align: right;\n",
       "    }\n",
       "</style>\n",
       "<table border=\"1\" class=\"dataframe\">\n",
       "  <thead>\n",
       "    <tr style=\"text-align: right;\">\n",
       "      <th></th>\n",
       "      <th>11</th>\n",
       "      <th>12</th>\n",
       "      <th>12th</th>\n",
       "      <th>15</th>\n",
       "      <th>16</th>\n",
       "      <th>17</th>\n",
       "      <th>18th</th>\n",
       "      <th>1945</th>\n",
       "      <th>1960s</th>\n",
       "      <th>1976</th>\n",
       "      <th>...</th>\n",
       "      <th>younger</th>\n",
       "      <th>youngest</th>\n",
       "      <th>your</th>\n",
       "      <th>yourself</th>\n",
       "      <th>youssef</th>\n",
       "      <th>youth</th>\n",
       "      <th>zadi</th>\n",
       "      <th>zakhar</th>\n",
       "      <th>zem</th>\n",
       "      <th>zero</th>\n",
       "    </tr>\n",
       "  </thead>\n",
       "  <tbody>\n",
       "    <tr>\n",
       "      <th>0</th>\n",
       "      <td>0.0</td>\n",
       "      <td>0.0</td>\n",
       "      <td>0.0</td>\n",
       "      <td>0.0</td>\n",
       "      <td>0.0</td>\n",
       "      <td>0.0</td>\n",
       "      <td>0.0</td>\n",
       "      <td>0.0</td>\n",
       "      <td>0.0</td>\n",
       "      <td>0.0</td>\n",
       "      <td>...</td>\n",
       "      <td>0.0</td>\n",
       "      <td>0.0</td>\n",
       "      <td>0.0</td>\n",
       "      <td>0.0</td>\n",
       "      <td>0.0</td>\n",
       "      <td>0.0</td>\n",
       "      <td>0.0</td>\n",
       "      <td>0.0</td>\n",
       "      <td>0.0</td>\n",
       "      <td>0.0</td>\n",
       "    </tr>\n",
       "    <tr>\n",
       "      <th>1</th>\n",
       "      <td>0.0</td>\n",
       "      <td>0.0</td>\n",
       "      <td>0.0</td>\n",
       "      <td>0.0</td>\n",
       "      <td>0.0</td>\n",
       "      <td>0.0</td>\n",
       "      <td>0.0</td>\n",
       "      <td>0.0</td>\n",
       "      <td>0.0</td>\n",
       "      <td>0.0</td>\n",
       "      <td>...</td>\n",
       "      <td>0.0</td>\n",
       "      <td>0.0</td>\n",
       "      <td>0.0</td>\n",
       "      <td>0.0</td>\n",
       "      <td>0.0</td>\n",
       "      <td>0.0</td>\n",
       "      <td>0.0</td>\n",
       "      <td>0.0</td>\n",
       "      <td>0.0</td>\n",
       "      <td>0.0</td>\n",
       "    </tr>\n",
       "    <tr>\n",
       "      <th>2</th>\n",
       "      <td>0.0</td>\n",
       "      <td>0.0</td>\n",
       "      <td>0.0</td>\n",
       "      <td>0.0</td>\n",
       "      <td>0.0</td>\n",
       "      <td>0.0</td>\n",
       "      <td>0.0</td>\n",
       "      <td>0.0</td>\n",
       "      <td>0.0</td>\n",
       "      <td>0.0</td>\n",
       "      <td>...</td>\n",
       "      <td>0.0</td>\n",
       "      <td>0.0</td>\n",
       "      <td>0.0</td>\n",
       "      <td>0.0</td>\n",
       "      <td>0.0</td>\n",
       "      <td>0.0</td>\n",
       "      <td>0.0</td>\n",
       "      <td>0.0</td>\n",
       "      <td>0.0</td>\n",
       "      <td>0.0</td>\n",
       "    </tr>\n",
       "    <tr>\n",
       "      <th>3</th>\n",
       "      <td>0.0</td>\n",
       "      <td>0.0</td>\n",
       "      <td>0.0</td>\n",
       "      <td>0.0</td>\n",
       "      <td>0.0</td>\n",
       "      <td>0.0</td>\n",
       "      <td>0.0</td>\n",
       "      <td>0.0</td>\n",
       "      <td>0.0</td>\n",
       "      <td>0.0</td>\n",
       "      <td>...</td>\n",
       "      <td>0.0</td>\n",
       "      <td>0.0</td>\n",
       "      <td>0.0</td>\n",
       "      <td>0.0</td>\n",
       "      <td>0.0</td>\n",
       "      <td>0.0</td>\n",
       "      <td>0.0</td>\n",
       "      <td>0.0</td>\n",
       "      <td>0.0</td>\n",
       "      <td>0.0</td>\n",
       "    </tr>\n",
       "    <tr>\n",
       "      <th>4</th>\n",
       "      <td>0.0</td>\n",
       "      <td>0.0</td>\n",
       "      <td>0.0</td>\n",
       "      <td>0.0</td>\n",
       "      <td>0.0</td>\n",
       "      <td>0.0</td>\n",
       "      <td>0.0</td>\n",
       "      <td>0.0</td>\n",
       "      <td>0.0</td>\n",
       "      <td>0.0</td>\n",
       "      <td>...</td>\n",
       "      <td>0.0</td>\n",
       "      <td>0.0</td>\n",
       "      <td>0.0</td>\n",
       "      <td>0.0</td>\n",
       "      <td>0.0</td>\n",
       "      <td>0.0</td>\n",
       "      <td>0.0</td>\n",
       "      <td>0.0</td>\n",
       "      <td>0.0</td>\n",
       "      <td>0.0</td>\n",
       "    </tr>\n",
       "  </tbody>\n",
       "</table>\n",
       "<p>5 rows × 3291 columns</p>\n",
       "</div>"
      ],
      "text/plain": [
       "    11   12  12th   15   16   17  18th  1945  1960s  1976  ...  younger  \\\n",
       "0  0.0  0.0   0.0  0.0  0.0  0.0   0.0   0.0    0.0   0.0  ...      0.0   \n",
       "1  0.0  0.0   0.0  0.0  0.0  0.0   0.0   0.0    0.0   0.0  ...      0.0   \n",
       "2  0.0  0.0   0.0  0.0  0.0  0.0   0.0   0.0    0.0   0.0  ...      0.0   \n",
       "3  0.0  0.0   0.0  0.0  0.0  0.0   0.0   0.0    0.0   0.0  ...      0.0   \n",
       "4  0.0  0.0   0.0  0.0  0.0  0.0   0.0   0.0    0.0   0.0  ...      0.0   \n",
       "\n",
       "   youngest  your  yourself  youssef  youth  zadi  zakhar  zem  zero  \n",
       "0       0.0   0.0       0.0      0.0    0.0   0.0     0.0  0.0   0.0  \n",
       "1       0.0   0.0       0.0      0.0    0.0   0.0     0.0  0.0   0.0  \n",
       "2       0.0   0.0       0.0      0.0    0.0   0.0     0.0  0.0   0.0  \n",
       "3       0.0   0.0       0.0      0.0    0.0   0.0     0.0  0.0   0.0  \n",
       "4       0.0   0.0       0.0      0.0    0.0   0.0     0.0  0.0   0.0  \n",
       "\n",
       "[5 rows x 3291 columns]"
      ]
     },
     "execution_count": 297,
     "metadata": {},
     "output_type": "execute_result"
    }
   ],
   "source": [
    "movie_default_synopsis.head(5)"
   ]
  },
  {
   "cell_type": "markdown",
   "id": "5c90bf1f-1302-4ef3-9047-6513739ddbd5",
   "metadata": {
    "execution": {
     "iopub.execute_input": "2023-11-21T13:26:06.942686Z",
     "iopub.status.busy": "2023-11-21T13:26:06.942112Z",
     "iopub.status.idle": "2023-11-21T13:26:06.950484Z",
     "shell.execute_reply": "2023-11-21T13:26:06.948801Z",
     "shell.execute_reply.started": "2023-11-21T13:26:06.942638Z"
    },
    "tags": []
   },
   "source": [
    "<p><b>Table 13.</b></p>\n",
    "<p><i>Movies Critic (Default Settings; TFIDF Normalized)</i></p>"
   ]
  },
  {
   "cell_type": "code",
   "execution_count": 298,
   "id": "b2755d47-55eb-4925-99ce-0afd48fa87d4",
   "metadata": {
    "execution": {
     "iopub.execute_input": "2023-11-23T21:08:06.025444Z",
     "iopub.status.busy": "2023-11-23T21:08:06.025225Z",
     "iopub.status.idle": "2023-11-23T21:08:06.166119Z",
     "shell.execute_reply": "2023-11-23T21:08:06.165125Z",
     "shell.execute_reply.started": "2023-11-23T21:08:06.025423Z"
    },
    "tags": []
   },
   "outputs": [
    {
     "data": {
      "text/html": [
       "<div>\n",
       "<style scoped>\n",
       "    .dataframe tbody tr th:only-of-type {\n",
       "        vertical-align: middle;\n",
       "    }\n",
       "\n",
       "    .dataframe tbody tr th {\n",
       "        vertical-align: top;\n",
       "    }\n",
       "\n",
       "    .dataframe thead th {\n",
       "        text-align: right;\n",
       "    }\n",
       "</style>\n",
       "<table border=\"1\" class=\"dataframe\">\n",
       "  <thead>\n",
       "    <tr style=\"text-align: right;\">\n",
       "      <th></th>\n",
       "      <th>00s</th>\n",
       "      <th>10</th>\n",
       "      <th>104</th>\n",
       "      <th>10s</th>\n",
       "      <th>16mm</th>\n",
       "      <th>18th</th>\n",
       "      <th>1970</th>\n",
       "      <th>1980s</th>\n",
       "      <th>1992</th>\n",
       "      <th>1998</th>\n",
       "      <th>...</th>\n",
       "      <th>zaniness</th>\n",
       "      <th>zany</th>\n",
       "      <th>zee</th>\n",
       "      <th>zero</th>\n",
       "      <th>zion</th>\n",
       "      <th>zip</th>\n",
       "      <th>zlotowski</th>\n",
       "      <th>zone</th>\n",
       "      <th>zoom</th>\n",
       "      <th>zootropolis</th>\n",
       "    </tr>\n",
       "  </thead>\n",
       "  <tbody>\n",
       "    <tr>\n",
       "      <th>0</th>\n",
       "      <td>0.0</td>\n",
       "      <td>0.0</td>\n",
       "      <td>0.0</td>\n",
       "      <td>0.0</td>\n",
       "      <td>0.0</td>\n",
       "      <td>0.0</td>\n",
       "      <td>0.0</td>\n",
       "      <td>0.0</td>\n",
       "      <td>0.0</td>\n",
       "      <td>0.0</td>\n",
       "      <td>...</td>\n",
       "      <td>0.0</td>\n",
       "      <td>0.0</td>\n",
       "      <td>0.0</td>\n",
       "      <td>0.0</td>\n",
       "      <td>0.0</td>\n",
       "      <td>0.0</td>\n",
       "      <td>0.0</td>\n",
       "      <td>0.0</td>\n",
       "      <td>0.000000</td>\n",
       "      <td>0.0</td>\n",
       "    </tr>\n",
       "    <tr>\n",
       "      <th>1</th>\n",
       "      <td>0.0</td>\n",
       "      <td>0.0</td>\n",
       "      <td>0.0</td>\n",
       "      <td>0.0</td>\n",
       "      <td>0.0</td>\n",
       "      <td>0.0</td>\n",
       "      <td>0.0</td>\n",
       "      <td>0.0</td>\n",
       "      <td>0.0</td>\n",
       "      <td>0.0</td>\n",
       "      <td>...</td>\n",
       "      <td>0.0</td>\n",
       "      <td>0.0</td>\n",
       "      <td>0.0</td>\n",
       "      <td>0.0</td>\n",
       "      <td>0.0</td>\n",
       "      <td>0.0</td>\n",
       "      <td>0.0</td>\n",
       "      <td>0.0</td>\n",
       "      <td>0.000000</td>\n",
       "      <td>0.0</td>\n",
       "    </tr>\n",
       "    <tr>\n",
       "      <th>2</th>\n",
       "      <td>0.0</td>\n",
       "      <td>0.0</td>\n",
       "      <td>0.0</td>\n",
       "      <td>0.0</td>\n",
       "      <td>0.0</td>\n",
       "      <td>0.0</td>\n",
       "      <td>0.0</td>\n",
       "      <td>0.0</td>\n",
       "      <td>0.0</td>\n",
       "      <td>0.0</td>\n",
       "      <td>...</td>\n",
       "      <td>0.0</td>\n",
       "      <td>0.0</td>\n",
       "      <td>0.0</td>\n",
       "      <td>0.0</td>\n",
       "      <td>0.0</td>\n",
       "      <td>0.0</td>\n",
       "      <td>0.0</td>\n",
       "      <td>0.0</td>\n",
       "      <td>0.127834</td>\n",
       "      <td>0.0</td>\n",
       "    </tr>\n",
       "    <tr>\n",
       "      <th>3</th>\n",
       "      <td>0.0</td>\n",
       "      <td>0.0</td>\n",
       "      <td>0.0</td>\n",
       "      <td>0.0</td>\n",
       "      <td>0.0</td>\n",
       "      <td>0.0</td>\n",
       "      <td>0.0</td>\n",
       "      <td>0.0</td>\n",
       "      <td>0.0</td>\n",
       "      <td>0.0</td>\n",
       "      <td>...</td>\n",
       "      <td>0.0</td>\n",
       "      <td>0.0</td>\n",
       "      <td>0.0</td>\n",
       "      <td>0.0</td>\n",
       "      <td>0.0</td>\n",
       "      <td>0.0</td>\n",
       "      <td>0.0</td>\n",
       "      <td>0.0</td>\n",
       "      <td>0.000000</td>\n",
       "      <td>0.0</td>\n",
       "    </tr>\n",
       "    <tr>\n",
       "      <th>4</th>\n",
       "      <td>0.0</td>\n",
       "      <td>0.0</td>\n",
       "      <td>0.0</td>\n",
       "      <td>0.0</td>\n",
       "      <td>0.0</td>\n",
       "      <td>0.0</td>\n",
       "      <td>0.0</td>\n",
       "      <td>0.0</td>\n",
       "      <td>0.0</td>\n",
       "      <td>0.0</td>\n",
       "      <td>...</td>\n",
       "      <td>0.0</td>\n",
       "      <td>0.0</td>\n",
       "      <td>0.0</td>\n",
       "      <td>0.0</td>\n",
       "      <td>0.0</td>\n",
       "      <td>0.0</td>\n",
       "      <td>0.0</td>\n",
       "      <td>0.0</td>\n",
       "      <td>0.000000</td>\n",
       "      <td>0.0</td>\n",
       "    </tr>\n",
       "  </tbody>\n",
       "</table>\n",
       "<p>5 rows × 4692 columns</p>\n",
       "</div>"
      ],
      "text/plain": [
       "   00s   10  104  10s  16mm  18th  1970  1980s  1992  1998  ...  zaniness  \\\n",
       "0  0.0  0.0  0.0  0.0   0.0   0.0   0.0    0.0   0.0   0.0  ...       0.0   \n",
       "1  0.0  0.0  0.0  0.0   0.0   0.0   0.0    0.0   0.0   0.0  ...       0.0   \n",
       "2  0.0  0.0  0.0  0.0   0.0   0.0   0.0    0.0   0.0   0.0  ...       0.0   \n",
       "3  0.0  0.0  0.0  0.0   0.0   0.0   0.0    0.0   0.0   0.0  ...       0.0   \n",
       "4  0.0  0.0  0.0  0.0   0.0   0.0   0.0    0.0   0.0   0.0  ...       0.0   \n",
       "\n",
       "   zany  zee  zero  zion  zip  zlotowski  zone      zoom  zootropolis  \n",
       "0   0.0  0.0   0.0   0.0  0.0        0.0   0.0  0.000000          0.0  \n",
       "1   0.0  0.0   0.0   0.0  0.0        0.0   0.0  0.000000          0.0  \n",
       "2   0.0  0.0   0.0   0.0  0.0        0.0   0.0  0.127834          0.0  \n",
       "3   0.0  0.0   0.0   0.0  0.0        0.0   0.0  0.000000          0.0  \n",
       "4   0.0  0.0   0.0   0.0  0.0        0.0   0.0  0.000000          0.0  \n",
       "\n",
       "[5 rows x 4692 columns]"
      ]
     },
     "execution_count": 298,
     "metadata": {},
     "output_type": "execute_result"
    }
   ],
   "source": [
    "movie_default_critic.head(5)"
   ]
  },
  {
   "cell_type": "markdown",
   "id": "3dc47d56-21a2-4d36-b818-c7b59ac7009c",
   "metadata": {
    "execution": {
     "iopub.execute_input": "2023-11-21T13:26:40.218204Z",
     "iopub.status.busy": "2023-11-21T13:26:40.217589Z",
     "iopub.status.idle": "2023-11-21T13:26:40.225855Z",
     "shell.execute_reply": "2023-11-21T13:26:40.224442Z",
     "shell.execute_reply.started": "2023-11-21T13:26:40.218154Z"
    },
    "tags": []
   },
   "source": [
    "<p><b>Table 14.</b></p>\n",
    "<p><i>Movies Synopsis (Optimal Settings; TFIDF Normalized)</i></p>"
   ]
  },
  {
   "cell_type": "code",
   "execution_count": 299,
   "id": "275219f9-eea6-400c-880e-9b2d9835e226",
   "metadata": {
    "execution": {
     "iopub.execute_input": "2023-11-23T21:08:06.167235Z",
     "iopub.status.busy": "2023-11-23T21:08:06.167016Z",
     "iopub.status.idle": "2023-11-23T21:08:06.196271Z",
     "shell.execute_reply": "2023-11-23T21:08:06.195322Z",
     "shell.execute_reply.started": "2023-11-23T21:08:06.167214Z"
    },
    "tags": []
   },
   "outputs": [
    {
     "data": {
      "text/html": [
       "<div>\n",
       "<style scoped>\n",
       "    .dataframe tbody tr th:only-of-type {\n",
       "        vertical-align: middle;\n",
       "    }\n",
       "\n",
       "    .dataframe tbody tr th {\n",
       "        vertical-align: top;\n",
       "    }\n",
       "\n",
       "    .dataframe thead th {\n",
       "        text-align: right;\n",
       "    }\n",
       "</style>\n",
       "<table border=\"1\" class=\"dataframe\">\n",
       "  <thead>\n",
       "    <tr style=\"text-align: right;\">\n",
       "      <th></th>\n",
       "      <th>_connector_ world</th>\n",
       "      <th>are</th>\n",
       "      <th>back</th>\n",
       "      <th>be</th>\n",
       "      <th>becom</th>\n",
       "      <th>begin</th>\n",
       "      <th>best</th>\n",
       "      <th>can</th>\n",
       "      <th>discov</th>\n",
       "      <th>famili</th>\n",
       "      <th>...</th>\n",
       "      <th>take</th>\n",
       "      <th>them</th>\n",
       "      <th>they</th>\n",
       "      <th>time</th>\n",
       "      <th>two</th>\n",
       "      <th>who</th>\n",
       "      <th>world</th>\n",
       "      <th>year</th>\n",
       "      <th>year old</th>\n",
       "      <th>young</th>\n",
       "    </tr>\n",
       "  </thead>\n",
       "  <tbody>\n",
       "    <tr>\n",
       "      <th>0</th>\n",
       "      <td>0.0</td>\n",
       "      <td>0.301699</td>\n",
       "      <td>0.000000</td>\n",
       "      <td>0.000000</td>\n",
       "      <td>0.0</td>\n",
       "      <td>0.000000</td>\n",
       "      <td>0.0</td>\n",
       "      <td>0.0</td>\n",
       "      <td>0.0</td>\n",
       "      <td>0.301699</td>\n",
       "      <td>...</td>\n",
       "      <td>0.0</td>\n",
       "      <td>0.0</td>\n",
       "      <td>0.0</td>\n",
       "      <td>0.0</td>\n",
       "      <td>0.0</td>\n",
       "      <td>0.000000</td>\n",
       "      <td>0.0</td>\n",
       "      <td>0.289036</td>\n",
       "      <td>0.000000</td>\n",
       "      <td>0.306247</td>\n",
       "    </tr>\n",
       "    <tr>\n",
       "      <th>1</th>\n",
       "      <td>0.0</td>\n",
       "      <td>0.000000</td>\n",
       "      <td>0.000000</td>\n",
       "      <td>0.000000</td>\n",
       "      <td>0.0</td>\n",
       "      <td>0.000000</td>\n",
       "      <td>0.0</td>\n",
       "      <td>0.0</td>\n",
       "      <td>0.0</td>\n",
       "      <td>0.000000</td>\n",
       "      <td>...</td>\n",
       "      <td>0.0</td>\n",
       "      <td>0.0</td>\n",
       "      <td>0.0</td>\n",
       "      <td>0.0</td>\n",
       "      <td>0.0</td>\n",
       "      <td>0.243383</td>\n",
       "      <td>0.0</td>\n",
       "      <td>0.266502</td>\n",
       "      <td>0.323606</td>\n",
       "      <td>0.000000</td>\n",
       "    </tr>\n",
       "    <tr>\n",
       "      <th>2</th>\n",
       "      <td>0.0</td>\n",
       "      <td>0.000000</td>\n",
       "      <td>0.000000</td>\n",
       "      <td>0.000000</td>\n",
       "      <td>0.0</td>\n",
       "      <td>0.000000</td>\n",
       "      <td>0.0</td>\n",
       "      <td>0.0</td>\n",
       "      <td>0.0</td>\n",
       "      <td>0.340635</td>\n",
       "      <td>...</td>\n",
       "      <td>0.0</td>\n",
       "      <td>0.0</td>\n",
       "      <td>0.0</td>\n",
       "      <td>0.0</td>\n",
       "      <td>0.0</td>\n",
       "      <td>0.000000</td>\n",
       "      <td>0.0</td>\n",
       "      <td>0.000000</td>\n",
       "      <td>0.000000</td>\n",
       "      <td>0.000000</td>\n",
       "    </tr>\n",
       "    <tr>\n",
       "      <th>3</th>\n",
       "      <td>0.0</td>\n",
       "      <td>0.000000</td>\n",
       "      <td>0.245681</td>\n",
       "      <td>0.440677</td>\n",
       "      <td>0.0</td>\n",
       "      <td>0.240856</td>\n",
       "      <td>0.0</td>\n",
       "      <td>0.0</td>\n",
       "      <td>0.0</td>\n",
       "      <td>0.000000</td>\n",
       "      <td>...</td>\n",
       "      <td>0.0</td>\n",
       "      <td>0.0</td>\n",
       "      <td>0.0</td>\n",
       "      <td>0.0</td>\n",
       "      <td>0.0</td>\n",
       "      <td>0.181147</td>\n",
       "      <td>0.0</td>\n",
       "      <td>0.000000</td>\n",
       "      <td>0.000000</td>\n",
       "      <td>0.210165</td>\n",
       "    </tr>\n",
       "    <tr>\n",
       "      <th>4</th>\n",
       "      <td>0.0</td>\n",
       "      <td>0.000000</td>\n",
       "      <td>0.000000</td>\n",
       "      <td>0.000000</td>\n",
       "      <td>0.0</td>\n",
       "      <td>0.000000</td>\n",
       "      <td>0.0</td>\n",
       "      <td>0.0</td>\n",
       "      <td>0.0</td>\n",
       "      <td>0.000000</td>\n",
       "      <td>...</td>\n",
       "      <td>0.0</td>\n",
       "      <td>0.0</td>\n",
       "      <td>0.0</td>\n",
       "      <td>0.0</td>\n",
       "      <td>1.0</td>\n",
       "      <td>0.000000</td>\n",
       "      <td>0.0</td>\n",
       "      <td>0.000000</td>\n",
       "      <td>0.000000</td>\n",
       "      <td>0.000000</td>\n",
       "    </tr>\n",
       "  </tbody>\n",
       "</table>\n",
       "<p>5 rows × 46 columns</p>\n",
       "</div>"
      ],
      "text/plain": [
       "   _connector_ world       are      back        be  becom     begin  best  \\\n",
       "0                0.0  0.301699  0.000000  0.000000    0.0  0.000000   0.0   \n",
       "1                0.0  0.000000  0.000000  0.000000    0.0  0.000000   0.0   \n",
       "2                0.0  0.000000  0.000000  0.000000    0.0  0.000000   0.0   \n",
       "3                0.0  0.000000  0.245681  0.440677    0.0  0.240856   0.0   \n",
       "4                0.0  0.000000  0.000000  0.000000    0.0  0.000000   0.0   \n",
       "\n",
       "   can  discov    famili  ...  take  them  they  time  two       who  world  \\\n",
       "0  0.0     0.0  0.301699  ...   0.0   0.0   0.0   0.0  0.0  0.000000    0.0   \n",
       "1  0.0     0.0  0.000000  ...   0.0   0.0   0.0   0.0  0.0  0.243383    0.0   \n",
       "2  0.0     0.0  0.340635  ...   0.0   0.0   0.0   0.0  0.0  0.000000    0.0   \n",
       "3  0.0     0.0  0.000000  ...   0.0   0.0   0.0   0.0  0.0  0.181147    0.0   \n",
       "4  0.0     0.0  0.000000  ...   0.0   0.0   0.0   0.0  1.0  0.000000    0.0   \n",
       "\n",
       "       year  year old     young  \n",
       "0  0.289036  0.000000  0.306247  \n",
       "1  0.266502  0.323606  0.000000  \n",
       "2  0.000000  0.000000  0.000000  \n",
       "3  0.000000  0.000000  0.210165  \n",
       "4  0.000000  0.000000  0.000000  \n",
       "\n",
       "[5 rows x 46 columns]"
      ]
     },
     "execution_count": 299,
     "metadata": {},
     "output_type": "execute_result"
    }
   ],
   "source": [
    "movie_optimal_synopsis.head(5)"
   ]
  },
  {
   "cell_type": "markdown",
   "id": "45b361b6-86ed-448f-9aad-2ffda27897ff",
   "metadata": {},
   "source": [
    "<p><b>Table 15.</b></p>\n",
    "<p><i>Movies Critic (Optimal Settings; TFIDF Normalized)</i></p>"
   ]
  },
  {
   "cell_type": "code",
   "execution_count": 300,
   "id": "b0f7cfbb-3f79-49ca-b829-d25b84937c53",
   "metadata": {
    "execution": {
     "iopub.execute_input": "2023-11-23T21:08:06.197276Z",
     "iopub.status.busy": "2023-11-23T21:08:06.197069Z",
     "iopub.status.idle": "2023-11-23T21:08:06.231455Z",
     "shell.execute_reply": "2023-11-23T21:08:06.230339Z",
     "shell.execute_reply.started": "2023-11-23T21:08:06.197256Z"
    },
    "tags": []
   },
   "outputs": [
    {
     "data": {
      "text/html": [
       "<div>\n",
       "<style scoped>\n",
       "    .dataframe tbody tr th:only-of-type {\n",
       "        vertical-align: middle;\n",
       "    }\n",
       "\n",
       "    .dataframe tbody tr th {\n",
       "        vertical-align: top;\n",
       "    }\n",
       "\n",
       "    .dataframe thead th {\n",
       "        text-align: right;\n",
       "    }\n",
       "</style>\n",
       "<table border=\"1\" class=\"dataframe\">\n",
       "  <thead>\n",
       "    <tr style=\"text-align: right;\">\n",
       "      <th></th>\n",
       "      <th>_connector_ _connector_</th>\n",
       "      <th>_connector_ end</th>\n",
       "      <th>_connector_ is</th>\n",
       "      <th>_connector_ it</th>\n",
       "      <th>_connector_ most</th>\n",
       "      <th>_connector_ spanish</th>\n",
       "      <th>_connector_ way</th>\n",
       "      <th>action</th>\n",
       "      <th>actor</th>\n",
       "      <th>also</th>\n",
       "      <th>...</th>\n",
       "      <th>which</th>\n",
       "      <th>while</th>\n",
       "      <th>who</th>\n",
       "      <th>will</th>\n",
       "      <th>work</th>\n",
       "      <th>world</th>\n",
       "      <th>writer</th>\n",
       "      <th>year</th>\n",
       "      <th>you</th>\n",
       "      <th>your</th>\n",
       "    </tr>\n",
       "  </thead>\n",
       "  <tbody>\n",
       "    <tr>\n",
       "      <th>0</th>\n",
       "      <td>0.0</td>\n",
       "      <td>0.0</td>\n",
       "      <td>0.000000</td>\n",
       "      <td>0.0</td>\n",
       "      <td>0.000000</td>\n",
       "      <td>0.189491</td>\n",
       "      <td>0.0</td>\n",
       "      <td>0.0</td>\n",
       "      <td>0.197687</td>\n",
       "      <td>0.167216</td>\n",
       "      <td>...</td>\n",
       "      <td>0.000000</td>\n",
       "      <td>0.175795</td>\n",
       "      <td>0.000000</td>\n",
       "      <td>0.0</td>\n",
       "      <td>0.146946</td>\n",
       "      <td>0.0</td>\n",
       "      <td>0.0</td>\n",
       "      <td>0.0</td>\n",
       "      <td>0.000000</td>\n",
       "      <td>0.0</td>\n",
       "    </tr>\n",
       "    <tr>\n",
       "      <th>1</th>\n",
       "      <td>0.0</td>\n",
       "      <td>0.0</td>\n",
       "      <td>0.000000</td>\n",
       "      <td>0.0</td>\n",
       "      <td>0.000000</td>\n",
       "      <td>0.000000</td>\n",
       "      <td>0.0</td>\n",
       "      <td>0.0</td>\n",
       "      <td>0.000000</td>\n",
       "      <td>0.000000</td>\n",
       "      <td>...</td>\n",
       "      <td>0.000000</td>\n",
       "      <td>0.000000</td>\n",
       "      <td>0.151074</td>\n",
       "      <td>0.0</td>\n",
       "      <td>0.000000</td>\n",
       "      <td>0.0</td>\n",
       "      <td>0.0</td>\n",
       "      <td>0.0</td>\n",
       "      <td>0.000000</td>\n",
       "      <td>0.0</td>\n",
       "    </tr>\n",
       "    <tr>\n",
       "      <th>2</th>\n",
       "      <td>0.0</td>\n",
       "      <td>0.0</td>\n",
       "      <td>0.190172</td>\n",
       "      <td>0.0</td>\n",
       "      <td>0.000000</td>\n",
       "      <td>0.000000</td>\n",
       "      <td>0.0</td>\n",
       "      <td>0.0</td>\n",
       "      <td>0.000000</td>\n",
       "      <td>0.000000</td>\n",
       "      <td>...</td>\n",
       "      <td>0.000000</td>\n",
       "      <td>0.000000</td>\n",
       "      <td>0.000000</td>\n",
       "      <td>0.0</td>\n",
       "      <td>0.000000</td>\n",
       "      <td>0.0</td>\n",
       "      <td>0.0</td>\n",
       "      <td>0.0</td>\n",
       "      <td>0.000000</td>\n",
       "      <td>0.0</td>\n",
       "    </tr>\n",
       "    <tr>\n",
       "      <th>3</th>\n",
       "      <td>0.0</td>\n",
       "      <td>0.0</td>\n",
       "      <td>0.000000</td>\n",
       "      <td>0.0</td>\n",
       "      <td>0.000000</td>\n",
       "      <td>0.000000</td>\n",
       "      <td>0.0</td>\n",
       "      <td>0.0</td>\n",
       "      <td>0.000000</td>\n",
       "      <td>0.000000</td>\n",
       "      <td>...</td>\n",
       "      <td>0.000000</td>\n",
       "      <td>0.000000</td>\n",
       "      <td>0.145567</td>\n",
       "      <td>0.0</td>\n",
       "      <td>0.000000</td>\n",
       "      <td>0.0</td>\n",
       "      <td>0.0</td>\n",
       "      <td>0.0</td>\n",
       "      <td>0.000000</td>\n",
       "      <td>0.0</td>\n",
       "    </tr>\n",
       "    <tr>\n",
       "      <th>4</th>\n",
       "      <td>0.0</td>\n",
       "      <td>0.0</td>\n",
       "      <td>0.000000</td>\n",
       "      <td>0.0</td>\n",
       "      <td>0.161545</td>\n",
       "      <td>0.154848</td>\n",
       "      <td>0.0</td>\n",
       "      <td>0.0</td>\n",
       "      <td>0.161545</td>\n",
       "      <td>0.000000</td>\n",
       "      <td>...</td>\n",
       "      <td>0.132463</td>\n",
       "      <td>0.000000</td>\n",
       "      <td>0.125019</td>\n",
       "      <td>0.0</td>\n",
       "      <td>0.000000</td>\n",
       "      <td>0.0</td>\n",
       "      <td>0.0</td>\n",
       "      <td>0.0</td>\n",
       "      <td>0.095729</td>\n",
       "      <td>0.0</td>\n",
       "    </tr>\n",
       "  </tbody>\n",
       "</table>\n",
       "<p>5 rows × 148 columns</p>\n",
       "</div>"
      ],
      "text/plain": [
       "   _connector_ _connector_  _connector_ end  _connector_ is  _connector_ it  \\\n",
       "0                      0.0              0.0        0.000000             0.0   \n",
       "1                      0.0              0.0        0.000000             0.0   \n",
       "2                      0.0              0.0        0.190172             0.0   \n",
       "3                      0.0              0.0        0.000000             0.0   \n",
       "4                      0.0              0.0        0.000000             0.0   \n",
       "\n",
       "   _connector_ most  _connector_ spanish  _connector_ way  action     actor  \\\n",
       "0          0.000000             0.189491              0.0     0.0  0.197687   \n",
       "1          0.000000             0.000000              0.0     0.0  0.000000   \n",
       "2          0.000000             0.000000              0.0     0.0  0.000000   \n",
       "3          0.000000             0.000000              0.0     0.0  0.000000   \n",
       "4          0.161545             0.154848              0.0     0.0  0.161545   \n",
       "\n",
       "       also  ...     which     while       who  will      work  world  writer  \\\n",
       "0  0.167216  ...  0.000000  0.175795  0.000000   0.0  0.146946    0.0     0.0   \n",
       "1  0.000000  ...  0.000000  0.000000  0.151074   0.0  0.000000    0.0     0.0   \n",
       "2  0.000000  ...  0.000000  0.000000  0.000000   0.0  0.000000    0.0     0.0   \n",
       "3  0.000000  ...  0.000000  0.000000  0.145567   0.0  0.000000    0.0     0.0   \n",
       "4  0.000000  ...  0.132463  0.000000  0.125019   0.0  0.000000    0.0     0.0   \n",
       "\n",
       "   year       you  your  \n",
       "0   0.0  0.000000   0.0  \n",
       "1   0.0  0.000000   0.0  \n",
       "2   0.0  0.000000   0.0  \n",
       "3   0.0  0.000000   0.0  \n",
       "4   0.0  0.095729   0.0  \n",
       "\n",
       "[5 rows x 148 columns]"
      ]
     },
     "execution_count": 300,
     "metadata": {},
     "output_type": "execute_result"
    }
   ],
   "source": [
    "movie_optimal_critic.head(5)"
   ]
  },
  {
   "cell_type": "markdown",
   "id": "0a29eaa8-c146-45e1-a637-419ce618e55b",
   "metadata": {},
   "source": [
    "These default and optimal dataframes are then concatenated separately to the main dataframe `movies`, resulting to two dataframes `movies_default` and `movies_optimal`. As the next step is normalization of the column `runtime`, given that `runtime` is a buzzword in the film domain and it was seen that there is indeed a token named `runtime` in the bag-of-word dataframes, the original `runtime` column name would be changed to `runtime_old`. Moreover, given that `title` would be used and there is a duplicate column because of the bag-of-word step, the column name for `title` is changed to `title_old`."
   ]
  },
  {
   "cell_type": "code",
   "execution_count": 301,
   "id": "c2e58efc-ac73-4260-9ab7-178f2774d82a",
   "metadata": {
    "execution": {
     "iopub.execute_input": "2023-11-23T21:08:06.232736Z",
     "iopub.status.busy": "2023-11-23T21:08:06.232525Z",
     "iopub.status.idle": "2023-11-23T21:08:06.582466Z",
     "shell.execute_reply": "2023-11-23T21:08:06.581332Z",
     "shell.execute_reply.started": "2023-11-23T21:08:06.232717Z"
    },
    "tags": []
   },
   "outputs": [],
   "source": [
    "concat_movies = movies.rename(columns={'runtime': 'runtime_old',\n",
    "                                       'title': 'title_old'})\n",
    "\n",
    "# Movies (Default)\n",
    "movies_default = concat_movies.drop(['critic', 'synopsis'], axis=1)\n",
    "movies_default = pd.concat([movies_default, movie_default_synopsis,\n",
    "                            movie_default_critic], axis=1)\n",
    "\n",
    "# Movies (Optimal)\n",
    "movies_optimal = concat_movies.drop(['critic', 'synopsis'], axis=1)\n",
    "movies_optimal = pd.concat([movies_optimal, movie_optimal_synopsis,\n",
    "                            movie_optimal_critic], axis=1)"
   ]
  },
  {
   "cell_type": "markdown",
   "id": "098ef803-bbcb-4136-9bee-a0c02d496553",
   "metadata": {},
   "source": [
    "Lastly, the column `runtime` in both dataframes will be scaled with MinMaxScaler in order to scale the values in this column to the range from zero to one, the range in the one-hot encoded columns and in the TFIDF normalized columns."
   ]
  },
  {
   "cell_type": "code",
   "execution_count": 302,
   "id": "a342c71f-93dc-47a2-a4e4-2c631a7bbdf5",
   "metadata": {
    "execution": {
     "iopub.execute_input": "2023-11-23T21:08:06.583834Z",
     "iopub.status.busy": "2023-11-23T21:08:06.583599Z",
     "iopub.status.idle": "2023-11-23T21:08:06.995513Z",
     "shell.execute_reply": "2023-11-23T21:08:06.993974Z",
     "shell.execute_reply.started": "2023-11-23T21:08:06.583813Z"
    },
    "tags": []
   },
   "outputs": [],
   "source": [
    "scaler_default = MinMaxScaler()\n",
    "scaler_optimal = MinMaxScaler()\n",
    "\n",
    "\n",
    "# Movies (Default)\n",
    "runtime_default = scaler_default.fit_transform(\n",
    "    movies_default[['runtime_old']])\n",
    "runtime_default = pd.DataFrame(runtime_default, columns=['runtime_old'])\n",
    "movies_default.drop('runtime_old', axis=1, inplace=True)\n",
    "movies_default = pd.concat([movies_default, runtime_default], axis=1)\n",
    "\n",
    "# Movies (Optimal)\n",
    "runtime_optimal = scaler_optimal.fit_transform(\n",
    "    movies_optimal[['runtime_old']])\n",
    "runtime_optimal = pd.DataFrame(runtime_optimal, columns=['runtime_old'])\n",
    "movies_optimal.drop('runtime_old', axis=1, inplace=True)\n",
    "movies_optimal = pd.concat([movies_optimal, runtime_optimal], axis=1)"
   ]
  },
  {
   "cell_type": "markdown",
   "id": "facb310a-fa5a-4b4b-9232-aabad17ddb9d",
   "metadata": {},
   "source": [
    "The final tables which would be used in the Information Retrieval part are presented below:"
   ]
  },
  {
   "cell_type": "markdown",
   "id": "aad70edf-3f01-45de-812b-be8c221679e1",
   "metadata": {},
   "source": [
    "<p><b>Table 16.</b></p>\n",
    "<p><i>Movies Default (Final)</i></p>"
   ]
  },
  {
   "cell_type": "code",
   "execution_count": 303,
   "id": "07aa1eb3-7e16-43c0-ad84-03bfa459ac84",
   "metadata": {
    "execution": {
     "iopub.execute_input": "2023-11-23T21:08:06.996768Z",
     "iopub.status.busy": "2023-11-23T21:08:06.996536Z",
     "iopub.status.idle": "2023-11-23T21:08:07.931443Z",
     "shell.execute_reply": "2023-11-23T21:08:07.929578Z",
     "shell.execute_reply.started": "2023-11-23T21:08:06.996747Z"
    },
    "tags": []
   },
   "outputs": [
    {
     "data": {
      "text/html": [
       "<div>\n",
       "<style scoped>\n",
       "    .dataframe tbody tr th:only-of-type {\n",
       "        vertical-align: middle;\n",
       "    }\n",
       "\n",
       "    .dataframe tbody tr th {\n",
       "        vertical-align: top;\n",
       "    }\n",
       "\n",
       "    .dataframe thead th {\n",
       "        text-align: right;\n",
       "    }\n",
       "</style>\n",
       "<table border=\"1\" class=\"dataframe\">\n",
       "  <thead>\n",
       "    <tr style=\"text-align: right;\">\n",
       "      <th></th>\n",
       "      <th>title_old</th>\n",
       "      <th>g_action</th>\n",
       "      <th>g_adventure</th>\n",
       "      <th>g_animation</th>\n",
       "      <th>g_anime</th>\n",
       "      <th>g_biography</th>\n",
       "      <th>g_comedy</th>\n",
       "      <th>g_crime</th>\n",
       "      <th>g_drama</th>\n",
       "      <th>g_fantasy</th>\n",
       "      <th>...</th>\n",
       "      <th>zany</th>\n",
       "      <th>zee</th>\n",
       "      <th>zero</th>\n",
       "      <th>zion</th>\n",
       "      <th>zip</th>\n",
       "      <th>zlotowski</th>\n",
       "      <th>zone</th>\n",
       "      <th>zoom</th>\n",
       "      <th>zootropolis</th>\n",
       "      <th>runtime_old</th>\n",
       "    </tr>\n",
       "  </thead>\n",
       "  <tbody>\n",
       "    <tr>\n",
       "      <th>0</th>\n",
       "      <td>Afire</td>\n",
       "      <td>0</td>\n",
       "      <td>0</td>\n",
       "      <td>0</td>\n",
       "      <td>0</td>\n",
       "      <td>0</td>\n",
       "      <td>1</td>\n",
       "      <td>0</td>\n",
       "      <td>1</td>\n",
       "      <td>0</td>\n",
       "      <td>...</td>\n",
       "      <td>0.0</td>\n",
       "      <td>0.0</td>\n",
       "      <td>0.0</td>\n",
       "      <td>0.0</td>\n",
       "      <td>0.0</td>\n",
       "      <td>0.0</td>\n",
       "      <td>0.0</td>\n",
       "      <td>0.000000</td>\n",
       "      <td>0.0</td>\n",
       "      <td>0.572222</td>\n",
       "    </tr>\n",
       "    <tr>\n",
       "      <th>1</th>\n",
       "      <td>A Thousand and One</td>\n",
       "      <td>0</td>\n",
       "      <td>0</td>\n",
       "      <td>0</td>\n",
       "      <td>0</td>\n",
       "      <td>0</td>\n",
       "      <td>0</td>\n",
       "      <td>0</td>\n",
       "      <td>1</td>\n",
       "      <td>0</td>\n",
       "      <td>...</td>\n",
       "      <td>0.0</td>\n",
       "      <td>0.0</td>\n",
       "      <td>0.0</td>\n",
       "      <td>0.0</td>\n",
       "      <td>0.0</td>\n",
       "      <td>0.0</td>\n",
       "      <td>0.0</td>\n",
       "      <td>0.000000</td>\n",
       "      <td>0.0</td>\n",
       "      <td>0.650000</td>\n",
       "    </tr>\n",
       "    <tr>\n",
       "      <th>2</th>\n",
       "      <td>A Million Miles Away</td>\n",
       "      <td>0</td>\n",
       "      <td>0</td>\n",
       "      <td>0</td>\n",
       "      <td>0</td>\n",
       "      <td>1</td>\n",
       "      <td>0</td>\n",
       "      <td>0</td>\n",
       "      <td>1</td>\n",
       "      <td>0</td>\n",
       "      <td>...</td>\n",
       "      <td>0.0</td>\n",
       "      <td>0.0</td>\n",
       "      <td>0.0</td>\n",
       "      <td>0.0</td>\n",
       "      <td>0.0</td>\n",
       "      <td>0.0</td>\n",
       "      <td>0.0</td>\n",
       "      <td>0.127834</td>\n",
       "      <td>0.0</td>\n",
       "      <td>0.672222</td>\n",
       "    </tr>\n",
       "  </tbody>\n",
       "</table>\n",
       "<p>3 rows × 8026 columns</p>\n",
       "</div>"
      ],
      "text/plain": [
       "              title_old  g_action  g_adventure  g_animation  g_anime  \\\n",
       "0                 Afire         0            0            0        0   \n",
       "1    A Thousand and One         0            0            0        0   \n",
       "2  A Million Miles Away         0            0            0        0   \n",
       "\n",
       "   g_biography  g_comedy  g_crime  g_drama  g_fantasy  ...  zany  zee  zero  \\\n",
       "0            0         1        0        1          0  ...   0.0  0.0   0.0   \n",
       "1            0         0        0        1          0  ...   0.0  0.0   0.0   \n",
       "2            1         0        0        1          0  ...   0.0  0.0   0.0   \n",
       "\n",
       "   zion  zip  zlotowski  zone      zoom  zootropolis  runtime_old  \n",
       "0   0.0  0.0        0.0   0.0  0.000000          0.0     0.572222  \n",
       "1   0.0  0.0        0.0   0.0  0.000000          0.0     0.650000  \n",
       "2   0.0  0.0        0.0   0.0  0.127834          0.0     0.672222  \n",
       "\n",
       "[3 rows x 8026 columns]"
      ]
     },
     "execution_count": 303,
     "metadata": {},
     "output_type": "execute_result"
    }
   ],
   "source": [
    "movies_default.head(3)"
   ]
  },
  {
   "cell_type": "markdown",
   "id": "abc183da-5cda-446b-856e-798c8e5f6c45",
   "metadata": {},
   "source": [
    "<p><b>Table 17.</b></p>\n",
    "<p><i>Movies Optimal (Final)</i></p>"
   ]
  },
  {
   "cell_type": "code",
   "execution_count": 304,
   "id": "2d6cc8ba-0017-4856-ba51-6f381982bc3e",
   "metadata": {
    "execution": {
     "iopub.execute_input": "2023-11-23T21:08:07.933285Z",
     "iopub.status.busy": "2023-11-23T21:08:07.932994Z",
     "iopub.status.idle": "2023-11-23T21:08:07.962374Z",
     "shell.execute_reply": "2023-11-23T21:08:07.961449Z",
     "shell.execute_reply.started": "2023-11-23T21:08:07.933259Z"
    },
    "tags": []
   },
   "outputs": [
    {
     "data": {
      "text/html": [
       "<div>\n",
       "<style scoped>\n",
       "    .dataframe tbody tr th:only-of-type {\n",
       "        vertical-align: middle;\n",
       "    }\n",
       "\n",
       "    .dataframe tbody tr th {\n",
       "        vertical-align: top;\n",
       "    }\n",
       "\n",
       "    .dataframe thead th {\n",
       "        text-align: right;\n",
       "    }\n",
       "</style>\n",
       "<table border=\"1\" class=\"dataframe\">\n",
       "  <thead>\n",
       "    <tr style=\"text-align: right;\">\n",
       "      <th></th>\n",
       "      <th>title_old</th>\n",
       "      <th>g_action</th>\n",
       "      <th>g_adventure</th>\n",
       "      <th>g_animation</th>\n",
       "      <th>g_anime</th>\n",
       "      <th>g_biography</th>\n",
       "      <th>g_comedy</th>\n",
       "      <th>g_crime</th>\n",
       "      <th>g_drama</th>\n",
       "      <th>g_fantasy</th>\n",
       "      <th>...</th>\n",
       "      <th>while</th>\n",
       "      <th>who</th>\n",
       "      <th>will</th>\n",
       "      <th>work</th>\n",
       "      <th>world</th>\n",
       "      <th>writer</th>\n",
       "      <th>year</th>\n",
       "      <th>you</th>\n",
       "      <th>your</th>\n",
       "      <th>runtime_old</th>\n",
       "    </tr>\n",
       "  </thead>\n",
       "  <tbody>\n",
       "    <tr>\n",
       "      <th>0</th>\n",
       "      <td>Afire</td>\n",
       "      <td>0</td>\n",
       "      <td>0</td>\n",
       "      <td>0</td>\n",
       "      <td>0</td>\n",
       "      <td>0</td>\n",
       "      <td>1</td>\n",
       "      <td>0</td>\n",
       "      <td>1</td>\n",
       "      <td>0</td>\n",
       "      <td>...</td>\n",
       "      <td>0.175795</td>\n",
       "      <td>0.000000</td>\n",
       "      <td>0.0</td>\n",
       "      <td>0.146946</td>\n",
       "      <td>0.0</td>\n",
       "      <td>0.0</td>\n",
       "      <td>0.0</td>\n",
       "      <td>0.0</td>\n",
       "      <td>0.0</td>\n",
       "      <td>0.572222</td>\n",
       "    </tr>\n",
       "    <tr>\n",
       "      <th>1</th>\n",
       "      <td>A Thousand and One</td>\n",
       "      <td>0</td>\n",
       "      <td>0</td>\n",
       "      <td>0</td>\n",
       "      <td>0</td>\n",
       "      <td>0</td>\n",
       "      <td>0</td>\n",
       "      <td>0</td>\n",
       "      <td>1</td>\n",
       "      <td>0</td>\n",
       "      <td>...</td>\n",
       "      <td>0.000000</td>\n",
       "      <td>0.151074</td>\n",
       "      <td>0.0</td>\n",
       "      <td>0.000000</td>\n",
       "      <td>0.0</td>\n",
       "      <td>0.0</td>\n",
       "      <td>0.0</td>\n",
       "      <td>0.0</td>\n",
       "      <td>0.0</td>\n",
       "      <td>0.650000</td>\n",
       "    </tr>\n",
       "    <tr>\n",
       "      <th>2</th>\n",
       "      <td>A Million Miles Away</td>\n",
       "      <td>0</td>\n",
       "      <td>0</td>\n",
       "      <td>0</td>\n",
       "      <td>0</td>\n",
       "      <td>1</td>\n",
       "      <td>0</td>\n",
       "      <td>0</td>\n",
       "      <td>1</td>\n",
       "      <td>0</td>\n",
       "      <td>...</td>\n",
       "      <td>0.000000</td>\n",
       "      <td>0.000000</td>\n",
       "      <td>0.0</td>\n",
       "      <td>0.000000</td>\n",
       "      <td>0.0</td>\n",
       "      <td>0.0</td>\n",
       "      <td>0.0</td>\n",
       "      <td>0.0</td>\n",
       "      <td>0.0</td>\n",
       "      <td>0.672222</td>\n",
       "    </tr>\n",
       "  </tbody>\n",
       "</table>\n",
       "<p>3 rows × 237 columns</p>\n",
       "</div>"
      ],
      "text/plain": [
       "              title_old  g_action  g_adventure  g_animation  g_anime  \\\n",
       "0                 Afire         0            0            0        0   \n",
       "1    A Thousand and One         0            0            0        0   \n",
       "2  A Million Miles Away         0            0            0        0   \n",
       "\n",
       "   g_biography  g_comedy  g_crime  g_drama  g_fantasy  ...     while  \\\n",
       "0            0         1        0        1          0  ...  0.175795   \n",
       "1            0         0        0        1          0  ...  0.000000   \n",
       "2            1         0        0        1          0  ...  0.000000   \n",
       "\n",
       "        who  will      work  world  writer  year  you  your  runtime_old  \n",
       "0  0.000000   0.0  0.146946    0.0     0.0   0.0  0.0   0.0     0.572222  \n",
       "1  0.151074   0.0  0.000000    0.0     0.0   0.0  0.0   0.0     0.650000  \n",
       "2  0.000000   0.0  0.000000    0.0     0.0   0.0  0.0   0.0     0.672222  \n",
       "\n",
       "[3 rows x 237 columns]"
      ]
     },
     "execution_count": 304,
     "metadata": {},
     "output_type": "execute_result"
    }
   ],
   "source": [
    "movies_optimal.head(3)"
   ]
  },
  {
   "cell_type": "markdown",
   "id": "ca12372a-2b51-4770-833b-0b21ca57f1ef",
   "metadata": {},
   "source": [
    "<h2 style=\"color: #5BC461\">Information Retrieval Creation</h2>"
   ]
  },
  {
   "cell_type": "markdown",
   "id": "6831b371-83f1-4f79-848a-47a537b6b99c",
   "metadata": {},
   "source": [
    "<p>For the information retrieval system, the following distance metrics would be used:</p>\n",
    "<ul>\n",
    "    <li>Euclidian Distance (l2 norm)</li>\n",
    "    <li>Manhattan Distance (l1 norm)</li>\n",
    "    <li>Cosine Distance</li>\n",
    "</ul>"
   ]
  },
  {
   "cell_type": "markdown",
   "id": "c21e9e74-1f75-4e79-b72f-a51d417010cc",
   "metadata": {},
   "source": [
    "In order to get all the distance matrices for both dataframes, the function `nearest_k` would be used. The results from each call would then be used for the evaluation part."
   ]
  },
  {
   "cell_type": "markdown",
   "id": "1fe433db-507b-405f-9306-2df67cfcdd62",
   "metadata": {
    "execution": {
     "iopub.execute_input": "2023-11-21T15:04:26.145933Z",
     "iopub.status.busy": "2023-11-21T15:04:26.145347Z",
     "iopub.status.idle": "2023-11-21T15:04:26.154286Z",
     "shell.execute_reply": "2023-11-21T15:04:26.152559Z",
     "shell.execute_reply.started": "2023-11-21T15:04:26.145886Z"
    },
    "tags": []
   },
   "source": [
    "<h2 style=\"color: #5BC461\">Evaluation of IR System</h2>"
   ]
  },
  {
   "cell_type": "markdown",
   "id": "2d0477b0-4109-421d-9f54-7c94cb37a6a2",
   "metadata": {},
   "source": [
    "In evaluating the IR System, the following genres from Rotten Tomatoes and their corresponding movies were used as the queries. This is in order to approximate a representation of querying each type of movie in evaluating the performance of the IR system."
   ]
  },
  {
   "cell_type": "markdown",
   "id": "a32b43f0-43e8-41a0-aec4-036bd18986a5",
   "metadata": {},
   "source": [
    "<p><b>Table 18.</b></p>\n",
    "<p><i>Genres and Corresponding Movies (Evaluation)</i></p>\n",
    "<table>\n",
    "    <tr style=\"color:#ffffff; background-color:#E44728\">\n",
    "        <th style=\"text-align: left\">No.</th>\n",
    "        <th style=\"text-align: left\">Genre</th>\n",
    "        <th style=\"text-align: left\">Movie</th>\n",
    "    </tr>\n",
    "    <tr>\n",
    "        <td style=\"text-align: left\">1.</td>\n",
    "        <td style=\"text-align: left; font-weight: bold;\">Drama</td>\n",
    "        <td style=\"text-align: left\">Oppenheimer</td>\n",
    "    </tr>\n",
    "    <tr>\n",
    "        <td style=\"text-align: left\">2.</td>\n",
    "        <td style=\"text-align: left; font-weight: bold;\">Comedy</td>\n",
    "        <td style=\"text-align: left\">Sitting in Bars with Cake</td>\n",
    "    </tr>\n",
    "    <tr>\n",
    "        <td style=\"text-align: left\">3.</td>\n",
    "        <td style=\"text-align: left; font-weight: bold;\">Mystery and Thriller</td>\n",
    "        <td style=\"text-align: left\">M3GAN</td>\n",
    "    </tr>\n",
    "    <tr>\n",
    "        <td style=\"text-align: left\">4.</td>\n",
    "        <td style=\"text-align: left; font-weight: bold;\">Horror</td>\n",
    "        <td style=\"text-align: left\">The Blackening</td>\n",
    "    </tr>\n",
    "    <tr>\n",
    "        <td style=\"text-align: left\">5.</td>\n",
    "        <td style=\"text-align: left; font-weight: bold;\">Romance</td>\n",
    "        <td style=\"text-align: left\">Red, White & Royal Blue</td>\n",
    "    </tr>\n",
    "    <tr>\n",
    "        <td style=\"text-align: left\">6.</td>\n",
    "        <td style=\"text-align: left; font-weight: bold;\">Action</td>\n",
    "        <td style=\"text-align: left\">John Wick: Chapter 4</td>\n",
    "    </tr>\n",
    "    <tr>\n",
    "        <td style=\"text-align: left\">7.</td>\n",
    "        <td style=\"text-align: left; font-weight: bold;\">Sci-Fi</td>\n",
    "        <td style=\"text-align: left\">Biosphere</td>\n",
    "    </tr>\n",
    "    <tr>\n",
    "        <td style=\"text-align: left\">8.</td>\n",
    "        <td style=\"text-align: left; font-weight: bold;\">Adventure</td>\n",
    "        <td style=\"text-align: left\">Guardians of the Galaxy Vol. 3</td>\n",
    "    </tr>\n",
    "    <tr>\n",
    "        <td style=\"text-align: left\">9.</td>\n",
    "        <td style=\"text-align: left; font-weight: bold;\">LGBTQA+</td>\n",
    "        <td style=\"text-align: left\">Shortcomings</td>\n",
    "    </tr>\n",
    "    <tr>\n",
    "        <td style=\"text-align: left\">10.</td>\n",
    "        <td style=\"text-align: left; font-weight: bold;\">Fantasy</td>\n",
    "        <td style=\"text-align: left\">Suzume</td>\n",
    "    </tr>\n",
    "</table>"
   ]
  },
  {
   "cell_type": "markdown",
   "id": "0abb73d8-50e0-4b94-afdd-85b6be09eadb",
   "metadata": {},
   "source": [
    "As a preface for the validation data or gold standard, the team assumed the roles of domain experts in validating whether a film is relevant to a given film or not. <b>The relevant films were determined by comparing the genre, summary, and trailers of one film vs. the other, where similar genres and storyline are determined relevant to each other.</b> Moreover, instead of having only one team member validate the relevance of a film to another, another team member also did their own validation. In the case of conflict between the judgment of one team member over the other, one team member served as arbiter in deciding whether the said film is indeed relevant or not. This validation data or gold standard, which is opened as a dataframe, is cleaned minimally, wherein null values are turned to into zeroes, twos (indicating relevance) or hundreds (indicating exact similarity to the film in question) are changed to ones, and the dtype is changed to int. Moreover, given a difference in the order of the titles, the titles were sorted in accordance with the order in the original `movies` dataframe."
   ]
  },
  {
   "cell_type": "markdown",
   "id": "771af43a-5f77-40cc-be15-3252a3716589",
   "metadata": {
    "execution": {
     "iopub.execute_input": "2023-11-21T16:42:20.195905Z",
     "iopub.status.busy": "2023-11-21T16:42:20.195344Z",
     "iopub.status.idle": "2023-11-21T16:42:20.204118Z",
     "shell.execute_reply": "2023-11-21T16:42:20.202972Z",
     "shell.execute_reply.started": "2023-11-21T16:42:20.195860Z"
    },
    "tags": []
   },
   "source": [
    "<p><b>Table 19.</b></p>\n",
    "<p><i>Preview of Validation Data</i></p>"
   ]
  },
  {
   "cell_type": "code",
   "execution_count": 305,
   "id": "d3e1c5d1-3f79-48de-af24-1ed25070010c",
   "metadata": {
    "execution": {
     "iopub.execute_input": "2023-11-23T21:08:07.963549Z",
     "iopub.status.busy": "2023-11-23T21:08:07.963334Z",
     "iopub.status.idle": "2023-11-23T21:08:07.982693Z",
     "shell.execute_reply": "2023-11-23T21:08:07.981775Z",
     "shell.execute_reply.started": "2023-11-23T21:08:07.963530Z"
    },
    "tags": []
   },
   "outputs": [
    {
     "data": {
      "text/html": [
       "<div>\n",
       "<style scoped>\n",
       "    .dataframe tbody tr th:only-of-type {\n",
       "        vertical-align: middle;\n",
       "    }\n",
       "\n",
       "    .dataframe tbody tr th {\n",
       "        vertical-align: top;\n",
       "    }\n",
       "\n",
       "    .dataframe thead th {\n",
       "        text-align: right;\n",
       "    }\n",
       "</style>\n",
       "<table border=\"1\" class=\"dataframe\">\n",
       "  <thead>\n",
       "    <tr style=\"text-align: right;\">\n",
       "      <th></th>\n",
       "      <th>title</th>\n",
       "      <th>Oppenheimer</th>\n",
       "      <th>Sitting in Bars with Cake</th>\n",
       "      <th>M3GAN</th>\n",
       "      <th>The Blackening</th>\n",
       "      <th>Red, White &amp; Royal Blue</th>\n",
       "      <th>John Wick: Chapter 4</th>\n",
       "      <th>Biosphere</th>\n",
       "      <th>Guardians of the Galaxy Vol. 3</th>\n",
       "      <th>Shortcomings</th>\n",
       "      <th>Suzume</th>\n",
       "    </tr>\n",
       "  </thead>\n",
       "  <tbody>\n",
       "    <tr>\n",
       "      <th>0</th>\n",
       "      <td>Afire</td>\n",
       "      <td>0</td>\n",
       "      <td>1</td>\n",
       "      <td>0</td>\n",
       "      <td>0</td>\n",
       "      <td>1</td>\n",
       "      <td>0</td>\n",
       "      <td>0</td>\n",
       "      <td>0</td>\n",
       "      <td>0</td>\n",
       "      <td>0</td>\n",
       "    </tr>\n",
       "    <tr>\n",
       "      <th>1</th>\n",
       "      <td>A Thousand and One</td>\n",
       "      <td>0</td>\n",
       "      <td>0</td>\n",
       "      <td>0</td>\n",
       "      <td>0</td>\n",
       "      <td>0</td>\n",
       "      <td>0</td>\n",
       "      <td>0</td>\n",
       "      <td>0</td>\n",
       "      <td>0</td>\n",
       "      <td>0</td>\n",
       "    </tr>\n",
       "    <tr>\n",
       "      <th>2</th>\n",
       "      <td>A Million Miles Away</td>\n",
       "      <td>1</td>\n",
       "      <td>0</td>\n",
       "      <td>0</td>\n",
       "      <td>0</td>\n",
       "      <td>0</td>\n",
       "      <td>0</td>\n",
       "      <td>0</td>\n",
       "      <td>0</td>\n",
       "      <td>0</td>\n",
       "      <td>0</td>\n",
       "    </tr>\n",
       "  </tbody>\n",
       "</table>\n",
       "</div>"
      ],
      "text/plain": [
       "                  title  Oppenheimer  Sitting in Bars with Cake  M3GAN  \\\n",
       "0                 Afire            0                          1      0   \n",
       "1    A Thousand and One            0                          0      0   \n",
       "2  A Million Miles Away            1                          0      0   \n",
       "\n",
       "   The Blackening  Red, White & Royal Blue  John Wick: Chapter 4  Biosphere  \\\n",
       "0               0                        1                     0          0   \n",
       "1               0                        0                     0          0   \n",
       "2               0                        0                     0          0   \n",
       "\n",
       "   Guardians of the Galaxy Vol. 3  Shortcomings  Suzume  \n",
       "0                               0             0       0  \n",
       "1                               0             0       0  \n",
       "2                               0             0       0  "
      ]
     },
     "execution_count": 305,
     "metadata": {},
     "output_type": "execute_result"
    }
   ],
   "source": [
    "validation_data = pd.read_csv('validation_data.csv')\n",
    "validation_data.fillna(0, inplace=True)\n",
    "validation_data_temp = validation_data.iloc[:, 1:].astype(int)\n",
    "validation_data = pd.concat([validation_data.iloc[:, 0],\n",
    "                             validation_data_temp],\n",
    "                             axis=1)\n",
    "validation_data = validation_data.map(\n",
    "    lambda x: 1 if x == 2 or x == 100 else x)\n",
    "movies.set_index('title', inplace=True)\n",
    "validation_data.set_index('title', inplace=True)\n",
    "validation_data = validation_data.reindex(movies.index)\n",
    "movies.reset_index(inplace=True)\n",
    "validation_data.reset_index(inplace=True)\n",
    "validation_data.head(3)"
   ]
  },
  {
   "cell_type": "markdown",
   "id": "e7cc72bb-f9d9-4629-9161-a82579883fb9",
   "metadata": {},
   "source": [
    "The kappa statistic, a measure of how much the judges agree on relevance, whether they agree all of the time, most of the time, by chance or by \"worse than random\" (possibly hinting a negative bias), would be calculated for all combinations of the three judges to provide a tight rationale on why the created gold standard should be used (Cambridge UP, 2008). \n",
    "\n",
    "The method for acquiring the kappa statistic is as follows (Cambridge UP, 2008):\n",
    "\n",
    "The $P(A)$ or the observed proportion of the times the judges agreed would be first calculated and this is calculated by:\n",
    "\n",
    "$$P(A) = P(Yes \\space and \\space Yes) + P(No \\space and \\space No)$$\n",
    "\n",
    "Second, the pooled marginals are acquired and calculated as follows:\n",
    "\n",
    "$$P(nonrelevant) = \\frac{Total \\space No \\space Votes}{Total \\space Votes}$$\n",
    "\n",
    "$$P(relevant) = \\frac{Total \\space Yes \\space Votes}{Total \\space Votes}$$\n",
    "\n",
    "Using these pooled marginals, $P(E)$ or the probability that the judges agreed by chance is calculated where it is defined as:\n",
    "\n",
    "$$P(E) = P(nonrelevant)^{2} + P(relevant)^{2}$$\n",
    "\n",
    "Lastly, the kappa statistic is calculated using these values:\n",
    "\n",
    "$$\\kappa = \\frac{(P(A) - P(E))}{(1- P(E))}$$\n",
    "\n",
    "Shown below are the relevance matrix for each pair of judge and a table containing all their kappa statistics and the average pairwise kappa statistic, created from the Data Frames from the csv files for each judge (`judge_1.csv`, `judge_2.csv`, and `validation_data.csv`) using the function `kappa` where alongside the calculation, null values are changed to zeroes and non-null values are changed to ones. Moreover, the `title` columns in all data frames are removed. The average pairwise kappa statistic is then calculated and evaluated to show whether the gold standard is reliable or not."
   ]
  },
  {
   "cell_type": "markdown",
   "id": "6470d9a2-01b8-4531-b2b6-c20357ef457a",
   "metadata": {
    "execution": {
     "iopub.execute_input": "2023-11-23T19:59:07.718927Z",
     "iopub.status.busy": "2023-11-23T19:59:07.718164Z",
     "iopub.status.idle": "2023-11-23T19:59:07.737536Z",
     "shell.execute_reply": "2023-11-23T19:59:07.734693Z",
     "shell.execute_reply.started": "2023-11-23T19:59:07.718865Z"
    },
    "tags": []
   },
   "source": [
    "<p><b>Table 20.</b></p>\n",
    "<p><i>Relevance Matrix (Judge 1 vs. Judge 2)</i></p>"
   ]
  },
  {
   "cell_type": "code",
   "execution_count": 306,
   "id": "98ae4591-e497-4244-b62e-96a1bd40aaa0",
   "metadata": {
    "execution": {
     "iopub.execute_input": "2023-11-23T21:08:07.983539Z",
     "iopub.status.busy": "2023-11-23T21:08:07.983332Z",
     "iopub.status.idle": "2023-11-23T21:08:08.035966Z",
     "shell.execute_reply": "2023-11-23T21:08:08.035073Z",
     "shell.execute_reply.started": "2023-11-23T21:08:07.983519Z"
    },
    "tags": []
   },
   "outputs": [
    {
     "data": {
      "text/html": [
       "<div>\n",
       "<style scoped>\n",
       "    .dataframe tbody tr th:only-of-type {\n",
       "        vertical-align: middle;\n",
       "    }\n",
       "\n",
       "    .dataframe tbody tr th {\n",
       "        vertical-align: top;\n",
       "    }\n",
       "\n",
       "    .dataframe thead tr th {\n",
       "        text-align: left;\n",
       "    }\n",
       "</style>\n",
       "<table border=\"1\" class=\"dataframe\">\n",
       "  <thead>\n",
       "    <tr>\n",
       "      <th></th>\n",
       "      <th></th>\n",
       "      <th colspan=\"3\" halign=\"left\">Judge 2</th>\n",
       "    </tr>\n",
       "    <tr>\n",
       "      <th></th>\n",
       "      <th></th>\n",
       "      <th>Yes</th>\n",
       "      <th>No</th>\n",
       "      <th>Total</th>\n",
       "    </tr>\n",
       "  </thead>\n",
       "  <tbody>\n",
       "    <tr>\n",
       "      <th rowspan=\"3\" valign=\"top\">Judge 1</th>\n",
       "      <th>Yes</th>\n",
       "      <td>151</td>\n",
       "      <td>27</td>\n",
       "      <td>178</td>\n",
       "    </tr>\n",
       "    <tr>\n",
       "      <th>No</th>\n",
       "      <td>45</td>\n",
       "      <td>1185</td>\n",
       "      <td>1230</td>\n",
       "    </tr>\n",
       "    <tr>\n",
       "      <th>Total</th>\n",
       "      <td>196</td>\n",
       "      <td>1212</td>\n",
       "      <td>1408</td>\n",
       "    </tr>\n",
       "  </tbody>\n",
       "</table>\n",
       "</div>"
      ],
      "text/plain": [
       "              Judge 2            \n",
       "                  Yes    No Total\n",
       "Judge 1 Yes       151    27   178\n",
       "        No         45  1185  1230\n",
       "        Total     196  1212  1408"
      ]
     },
     "execution_count": 306,
     "metadata": {},
     "output_type": "execute_result"
    }
   ],
   "source": [
    "judge_1 = pd.read_csv('judge_1.csv')\n",
    "judge_1.drop('title', axis=1)\n",
    "judge_2 = pd.read_csv('judge_2.csv')\n",
    "judge_2.drop('title', axis=1)\n",
    "judge_3 = pd.read_csv('validation_data.csv')\n",
    "judge_3.drop('title', axis=1)\n",
    "\n",
    "kappa_12, rel_mat12 = kappa(judge_1, judge_2, 'Judge 1', 'Judge 2')\n",
    "rel_mat12"
   ]
  },
  {
   "cell_type": "markdown",
   "id": "b1966228-f6ae-4a20-9f21-2510b816cf5b",
   "metadata": {
    "execution": {
     "iopub.execute_input": "2023-11-23T19:59:38.909104Z",
     "iopub.status.busy": "2023-11-23T19:59:38.908374Z",
     "iopub.status.idle": "2023-11-23T19:59:38.919906Z",
     "shell.execute_reply": "2023-11-23T19:59:38.917908Z",
     "shell.execute_reply.started": "2023-11-23T19:59:38.909040Z"
    },
    "tags": []
   },
   "source": [
    "<p><b>Table 21.</b></p>\n",
    "<p><i>Relevance Matrix (Judge 2 vs. Judge 3)</i></p>"
   ]
  },
  {
   "cell_type": "code",
   "execution_count": 307,
   "id": "b6c80411-7af2-4120-bc85-06b210767446",
   "metadata": {
    "execution": {
     "iopub.execute_input": "2023-11-23T21:08:08.037123Z",
     "iopub.status.busy": "2023-11-23T21:08:08.036910Z",
     "iopub.status.idle": "2023-11-23T21:08:08.081895Z",
     "shell.execute_reply": "2023-11-23T21:08:08.080988Z",
     "shell.execute_reply.started": "2023-11-23T21:08:08.037103Z"
    },
    "tags": []
   },
   "outputs": [
    {
     "data": {
      "text/html": [
       "<div>\n",
       "<style scoped>\n",
       "    .dataframe tbody tr th:only-of-type {\n",
       "        vertical-align: middle;\n",
       "    }\n",
       "\n",
       "    .dataframe tbody tr th {\n",
       "        vertical-align: top;\n",
       "    }\n",
       "\n",
       "    .dataframe thead tr th {\n",
       "        text-align: left;\n",
       "    }\n",
       "</style>\n",
       "<table border=\"1\" class=\"dataframe\">\n",
       "  <thead>\n",
       "    <tr>\n",
       "      <th></th>\n",
       "      <th></th>\n",
       "      <th colspan=\"3\" halign=\"left\">Judge 3</th>\n",
       "    </tr>\n",
       "    <tr>\n",
       "      <th></th>\n",
       "      <th></th>\n",
       "      <th>Yes</th>\n",
       "      <th>No</th>\n",
       "      <th>Total</th>\n",
       "    </tr>\n",
       "  </thead>\n",
       "  <tbody>\n",
       "    <tr>\n",
       "      <th rowspan=\"3\" valign=\"top\">Judge 2</th>\n",
       "      <th>Yes</th>\n",
       "      <td>166</td>\n",
       "      <td>30</td>\n",
       "      <td>196</td>\n",
       "    </tr>\n",
       "    <tr>\n",
       "      <th>No</th>\n",
       "      <td>11</td>\n",
       "      <td>1201</td>\n",
       "      <td>1212</td>\n",
       "    </tr>\n",
       "    <tr>\n",
       "      <th>Total</th>\n",
       "      <td>177</td>\n",
       "      <td>1231</td>\n",
       "      <td>1408</td>\n",
       "    </tr>\n",
       "  </tbody>\n",
       "</table>\n",
       "</div>"
      ],
      "text/plain": [
       "              Judge 3            \n",
       "                  Yes    No Total\n",
       "Judge 2 Yes       166    30   196\n",
       "        No         11  1201  1212\n",
       "        Total     177  1231  1408"
      ]
     },
     "execution_count": 307,
     "metadata": {},
     "output_type": "execute_result"
    }
   ],
   "source": [
    "kappa_23, rel_mat23 = kappa(judge_2, judge_3, 'Judge 2', 'Judge 3')\n",
    "rel_mat23"
   ]
  },
  {
   "cell_type": "markdown",
   "id": "c3443923-8333-4c7e-b6a7-f62c99d225de",
   "metadata": {
    "execution": {
     "iopub.execute_input": "2023-11-23T20:00:18.176559Z",
     "iopub.status.busy": "2023-11-23T20:00:18.175796Z",
     "iopub.status.idle": "2023-11-23T20:00:18.187682Z",
     "shell.execute_reply": "2023-11-23T20:00:18.185312Z",
     "shell.execute_reply.started": "2023-11-23T20:00:18.176496Z"
    },
    "tags": []
   },
   "source": [
    "<p><b>Table 22.</b></p>\n",
    "<p><i>Relevance Matrix (Judge 1 vs. Judge 3)</i></p>"
   ]
  },
  {
   "cell_type": "code",
   "execution_count": 308,
   "id": "52109bf8-0f1f-409f-b2a7-16f2b0beb0e7",
   "metadata": {
    "execution": {
     "iopub.execute_input": "2023-11-23T21:08:08.082834Z",
     "iopub.status.busy": "2023-11-23T21:08:08.082632Z",
     "iopub.status.idle": "2023-11-23T21:08:08.127565Z",
     "shell.execute_reply": "2023-11-23T21:08:08.126675Z",
     "shell.execute_reply.started": "2023-11-23T21:08:08.082815Z"
    },
    "tags": []
   },
   "outputs": [
    {
     "data": {
      "text/html": [
       "<div>\n",
       "<style scoped>\n",
       "    .dataframe tbody tr th:only-of-type {\n",
       "        vertical-align: middle;\n",
       "    }\n",
       "\n",
       "    .dataframe tbody tr th {\n",
       "        vertical-align: top;\n",
       "    }\n",
       "\n",
       "    .dataframe thead tr th {\n",
       "        text-align: left;\n",
       "    }\n",
       "</style>\n",
       "<table border=\"1\" class=\"dataframe\">\n",
       "  <thead>\n",
       "    <tr>\n",
       "      <th></th>\n",
       "      <th></th>\n",
       "      <th colspan=\"3\" halign=\"left\">Judge 3</th>\n",
       "    </tr>\n",
       "    <tr>\n",
       "      <th></th>\n",
       "      <th></th>\n",
       "      <th>Yes</th>\n",
       "      <th>No</th>\n",
       "      <th>Total</th>\n",
       "    </tr>\n",
       "  </thead>\n",
       "  <tbody>\n",
       "    <tr>\n",
       "      <th rowspan=\"3\" valign=\"top\">Judge 1</th>\n",
       "      <th>Yes</th>\n",
       "      <td>162</td>\n",
       "      <td>16</td>\n",
       "      <td>178</td>\n",
       "    </tr>\n",
       "    <tr>\n",
       "      <th>No</th>\n",
       "      <td>15</td>\n",
       "      <td>1215</td>\n",
       "      <td>1230</td>\n",
       "    </tr>\n",
       "    <tr>\n",
       "      <th>Total</th>\n",
       "      <td>177</td>\n",
       "      <td>1231</td>\n",
       "      <td>1408</td>\n",
       "    </tr>\n",
       "  </tbody>\n",
       "</table>\n",
       "</div>"
      ],
      "text/plain": [
       "              Judge 3            \n",
       "                  Yes    No Total\n",
       "Judge 1 Yes       162    16   178\n",
       "        No         15  1215  1230\n",
       "        Total     177  1231  1408"
      ]
     },
     "execution_count": 308,
     "metadata": {},
     "output_type": "execute_result"
    }
   ],
   "source": [
    "kappa_13, rel_mat13 = kappa(judge_1, judge_3, 'Judge 1', 'Judge 3')\n",
    "rel_mat13"
   ]
  },
  {
   "cell_type": "markdown",
   "id": "a2f1d361-04a2-44b2-b7ca-b7a65387038e",
   "metadata": {},
   "source": [
    "<p><b>Table 23.</b></p>\n",
    "<p><i>Kappa Statistics</i></p>"
   ]
  },
  {
   "cell_type": "code",
   "execution_count": 309,
   "id": "99c27d71-36cf-4786-b9a3-5d6a7b8c5034",
   "metadata": {
    "execution": {
     "iopub.execute_input": "2023-11-23T21:08:08.128539Z",
     "iopub.status.busy": "2023-11-23T21:08:08.128332Z",
     "iopub.status.idle": "2023-11-23T21:08:08.140524Z",
     "shell.execute_reply": "2023-11-23T21:08:08.139559Z",
     "shell.execute_reply.started": "2023-11-23T21:08:08.128519Z"
    },
    "tags": []
   },
   "outputs": [
    {
     "data": {
      "text/html": [
       "<div>\n",
       "<style scoped>\n",
       "    .dataframe tbody tr th:only-of-type {\n",
       "        vertical-align: middle;\n",
       "    }\n",
       "\n",
       "    .dataframe tbody tr th {\n",
       "        vertical-align: top;\n",
       "    }\n",
       "\n",
       "    .dataframe thead th {\n",
       "        text-align: right;\n",
       "    }\n",
       "</style>\n",
       "<table border=\"1\" class=\"dataframe\">\n",
       "  <thead>\n",
       "    <tr style=\"text-align: right;\">\n",
       "      <th></th>\n",
       "      <th>Judge 1 vs. 2</th>\n",
       "      <th>Judge 2 vs. 3</th>\n",
       "      <th>Judge 1 vs. 3</th>\n",
       "      <th>Average Pairwise</th>\n",
       "    </tr>\n",
       "  </thead>\n",
       "  <tbody>\n",
       "    <tr>\n",
       "      <th>Kappa Statistics</th>\n",
       "      <td>0.78</td>\n",
       "      <td>0.87</td>\n",
       "      <td>0.90</td>\n",
       "      <td>0.85</td>\n",
       "    </tr>\n",
       "  </tbody>\n",
       "</table>\n",
       "</div>"
      ],
      "text/plain": [
       "                 Judge 1 vs. 2 Judge 2 vs. 3 Judge 1 vs. 3 Average Pairwise\n",
       "Kappa Statistics          0.78          0.87          0.90             0.85"
      ]
     },
     "execution_count": 309,
     "metadata": {},
     "output_type": "execute_result"
    }
   ],
   "source": [
    "pd.DataFrame(\n",
    "    {\n",
    "        \"Judge 1 vs. 2\": \"{:0.2f}\".format(kappa_12),\n",
    "        \"Judge 2 vs. 3\": \"{:0.2f}\".format(kappa_23),\n",
    "        \"Judge 1 vs. 3\": \"{:0.2f}\".format(kappa_13),\n",
    "        \"Average Pairwise\": \"{:0.2f}\".format(np.mean([kappa_12, kappa_23,\n",
    "                                                      kappa_13])),\n",
    "    },\n",
    "    index=[\"Kappa Statistics\"],\n",
    ")"
   ]
  },
  {
   "cell_type": "markdown",
   "id": "fd154c9a-e5b1-48c6-bed4-c9109c1b7cd2",
   "metadata": {},
   "source": [
    "Given that Cambridge UP (2008) states that values above 0.8 is taken as \"good agreement\", values between 0.67 and 0.8 is taken as \"fair agreement\", and values below 0.67 would consider the created standard as a dubious basis for the evaluation and given that the calculated average pairwise kappa statistic would be considered as \"good agreement\", the created gold standard is thus reliable. As a side note, despite Judge 1 and Judge 2 having a \"fair agreement\" in their own sets of evaluation, this relatively lower yet sufficient kappa statistic was raised by the arbitrations of the third judge, turning it into a \"good agreement\"."
   ]
  },
  {
   "cell_type": "markdown",
   "id": "c324430d-dfe9-45ee-9ba4-6612aaa5eb3e",
   "metadata": {},
   "source": [
    "Moving on, in evaluating the two variants of the Information Retrieval System, several metrics would be used, and to guide the parameters (i.e., k) for some metrics, a Precision-Recall vs. k graph would be first plotted with the help of functions such as `pk`, and `rk`, and using the insights from these graph, the parameters would then be set. The important evaluation metrics are:\n",
    "\n",
    "<p><b>Table 24.</b></p>\n",
    "<p><i>Evaluation Metrics</i></p>\n",
    "\n",
    "<table>\n",
    "    <tr style=\"color:#ffffff; background-color:#E44728\">\n",
    "        <th style=\"text-align: left\">No.</th>\n",
    "        <th style=\"text-align: left\">Evaluation Metric</th>\n",
    "        <th style=\"text-align: left\">Description</th>\n",
    "    </tr>\n",
    "    <tr>\n",
    "        <td style=\"text-align: left\">1.</td>\n",
    "        <td style=\"text-align: left; font-weight: bold;\">Average<br> (Precision @ k)</td>\n",
    "        <td style=\"text-align: left\">In this metric, at an arbitrarily set k results based on the Precision-Recall vs. k graph, the precision would be calculated per query then averaged again. This is a good metric to measure in this type of IR given that most users of a recommender system would only appreciate seeing few movies to watch (e.g. 5) than several ones. Moreover, given the relatively small dataset, having high number of results than the supposed number of relevant movies to return would distort the performance of the IR system to be worse than it should be.</td>\n",
    "    </tr>\n",
    "    <tr>\n",
    "        <td style=\"text-align: left\">2.</td>\n",
    "        <td style=\"text-align: left; font-weight: bold;\">Average<br> (Recall @ k)</td>\n",
    "        <td style=\"text-align: left\">In this metric, at an arbitrarily set k based on the Precision-Recall vs. k graph, the recall would be calculated per query then averaged again.</td>\n",
    "    </tr>\n",
    "    <tr>\n",
    "        <td style=\"text-align: left\">3.</td>\n",
    "        <td style=\"text-align: left; font-weight: bold;\">Average<br> (F-1 Score @ k and beta = 0.5)</td>\n",
    "        <td style=\"text-align: left\">After getting both Average (Precision @ k) and Average (Recall @ k), the F-1 score is calculated using the same metrics, with more emphasis on precision over recall. There is more emphasis on precision (beta = 0.5) over recall given that avoiding false positives is more important than avoiding false negatives, given that a user of this recommendation system would not feel satisfied if the returned \"relevant\" results are in fact actually irrelevant. Compare this to a scenario where the same user would miss relevant results; being recommended an irrelevant movie would have more consequences to user satisfaction as compared to missing an opportunity to be recommended a relevant movie.</td>\n",
    "    </tr>\n",
    "    <tr>\n",
    "        <td style=\"text-align: left\">4.</td>\n",
    "        <td style=\"text-align: left; font-weight: bold;\">Mean Average Precision (MAP)</td>\n",
    "        <td style=\"text-align: left\">For every query, this metric considers up to the final relevant result or kth result, through which the metric computes the average precision @ k for the given query. As compared to Average (Precision @ k) which only considers the precision at exactly k, in this metric, all ks with a corresponding relevant results are considered in the average, while ks with corresponding irrelevant results are disregarded. The arithmetic mean of all these averages are then calculated. Being a robust metric, it provides equal weight to each query, and thus serves as a more reliable metric for precision than Average (Precision @ k).</td>\n",
    "    </tr>\n",
    "    <tr>\n",
    "        <td style=\"text-align: left\">5.</td>\n",
    "        <td style=\"text-align: left; font-weight: bold;\">Average<br> R-Precision</td>\n",
    "        <td style=\"text-align: left\">This metric takes into account how many truly relevant movies (where its number is denoted by |Rel|) are there for a given movie query and takes this into account for each query where the precision for each query is simply the Average (Precision @ |Rel|). These are averaged, and this can serve as both the average precision and recall for the IR system. As a side note, the unaveraged measure would also be retrieved for each genre, to gather insights on the IR and its possible relationships to the population or distribution or characteristics of its dataset.</td>\n",
    "    </tr>\n",
    "    <tr>\n",
    "        <td style=\"text-align: left\">6.</td>\n",
    "        <td style=\"text-align: left; font-weight: bold;\">Averaged 11-point Precision/Recall Curve</td>\n",
    "        <td style=\"text-align: left\">The interpolated precision (possible highest precision) at recall levels ranging from 0 to 1 (with an increment of 0.1) are calculated for each query, and these averaged interpolated precisions are then plotted, where the goal is to highlight potential or possible increases in precision given an increase in the result set (Cambridge UP, 2009). This was also done in order to consolidate all query results into one Precision/Recall Curve.</td>\n",
    "    </tr>\n",
    "</table>"
   ]
  },
  {
   "cell_type": "markdown",
   "id": "7084d2bc-912b-4823-9e08-974b857ea63a",
   "metadata": {},
   "source": [
    "For each variant and corresponding distance measure, all of these evaluation metrics would be calculated. These are through functions such as `pk` and `a_pk` for the Average (Precision @ k), `rk` and `a_rk` for the Average (Recall @ k), `mapk` for Mean Average Precision (MAP), `mf_onek` for Average (F-1 Score @ k), `rprec` and `ave_rprec` for either (unaveraged) R-Precisions per genre or Average R-Precision, and `ave_prg` for acquring the interpolated values in plotting the Averaged 11-point Precision/Recall Curve.\n",
    "\n",
    "To further expound on each evaluation metric, these are their formulas:\n",
    "\n",
    "<b>1. Average (Precision @ k)</b>\n",
    "$$P_{ave, k} = \\frac{\\displaystyle{\\sum^{N}_{i=1}}\\frac{TP_{k, i}}{(TP+FP)_{k, i}}}{\\textit{N}}$$\n",
    "\n",
    "where $TP_{k,i}$ is equal to the number of true positives at k for query $i$, $(TP+FP)_{k,i}$ is equal to the number of true and false positives at k for query $i$, and $N$ is equal to the number of queries.\n",
    "\n",
    "<b>2. Average (Recall @ k)</b>\n",
    "$$R_{ave, k} = \\frac{\\displaystyle{\\sum^{n}_{i=1}}\\frac{TP_{k, i}}{(TP+FN)_{k, i}}}{\\textit{N}}$$\n",
    "\n",
    "where $TP_{k,i}$ is equal to the number of true positives at k for query $i$, $(TP+FN)_{k,i}$ is equal to the number of true and false positives at k for query $i$, and $N$ is equal to the number of queries.\n",
    "\n",
    "<b>3. Average (F-1 Score @ k)</b>\n",
    "$$F_{\\beta, ave, k} = (1 + \\beta^2) \\cdot \\frac{P_{ave, k} \\cdot R_{ave, k}}{(\\beta^2 \\cdot P_{ave, k}) + R_{ave, k}}$$\n",
    "\n",
    "where $P_{ave, k}$ is the average (precision @ k), $R_{ave, k}$ is the average (recall @ k), and $\\beta$ is the ratio of recall importance to precision importance.\n",
    "\n",
    "<b>4. Mean Average Precision</b>\n",
    "$$MAP = \\frac{1}{N} \\displaystyle{\\sum^{N}_{j=1}} \\frac{1}{Q_j} \\displaystyle{\\sum^{Q_{j}}_{i=1}} P(doc_{i})$$\n",
    "\n",
    "where $Q_j$ is the number of relevant documents for query j, $N$ is the number of queries, and $P(doc_{i})$ is the precision at ith relevant document (University of Cambridge Computer Laboratory).\n",
    "\n",
    "<b>5. Average R-Precision</b>\n",
    "$$(R-Precision)_{ave} = \\frac{1}{N} \\displaystyle{\\sum^{N}_{i=1}}\\frac{r_{i}}{|Rel|_{i}}$$\n",
    "\n",
    "where $r_i$ is the returned relevant documents for query $i$ while $|Rel|_i$ is the number of relevant documents in the corpus for query $i$. For the part where each query is evaluated, the $\\frac{1}{N}$ is removed in order to acquire the R-Precision for each query (or genre) (Cambridge UP, 2009).\n",
    "\n",
    "<b>6. Interpolated Precision for Averaged 11-point Precision/Recall Curve</b>\n",
    "$$\\rho_{interp}(r) = \\underset{r'\\ge r}{max}\\space \\rho(r')$$\n",
    "\n",
    "where $\\rho_{interp}(r)$ is the interpolated precision at a certain recall level $r$ and where the interpolated precision for each of the eleven points is acquired by getting the first highest precision from r values lower than the current r value (Cambridge UP, 2009).\n",
    "\n",
    "[Back to TOC](#TContents)"
   ]
  },
  {
   "cell_type": "markdown",
   "id": "a9493a75-20be-4596-bc0d-aee6a0643205",
   "metadata": {
    "execution": {
     "iopub.execute_input": "2023-11-20T13:37:41.136571Z",
     "iopub.status.busy": "2023-11-20T13:37:41.136063Z",
     "iopub.status.idle": "2023-11-20T13:37:41.144052Z",
     "shell.execute_reply": "2023-11-20T13:37:41.142616Z",
     "shell.execute_reply.started": "2023-11-20T13:37:41.136526Z"
    },
    "tags": []
   },
   "source": [
    "<a id='Results'></a>\n",
    "<h1 style=\"color:#ffffff; background-color:#E44728; border: 1px solid #ffffff; padding: 10px 10px 10px 10px;\">VI. RESULTS AND DISCUSSION</h1>"
   ]
  },
  {
   "cell_type": "code",
   "execution_count": 310,
   "id": "423a885b-8617-449e-b008-1bd4020d62b8",
   "metadata": {
    "execution": {
     "iopub.execute_input": "2023-11-23T21:08:08.141855Z",
     "iopub.status.busy": "2023-11-23T21:08:08.141615Z",
     "iopub.status.idle": "2023-11-23T21:08:33.912465Z",
     "shell.execute_reply": "2023-11-23T21:08:33.910977Z",
     "shell.execute_reply.started": "2023-11-23T21:08:08.141833Z"
    },
    "tags": []
   },
   "outputs": [],
   "source": [
    "# Preparing dictionaries\n",
    "l2_dict = {'Default': {}, 'Optimal': {}}\n",
    "l1_dict = {'Default': {}, 'Optimal': {}}\n",
    "cos_dict = {'Default': {}, 'Optimal': {}}\n",
    "\n",
    "for column in validation_data.columns[1:]:\n",
    "    # Euclidian Distance\n",
    "    query_d = movies_default[movies_default['title_old'] == column].iloc[0]\n",
    "    query_d = query_d.drop('title_old')\n",
    "    query_o = movies_optimal[movies_optimal['title_old'] == column].iloc[0]\n",
    "    query_o = query_o.drop('title_old')\n",
    "    l2_default = nearest_k(query_d,\n",
    "                           movies_default.iloc[:, 1:].to_numpy(),\n",
    "                           len(movies_default),\n",
    "                           euclidean)\n",
    "    l2_optimal = nearest_k(query_o,\n",
    "                           movies_optimal.iloc[:, 1:].to_numpy(),\n",
    "                           len(movies_optimal),\n",
    "                           euclidean)\n",
    "    l2_dict['Default'][column] = l2_default\n",
    "    l2_dict['Optimal'][column] = l2_optimal\n",
    "\n",
    "    # Manhattan Distance\n",
    "    l1_default = nearest_k(query_d,\n",
    "                           movies_default.iloc[:, 1:].to_numpy(),\n",
    "                           len(movies_default),\n",
    "                           cityblock)\n",
    "    l1_optimal = nearest_k(query_o,\n",
    "                           movies_optimal.iloc[:, 1:].to_numpy(),\n",
    "                           len(movies_optimal),\n",
    "                           cityblock)\n",
    "    l1_dict['Default'][column] = l1_default\n",
    "    l1_dict['Optimal'][column] = l1_optimal\n",
    "\n",
    "    # Cosine Distance\n",
    "    cos_default = nearest_k(query_d,\n",
    "                            movies_default.iloc[:, 1:].to_numpy(),\n",
    "                            len(movies_default),\n",
    "                            cosine)\n",
    "    cos_optimal = nearest_k(query_o,\n",
    "                            movies_optimal.iloc[:, 1:].to_numpy(),\n",
    "                            len(movies_optimal),\n",
    "                            cosine)\n",
    "    cos_dict['Default'][column] = cos_default\n",
    "    cos_dict['Optimal'][column] = cos_optimal"
   ]
  },
  {
   "cell_type": "code",
   "execution_count": 311,
   "id": "f3b5bf32-b96b-4589-86ae-c87d32c496fd",
   "metadata": {
    "execution": {
     "iopub.execute_input": "2023-11-23T21:08:33.914020Z",
     "iopub.status.busy": "2023-11-23T21:08:33.913786Z",
     "iopub.status.idle": "2023-11-23T21:08:34.005485Z",
     "shell.execute_reply": "2023-11-23T21:08:34.004386Z",
     "shell.execute_reply.started": "2023-11-23T21:08:33.913999Z"
    },
    "tags": []
   },
   "outputs": [],
   "source": [
    "# Getting Average Precision @ k and Average Recall @ k\n",
    "# Default\n",
    "# Euclidean\n",
    "dict_perf = {\n",
    "    \"Euclidean\": {\n",
    "        \"Default\": {\"Precision\": [], \"Recall\": []},\n",
    "        \"Optimal\": {\"Precision\": [], \"Recall\": []},\n",
    "    },\n",
    "    \"Manhattan\": {\n",
    "        \"Default\": {\"Precision\": [], \"Recall\": []},\n",
    "        \"Optimal\": {\"Precision\": [], \"Recall\": []},\n",
    "    },\n",
    "    \"Cosine\": {\n",
    "        \"Default\": {\"Precision\": [], \"Recall\": []},\n",
    "        \"Optimal\": {\"Precision\": [], \"Recall\": []},\n",
    "    },\n",
    "}\n",
    "\n",
    "for movie, results in l2_dict[\"Default\"].items():\n",
    "    gold_standard = validation_data[movie][results]\n",
    "    recommended = np.ones(128)\n",
    "    df = pd.DataFrame({\"true\": gold_standard, \"results\": recommended})\n",
    "    df[\"results\"] = df[\"results\"].astype(int)\n",
    "    dict_perf[\"Euclidean\"][\"Default\"][\"Precision\"].append(pk(\n",
    "        df, \"true\", \"results\", k=5))\n",
    "    dict_perf[\"Euclidean\"][\"Default\"][\"Recall\"].append(\n",
    "        rk(df, \"true\", \"results\", k=5))\n",
    "\n",
    "# Manhattan\n",
    "for movie, results in l1_dict[\"Default\"].items():\n",
    "    gold_standard = validation_data[movie][results]\n",
    "    recommended = np.ones(128)\n",
    "    df = pd.DataFrame({\"true\": gold_standard, \"results\": recommended})\n",
    "    df[\"results\"] = df[\"results\"].astype(int)\n",
    "    dict_perf[\"Manhattan\"][\"Default\"][\"Precision\"].append(pk(\n",
    "        df, \"true\", \"results\", k=5))\n",
    "    dict_perf[\"Manhattan\"][\"Default\"][\"Recall\"].append(\n",
    "        rk(df, \"true\", \"results\", k=5))\n",
    "\n",
    "# Cosine\n",
    "for movie, results in cos_dict[\"Default\"].items():\n",
    "    gold_standard = validation_data[movie][results]\n",
    "    recommended = np.ones(128)\n",
    "    df = pd.DataFrame({\"true\": gold_standard, \"results\": recommended})\n",
    "    df[\"results\"] = df[\"results\"].astype(int)\n",
    "    dict_perf[\"Cosine\"][\"Default\"][\"Precision\"].append(\n",
    "        pk(df, \"true\", \"results\", k=5))\n",
    "    dict_perf[\"Cosine\"][\"Default\"][\"Recall\"].append(\n",
    "        rk(df, \"true\", \"results\", k=5))\n",
    "\n",
    "# Optimal\n",
    "# Euclidean\n",
    "for movie, results in l2_dict[\"Optimal\"].items():\n",
    "    gold_standard = validation_data[movie][results]\n",
    "    recommended = np.ones(128)\n",
    "    df = pd.DataFrame({\"true\": gold_standard, \"results\": recommended})\n",
    "    df[\"results\"] = df[\"results\"].astype(int)\n",
    "    dict_perf[\"Euclidean\"][\"Optimal\"][\"Precision\"].append(\n",
    "        pk(df, \"true\", \"results\", k=5))\n",
    "    dict_perf[\"Euclidean\"][\"Optimal\"][\"Recall\"].append(\n",
    "        rk(df, \"true\", \"results\", k=5))\n",
    "\n",
    "# Manhattan\n",
    "for movie, results in l1_dict[\"Optimal\"].items():\n",
    "    gold_standard = validation_data[movie][results]\n",
    "    recommended = np.ones(128)\n",
    "    df = pd.DataFrame({\"true\": gold_standard, \"results\": recommended})\n",
    "    df[\"results\"] = df[\"results\"].astype(int)\n",
    "    dict_perf[\"Manhattan\"][\"Optimal\"][\"Precision\"].append(pk(\n",
    "        df, \"true\", \"results\", k=5))\n",
    "    dict_perf[\"Manhattan\"][\"Optimal\"][\"Recall\"].append(\n",
    "        rk(df, \"true\", \"results\", k=5))\n",
    "\n",
    "# Cosine\n",
    "for movie, results in cos_dict[\"Optimal\"].items():\n",
    "    gold_standard = validation_data[movie][results]\n",
    "    recommended = np.ones(128)\n",
    "    df = pd.DataFrame({\"true\": gold_standard, \"results\": recommended})\n",
    "    df[\"results\"] = df[\"results\"].astype(int)\n",
    "    dict_perf[\"Cosine\"][\"Optimal\"][\"Precision\"].append(\n",
    "        pk(df, \"true\", \"results\", k=5))\n",
    "    dict_perf[\"Cosine\"][\"Optimal\"][\"Recall\"].append(\n",
    "        rk(df, \"true\", \"results\", k=5))"
   ]
  },
  {
   "cell_type": "code",
   "execution_count": 312,
   "id": "accc8ee4-eeb2-4083-8a3f-8294da2988af",
   "metadata": {
    "execution": {
     "iopub.execute_input": "2023-11-23T21:08:34.006825Z",
     "iopub.status.busy": "2023-11-23T21:08:34.006598Z",
     "iopub.status.idle": "2023-11-23T21:08:34.018857Z",
     "shell.execute_reply": "2023-11-23T21:08:34.017845Z",
     "shell.execute_reply.started": "2023-11-23T21:08:34.006803Z"
    },
    "tags": []
   },
   "outputs": [],
   "source": [
    "# Getting the Average (Precision @ 5) and (Average Recall @ 5)\n",
    "# Getting the Average (F-1 Score @ 5)\n",
    "# Default (Euclidean)\n",
    "default_euc_pave = a_pk(dict_perf[\"Euclidean\"][\"Default\"][\"Precision\"])\n",
    "default_euc_rave = a_rk(dict_perf[\"Euclidean\"][\"Default\"][\"Recall\"])\n",
    "default_euc_fone = mf_onek(default_euc_pave, default_euc_rave, beta=0.5)\n",
    "# Default (Manhattan)\n",
    "default_man_pave = a_pk(dict_perf[\"Manhattan\"][\"Default\"][\"Precision\"])\n",
    "default_man_rave = a_rk(dict_perf[\"Manhattan\"][\"Default\"][\"Recall\"])\n",
    "default_man_fone = mf_onek(default_man_pave, default_man_rave, beta=0.5)\n",
    "# Default (Cosine)\n",
    "default_cos_pave = a_pk(dict_perf[\"Cosine\"][\"Default\"][\"Precision\"])\n",
    "default_cos_rave = a_rk(dict_perf[\"Cosine\"][\"Default\"][\"Recall\"])\n",
    "default_cos_fone = mf_onek(default_cos_pave, default_cos_rave, beta=0.5)\n",
    "\n",
    "# Optimal (Euclidean)\n",
    "optimal_euc_pave = a_pk(dict_perf[\"Euclidean\"][\"Optimal\"][\"Precision\"])\n",
    "optimal_euc_rave = a_rk(dict_perf[\"Euclidean\"][\"Optimal\"][\"Recall\"])\n",
    "optimal_euc_fone = mf_onek(optimal_euc_pave, optimal_euc_rave, beta=0.5)\n",
    "# Default (Manhattan)\n",
    "optimal_man_pave = a_pk(dict_perf[\"Manhattan\"][\"Optimal\"][\"Precision\"])\n",
    "optimal_man_rave = a_rk(dict_perf[\"Manhattan\"][\"Optimal\"][\"Recall\"])\n",
    "optimal_man_fone = mf_onek(optimal_man_pave, optimal_man_rave, beta=0.5)\n",
    "# Default (Cosine)\n",
    "optimal_cos_pave = a_pk(dict_perf[\"Cosine\"][\"Optimal\"][\"Precision\"])\n",
    "optimal_cos_rave = a_rk(dict_perf[\"Cosine\"][\"Optimal\"][\"Recall\"])\n",
    "optimal_cos_fone = mf_onek(optimal_cos_pave, optimal_cos_rave, beta=0.5)"
   ]
  },
  {
   "cell_type": "code",
   "execution_count": 313,
   "id": "6eff05e6-d181-4825-a550-6f2c8fa2af75",
   "metadata": {
    "execution": {
     "iopub.execute_input": "2023-11-23T21:08:34.020147Z",
     "iopub.status.busy": "2023-11-23T21:08:34.019895Z",
     "iopub.status.idle": "2023-11-23T21:08:34.052541Z",
     "shell.execute_reply": "2023-11-23T21:08:34.051600Z",
     "shell.execute_reply.started": "2023-11-23T21:08:34.020123Z"
    },
    "tags": []
   },
   "outputs": [],
   "source": [
    "# Mean Average Precision\n",
    "l2_map = {\n",
    "    \"Default\": {\"Actual\": [], \"Predicted\": []},\n",
    "    \"Optimal\": {\"Actual\": [], \"Predicted\": []},\n",
    "}\n",
    "l1_map = {\n",
    "    \"Default\": {\"Actual\": [], \"Predicted\": []},\n",
    "    \"Optimal\": {\"Actual\": [], \"Predicted\": []},\n",
    "}\n",
    "cos_map = {\n",
    "    \"Default\": {\"Actual\": [], \"Predicted\": []},\n",
    "    \"Optimal\": {\"Actual\": [], \"Predicted\": []},\n",
    "}\n",
    "\n",
    "# Default\n",
    "# Euclidean\n",
    "for movie, results in l2_dict[\"Default\"].items():\n",
    "    actual = validation_data[validation_data[movie] == 1].index.tolist()\n",
    "    predict = results\n",
    "    l2_map[\"Default\"][\"Actual\"].append(actual)\n",
    "    l2_map[\"Default\"][\"Predicted\"].append(predict)\n",
    "\n",
    "# Manhattan\n",
    "for movie, results in l1_dict[\"Default\"].items():\n",
    "    actual = validation_data[validation_data[movie] == 1].index.tolist()\n",
    "    predict = results\n",
    "    l1_map[\"Default\"][\"Actual\"].append(actual)\n",
    "    l1_map[\"Default\"][\"Predicted\"].append(predict)\n",
    "\n",
    "# Cosine\n",
    "for movie, results in cos_dict[\"Default\"].items():\n",
    "    actual = validation_data[validation_data[movie] == 1].index.tolist()\n",
    "    predict = results\n",
    "    cos_map[\"Default\"][\"Actual\"].append(actual)\n",
    "    cos_map[\"Default\"][\"Predicted\"].append(predict)\n",
    "\n",
    "# Optimal\n",
    "# Euclidean\n",
    "for movie, results in l2_dict[\"Optimal\"].items():\n",
    "    actual = validation_data[validation_data[movie] == 1].index.tolist()\n",
    "    predict = results\n",
    "    l2_map[\"Optimal\"][\"Actual\"].append(actual)\n",
    "    l2_map[\"Optimal\"][\"Predicted\"].append(predict)\n",
    "\n",
    "# Manhattan\n",
    "for movie, results in l1_dict[\"Optimal\"].items():\n",
    "    actual = validation_data[validation_data[movie] == 1].index.tolist()\n",
    "    predict = results\n",
    "    l1_map[\"Optimal\"][\"Actual\"].append(actual)\n",
    "    l1_map[\"Optimal\"][\"Predicted\"].append(predict)\n",
    "\n",
    "# Cosine\n",
    "for movie, results in cos_dict[\"Optimal\"].items():\n",
    "    actual = validation_data[validation_data[movie] == 1].index.tolist()\n",
    "    predict = results\n",
    "    cos_map[\"Optimal\"][\"Actual\"].append(actual)\n",
    "    cos_map[\"Optimal\"][\"Predicted\"].append(predict)"
   ]
  },
  {
   "cell_type": "code",
   "execution_count": 314,
   "id": "1a965329-ec23-447a-ad92-f0f68c7209ef",
   "metadata": {
    "execution": {
     "iopub.execute_input": "2023-11-23T21:08:34.053606Z",
     "iopub.status.busy": "2023-11-23T21:08:34.053396Z",
     "iopub.status.idle": "2023-11-23T21:08:34.065110Z",
     "shell.execute_reply": "2023-11-23T21:08:34.063811Z",
     "shell.execute_reply.started": "2023-11-23T21:08:34.053587Z"
    },
    "tags": []
   },
   "outputs": [],
   "source": [
    "# Mean Average Precision\n",
    "# Default Euclidean\n",
    "default_euc_map = mapk(\n",
    "    l2_map[\"Default\"][\"Actual\"],\n",
    "    l2_map[\"Default\"][\"Predicted\"],\n",
    "    len(l2_map[\"Default\"][\"Predicted\"]),\n",
    ")\n",
    "\n",
    "# Default Manhattan\n",
    "default_man_map = mapk(\n",
    "    l1_map[\"Default\"][\"Actual\"],\n",
    "    l1_map[\"Default\"][\"Predicted\"],\n",
    "    len(l1_map[\"Default\"][\"Predicted\"]),\n",
    ")\n",
    "\n",
    "# Default Cosine\n",
    "default_cos_map = mapk(\n",
    "    cos_map[\"Default\"][\"Actual\"],\n",
    "    cos_map[\"Default\"][\"Predicted\"],\n",
    "    len(cos_map[\"Default\"][\"Predicted\"]),\n",
    ")\n",
    "\n",
    "# Optimal Euclidean\n",
    "optimal_euc_map = mapk(\n",
    "    l2_map[\"Optimal\"][\"Actual\"],\n",
    "    l2_map[\"Optimal\"][\"Predicted\"],\n",
    "    len(l2_map[\"Optimal\"][\"Predicted\"]),\n",
    ")\n",
    "\n",
    "# Optimal Manhattan\n",
    "optimal_man_map = mapk(\n",
    "    l1_map[\"Optimal\"][\"Actual\"],\n",
    "    l1_map[\"Optimal\"][\"Predicted\"],\n",
    "    len(l1_map[\"Optimal\"][\"Predicted\"]),\n",
    ")\n",
    "\n",
    "# Optimal Cosine\n",
    "optimal_cos_map = mapk(\n",
    "    cos_map[\"Optimal\"][\"Actual\"],\n",
    "    cos_map[\"Optimal\"][\"Predicted\"],\n",
    "    len(cos_map[\"Optimal\"][\"Predicted\"]),\n",
    ")"
   ]
  },
  {
   "cell_type": "code",
   "execution_count": 315,
   "id": "41233cf2-5a9b-4241-8047-170c9937cb95",
   "metadata": {
    "execution": {
     "iopub.execute_input": "2023-11-23T21:08:34.066028Z",
     "iopub.status.busy": "2023-11-23T21:08:34.065801Z",
     "iopub.status.idle": "2023-11-23T21:08:34.073539Z",
     "shell.execute_reply": "2023-11-23T21:08:34.072567Z",
     "shell.execute_reply.started": "2023-11-23T21:08:34.066006Z"
    },
    "tags": []
   },
   "outputs": [],
   "source": [
    "# R-Precision\n",
    "# Default Euclidean\n",
    "default_euc_rp = ave_rprec(\n",
    "    l2_map[\"Default\"][\"Actual\"],\n",
    "    l2_map[\"Default\"][\"Predicted\"],\n",
    ")\n",
    "\n",
    "# Default Manhattan\n",
    "default_man_rp = ave_rprec(\n",
    "    l1_map[\"Default\"][\"Actual\"],\n",
    "    l1_map[\"Default\"][\"Predicted\"],\n",
    ")\n",
    "\n",
    "# Default Cosine\n",
    "default_cos_rp = ave_rprec(\n",
    "    cos_map[\"Default\"][\"Actual\"],\n",
    "    cos_map[\"Default\"][\"Predicted\"],\n",
    ")\n",
    "\n",
    "# Optimal Euclidean\n",
    "optimal_euc_rp = ave_rprec(\n",
    "    l2_map[\"Optimal\"][\"Actual\"],\n",
    "    l2_map[\"Optimal\"][\"Predicted\"],\n",
    ")\n",
    "\n",
    "# Optimal Manhattan\n",
    "optimal_man_rp = ave_rprec(\n",
    "    l1_map[\"Optimal\"][\"Actual\"],\n",
    "    l1_map[\"Optimal\"][\"Predicted\"],\n",
    ")\n",
    "\n",
    "# Optimal Cosine\n",
    "optimal_cos_rp = ave_rprec(\n",
    "    cos_map[\"Optimal\"][\"Actual\"],\n",
    "    cos_map[\"Optimal\"][\"Predicted\"],\n",
    ")"
   ]
  },
  {
   "cell_type": "code",
   "execution_count": 316,
   "id": "9eeaca54-9375-446b-91ac-460bc512c6c2",
   "metadata": {
    "execution": {
     "iopub.execute_input": "2023-11-23T21:08:34.074514Z",
     "iopub.status.busy": "2023-11-23T21:08:34.074268Z",
     "iopub.status.idle": "2023-11-23T21:08:45.756148Z",
     "shell.execute_reply": "2023-11-23T21:08:45.754429Z",
     "shell.execute_reply.started": "2023-11-23T21:08:34.074490Z"
    },
    "tags": []
   },
   "outputs": [],
   "source": [
    "# Eleven-Point Precision/Recall Curve\n",
    "# Preparing list for queries\n",
    "queries = {'Default': [], 'Optimal': []}\n",
    "gold_standards = []\n",
    "\n",
    "for column in validation_data.columns[1:]:\n",
    "    query_d = movies_default[movies_default['title_old'] == column].iloc[0]\n",
    "    query_d = query_d.drop('title_old')\n",
    "    query_o = movies_optimal[movies_optimal['title_old'] == column].iloc[0]\n",
    "    query_o = query_o.drop('title_old')\n",
    "    queries['Default'].append(query_d)\n",
    "    queries['Optimal'].append(query_o)\n",
    "    standard = validation_data[column]\n",
    "    gold_standards.append(standard)\n",
    "\n",
    "# Preparing main database\n",
    "data_default = movies_default.iloc[:, 1:].to_numpy()\n",
    "data_optimal = movies_optimal.iloc[:, 1:].to_numpy()"
   ]
  },
  {
   "cell_type": "code",
   "execution_count": 317,
   "id": "71ad3d8f-988a-4f59-a9f6-5b417ee953d0",
   "metadata": {
    "execution": {
     "iopub.execute_input": "2023-11-23T21:08:45.757433Z",
     "iopub.status.busy": "2023-11-23T21:08:45.757204Z",
     "iopub.status.idle": "2023-11-23T21:08:45.766510Z",
     "shell.execute_reply": "2023-11-23T21:08:45.765525Z",
     "shell.execute_reply.started": "2023-11-23T21:08:45.757412Z"
    },
    "tags": []
   },
   "outputs": [],
   "source": [
    "# R-Precision per Genre\n",
    "dict_genre = {\n",
    "    \"Euclidean\": {\n",
    "        \"Default\": [],\n",
    "        \"Optimal\": [],\n",
    "    },\n",
    "    \"Manhattan\": {\n",
    "        \"Default\": [],\n",
    "        \"Optimal\": [],\n",
    "    },\n",
    "    \"Cosine\": {\n",
    "        \"Default\": [],\n",
    "        \"Optimal\": [],\n",
    "    },\n",
    "}\n",
    "\n",
    "i = 0\n",
    "for a, p in zip(l2_map['Default']['Actual'], l2_map['Default']['Predicted']):\n",
    "    dict_genre['Euclidean']['Default'].append(rprec(a, p))\n",
    "    i += 1\n",
    "i = 0\n",
    "for a, p in zip(l1_map['Default']['Actual'], l1_map['Default']['Predicted']):\n",
    "    dict_genre['Manhattan']['Default'].append(rprec(a, p))\n",
    "    i += 1\n",
    "i = 0\n",
    "for a, p in zip(cos_map['Default']['Actual'], cos_map['Default']['Predicted']):\n",
    "    dict_genre['Cosine']['Default'].append(rprec(a, p))\n",
    "    i += 1\n",
    "i = 0\n",
    "for a, p in zip(l2_map['Optimal']['Actual'], l2_map['Optimal']['Predicted']):\n",
    "    dict_genre['Euclidean']['Optimal'].append(rprec(a, p))\n",
    "    i += 1\n",
    "i = 0\n",
    "for a, p in zip(l1_map['Optimal']['Actual'], l1_map['Optimal']['Predicted']):\n",
    "    dict_genre['Manhattan']['Optimal'].append(rprec(a, p))\n",
    "    i += 1\n",
    "i = 0\n",
    "for a, p in zip(cos_map['Optimal']['Actual'], cos_map['Optimal']['Predicted']):\n",
    "    dict_genre['Cosine']['Optimal'].append(rprec(a, p))\n",
    "i += 1"
   ]
  },
  {
   "cell_type": "code",
   "execution_count": 318,
   "id": "77c4ee67-5fe3-4a90-b0b6-d2be2b1d2a2d",
   "metadata": {
    "execution": {
     "iopub.execute_input": "2023-11-23T21:08:45.767705Z",
     "iopub.status.busy": "2023-11-23T21:08:45.767494Z",
     "iopub.status.idle": "2023-11-23T21:08:53.413557Z",
     "shell.execute_reply": "2023-11-23T21:08:53.411902Z",
     "shell.execute_reply.started": "2023-11-23T21:08:45.767685Z"
    },
    "tags": []
   },
   "outputs": [],
   "source": [
    "# Getting Average Precision @ k and Average Recall @ k\n",
    "# Default\n",
    "# Euclidean\n",
    "dict_k_check = {\n",
    "    \"Euclidean\": {\n",
    "        \"Default\": {\"Precision\": {}, \"Recall\": {}},\n",
    "        \"Optimal\": {\"Precision\": {}, \"Recall\": {}},\n",
    "    },\n",
    "    \"Manhattan\": {\n",
    "        \"Default\": {\"Precision\": {}, \"Recall\": {}},\n",
    "        \"Optimal\": {\"Precision\": {}, \"Recall\": {}},\n",
    "    },\n",
    "    \"Cosine\": {\n",
    "        \"Default\": {\"Precision\": {}, \"Recall\": {}},\n",
    "        \"Optimal\": {\"Precision\": {}, \"Recall\": {}},\n",
    "    },\n",
    "}\n",
    "\n",
    "for i in range(1, 129):\n",
    "    dict_k_check[\"Euclidean\"][\"Default\"][\"Precision\"][i] = []\n",
    "    dict_k_check[\"Euclidean\"][\"Default\"][\"Recall\"][i] = []\n",
    "    for movie, results in l2_dict[\"Default\"].items():\n",
    "        gold_standard = validation_data[movie][results]\n",
    "        recommended = np.ones(128)\n",
    "        df = pd.DataFrame({\"true\": gold_standard, \"results\": recommended})\n",
    "        df[\"results\"] = df[\"results\"].astype(int)\n",
    "        dict_k_check[\"Euclidean\"][\"Default\"][\"Precision\"][i].append(pk(\n",
    "            df, \"true\", \"results\", k=i))\n",
    "        dict_k_check[\"Euclidean\"][\"Default\"][\"Recall\"][i].append(\n",
    "            rk(df, \"true\", \"results\", k=i))\n",
    "\n",
    "# Manhattan\n",
    "for i in range(1, 129):\n",
    "    dict_k_check[\"Manhattan\"][\"Default\"][\"Precision\"][i] = []\n",
    "    dict_k_check[\"Manhattan\"][\"Default\"][\"Recall\"][i] = []\n",
    "    for movie, results in l1_dict[\"Default\"].items():\n",
    "        gold_standard = validation_data[movie][results]\n",
    "        recommended = np.ones(128)\n",
    "        df = pd.DataFrame({\"true\": gold_standard, \"results\": recommended})\n",
    "        df[\"results\"] = df[\"results\"].astype(int)\n",
    "        dict_k_check[\"Manhattan\"][\"Default\"][\"Precision\"][i].append(pk(\n",
    "            df, \"true\", \"results\", k=i))\n",
    "        dict_k_check[\"Manhattan\"][\"Default\"][\"Recall\"][i].append(\n",
    "            rk(df, \"true\", \"results\", k=i))\n",
    "\n",
    "# Cosine\n",
    "for i in range(1, 129):\n",
    "    dict_k_check[\"Cosine\"][\"Default\"][\"Precision\"][i] = []\n",
    "    dict_k_check[\"Cosine\"][\"Default\"][\"Recall\"][i] = []\n",
    "    for movie, results in cos_dict[\"Default\"].items():\n",
    "        gold_standard = validation_data[movie][results]\n",
    "        recommended = np.ones(128)\n",
    "        df = pd.DataFrame({\"true\": gold_standard, \"results\": recommended})\n",
    "        df[\"results\"] = df[\"results\"].astype(int)\n",
    "        dict_k_check[\"Cosine\"][\"Default\"][\"Precision\"][i].append(\n",
    "            pk(df, \"true\", \"results\", k=i))\n",
    "        dict_k_check[\"Cosine\"][\"Default\"][\"Recall\"][i].append(\n",
    "            rk(df, \"true\", \"results\", k=i))\n",
    "\n",
    "# Optimal\n",
    "# Euclidean\n",
    "for i in range(1, 129):\n",
    "    dict_k_check[\"Euclidean\"][\"Optimal\"][\"Precision\"][i] = []\n",
    "    dict_k_check[\"Euclidean\"][\"Optimal\"][\"Recall\"][i] = []\n",
    "    for movie, results in l2_dict[\"Optimal\"].items():\n",
    "        gold_standard = validation_data[movie][results]\n",
    "        recommended = np.ones(128)\n",
    "        df = pd.DataFrame({\"true\": gold_standard, \"results\": recommended})\n",
    "        df[\"results\"] = df[\"results\"].astype(int)\n",
    "        dict_k_check[\"Euclidean\"][\"Optimal\"][\"Precision\"][i].append(\n",
    "            pk(df, \"true\", \"results\", k=i))\n",
    "        dict_k_check[\"Euclidean\"][\"Optimal\"][\"Recall\"][i].append(\n",
    "            rk(df, \"true\", \"results\", k=i))\n",
    "\n",
    "# Manhattan\n",
    "for i in range(1, 129):\n",
    "    dict_k_check[\"Manhattan\"][\"Optimal\"][\"Precision\"][i] = []\n",
    "    dict_k_check[\"Manhattan\"][\"Optimal\"][\"Recall\"][i] = []\n",
    "    for movie, results in l1_dict[\"Optimal\"].items():\n",
    "        gold_standard = validation_data[movie][results]\n",
    "        recommended = np.ones(128)\n",
    "        df = pd.DataFrame({\"true\": gold_standard, \"results\": recommended})\n",
    "        df[\"results\"] = df[\"results\"].astype(int)\n",
    "        dict_k_check[\"Manhattan\"][\"Optimal\"][\"Precision\"][i].append(pk(\n",
    "            df, \"true\", \"results\", k=i))\n",
    "        dict_k_check[\"Manhattan\"][\"Optimal\"][\"Recall\"][i].append(\n",
    "            rk(df, \"true\", \"results\", k=i))\n",
    "\n",
    "# Cosine\n",
    "for i in range(1, 129):\n",
    "    dict_k_check[\"Cosine\"][\"Optimal\"][\"Precision\"][i] = []\n",
    "    dict_k_check[\"Cosine\"][\"Optimal\"][\"Recall\"][i] = []\n",
    "    for movie, results in cos_dict[\"Optimal\"].items():\n",
    "        gold_standard = validation_data[movie][results]\n",
    "        recommended = np.ones(128)\n",
    "        df = pd.DataFrame({\"true\": gold_standard, \"results\": recommended})\n",
    "        df[\"results\"] = df[\"results\"].astype(int)\n",
    "        dict_k_check[\"Cosine\"][\"Optimal\"][\"Precision\"][i].append(\n",
    "            pk(df, \"true\", \"results\", k=i))\n",
    "        dict_k_check[\"Cosine\"][\"Optimal\"][\"Recall\"][i].append(\n",
    "            rk(df, \"true\", \"results\", k=i))"
   ]
  },
  {
   "cell_type": "code",
   "execution_count": 319,
   "id": "ca624396-cc7a-4515-ba4e-ac5c4a30251d",
   "metadata": {
    "execution": {
     "iopub.execute_input": "2023-11-23T21:08:53.415251Z",
     "iopub.status.busy": "2023-11-23T21:08:53.415001Z",
     "iopub.status.idle": "2023-11-23T21:08:53.639463Z",
     "shell.execute_reply": "2023-11-23T21:08:53.638477Z",
     "shell.execute_reply.started": "2023-11-23T21:08:53.415228Z"
    },
    "tags": []
   },
   "outputs": [
    {
     "data": {
      "image/png": "[encoded data removed]",
      "text/plain": [
       "<Figure size 640x480 with 1 Axes>"
      ]
     },
     "metadata": {},
     "output_type": "display_data"
    }
   ],
   "source": [
    "xs_k = np.arange(1, 129, 1)\n",
    "ys_pk = list()\n",
    "ys_rk = list()\n",
    "\n",
    "for i in range(1, 129):\n",
    "    arr_pk = np.asarray(dict_k_check[\"Euclidean\"][\"Default\"][\"Precision\"][i])\n",
    "    arr_rk = np.asarray(dict_k_check[\"Euclidean\"][\"Default\"][\"Recall\"][i])\n",
    "    y_pk = np.mean(arr_pk)\n",
    "    y_rk = np.mean(arr_rk)\n",
    "    ys_pk.append(y_pk)\n",
    "    ys_rk.append(y_rk)\n",
    "\n",
    "ys_pk2 = list()\n",
    "ys_rk2 = list()\n",
    "\n",
    "for i in range(1, 129):\n",
    "    arr_pk = np.asarray(dict_k_check[\"Manhattan\"][\"Default\"][\"Precision\"][i])\n",
    "    arr_rk = np.asarray(dict_k_check[\"Manhattan\"][\"Default\"][\"Recall\"][i])\n",
    "    y_pk = np.mean(arr_pk)\n",
    "    y_rk = np.mean(arr_rk)\n",
    "    ys_pk2.append(y_pk)\n",
    "    ys_rk2.append(y_rk)\n",
    "\n",
    "ys_pk3 = list()\n",
    "ys_rk3 = list()\n",
    "\n",
    "for i in range(1, 129):\n",
    "    arr_pk = np.asarray(dict_k_check[\"Cosine\"][\"Default\"][\"Precision\"][i])\n",
    "    arr_rk = np.asarray(dict_k_check[\"Cosine\"][\"Default\"][\"Recall\"][i])\n",
    "    y_pk = np.mean(arr_pk)\n",
    "    y_rk = np.mean(arr_rk)\n",
    "    ys_pk3.append(y_pk)\n",
    "    ys_rk3.append(y_rk)\n",
    "\n",
    "ys_pk4 = list()\n",
    "ys_rk4 = list()\n",
    "\n",
    "for i in range(1, 129):\n",
    "    arr_pk = np.asarray(dict_k_check[\"Euclidean\"][\"Optimal\"][\"Precision\"][i])\n",
    "    arr_rk = np.asarray(dict_k_check[\"Euclidean\"][\"Optimal\"][\"Recall\"][i])\n",
    "    y_pk = np.mean(arr_pk)\n",
    "    y_rk = np.mean(arr_rk)\n",
    "    ys_pk4.append(y_pk)\n",
    "    ys_rk4.append(y_rk)\n",
    "\n",
    "ys_pk5 = list()\n",
    "ys_rk5 = list()\n",
    "\n",
    "for i in range(1, 129):\n",
    "    arr_pk = np.asarray(dict_k_check[\"Manhattan\"][\"Optimal\"][\"Precision\"][i])\n",
    "    arr_rk = np.asarray(dict_k_check[\"Manhattan\"][\"Optimal\"][\"Recall\"][i])\n",
    "    y_pk = np.mean(arr_pk)\n",
    "    y_rk = np.mean(arr_rk)\n",
    "    ys_pk5.append(y_pk)\n",
    "    ys_rk5.append(y_rk)\n",
    "\n",
    "ys_pk6 = list()\n",
    "ys_rk6 = list()\n",
    "\n",
    "for i in range(1, 129):\n",
    "    arr_pk = np.asarray(dict_k_check[\"Cosine\"][\"Optimal\"][\"Precision\"][i])\n",
    "    arr_rk = np.asarray(dict_k_check[\"Cosine\"][\"Optimal\"][\"Recall\"][i])\n",
    "    y_pk = np.mean(arr_pk)\n",
    "    y_rk = np.mean(arr_rk)\n",
    "    ys_pk6.append(y_pk)\n",
    "    ys_rk6.append(y_rk)\n",
    "\n",
    "fig, ax = plt.subplots()\n",
    "ax.set_xlabel(\"k\")\n",
    "ax.set_ylabel(\"Precision/Recall\")\n",
    "ax.set_title(\"Precision/Recall Measures @ k\")\n",
    "ax.plot(xs_k, ys_pk, \"--r\")\n",
    "ax.plot(xs_k, ys_rk, \"--g\")\n",
    "ax.plot(xs_k, ys_pk2, \"--r\")\n",
    "ax.plot(xs_k, ys_rk2, \"--g\")\n",
    "ax.plot(xs_k, ys_pk3, \"--r\")\n",
    "ax.plot(xs_k, ys_rk3, \"--g\")\n",
    "ax.plot(xs_k, ys_pk4, \"--r\")\n",
    "ax.plot(xs_k, ys_rk4, \"--g\")\n",
    "ax.plot(xs_k, ys_pk5, \"--r\")\n",
    "ax.plot(xs_k, ys_rk5, \"--g\")\n",
    "ax.plot(xs_k, ys_pk6, \"--r\")\n",
    "ax.plot(xs_k, ys_rk6, \"--g\")\n",
    "ax.legend(['Precisions @ k', 'Recalls @ k'])\n",
    "plt.show()"
   ]
  },
  {
   "cell_type": "markdown",
   "id": "c91b623f-f555-4dea-ae08-d8a9d2ada6e6",
   "metadata": {},
   "source": [
    "<center><b>Figure 6.</b> Precision/Recall Measures @ k</center>"
   ]
  },
  {
   "cell_type": "markdown",
   "id": "f454b800-502f-42fa-9447-9a5f8c10664a",
   "metadata": {},
   "source": [
    "Based on this graph, it could be said that around 5 would be the best k, where there is an acceptable and balanced trade-off between precision and recall. Moreover, it could be said from this graph that there are great differences among the recall measures of the IR variants; on the other hand, the differences in the precision of the IR variants are small or minimal. Through the next table, the numerical differences would be highlighted and explored more."
   ]
  },
  {
   "cell_type": "markdown",
   "id": "bd39e800-fca0-4b7c-9ef1-d772aebf8385",
   "metadata": {},
   "source": [
    "<p><b>Table 25.</b></p>\n",
    "<p><i>General Evaluation Metrics Table</i></p>"
   ]
  },
  {
   "cell_type": "code",
   "execution_count": 320,
   "id": "31dcf96c-44c5-4c3c-afc3-80b36814ea9d",
   "metadata": {
    "execution": {
     "iopub.execute_input": "2023-11-23T21:08:53.640669Z",
     "iopub.status.busy": "2023-11-23T21:08:53.640439Z",
     "iopub.status.idle": "2023-11-23T21:08:53.662851Z",
     "shell.execute_reply": "2023-11-23T21:08:53.661807Z",
     "shell.execute_reply.started": "2023-11-23T21:08:53.640647Z"
    },
    "tags": []
   },
   "outputs": [
    {
     "data": {
      "text/html": [
       "<table border=\"1\" class=\"dataframe\">\n",
       "  <thead>\n",
       "    <tr style=\"text-align: right;\">\n",
       "      <th></th>\n",
       "      <th>Vectorizer Settings</th>\n",
       "      <th>Distance Measure</th>\n",
       "      <th>Average\n",
       "(Precision @ 5)</th>\n",
       "      <th>Average\n",
       "(Recall @ 5)</th>\n",
       "      <th>Average\n",
       "(F-score @ 5)</th>\n",
       "      <th>Mean Average Precision (MAP)</th>\n",
       "      <th>R-Precision</th>\n",
       "      <th>AUC-PR (Averaged Eleven-Point)</th>\n",
       "    </tr>\n",
       "  </thead>\n",
       "  <tbody>\n",
       "    <tr>\n",
       "      <th>0</th>\n",
       "      <td>Default</td>\n",
       "      <td>Euclidean (L2)</td>\n",
       "      <td>0.50</td>\n",
       "      <td>0.54</td>\n",
       "      <td>0.51</td>\n",
       "      <td>0.53</td>\n",
       "      <td>0.56</td>\n",
       "      <td>0.54</td>\n",
       "    </tr>\n",
       "    <tr>\n",
       "      <th>1</th>\n",
       "      <td>\"Optimal\"</td>\n",
       "      <td>Euclidean (L2)</td>\n",
       "      <td>0.46</td>\n",
       "      <td>0.50</td>\n",
       "      <td>0.47</td>\n",
       "      <td>0.52</td>\n",
       "      <td>0.51</td>\n",
       "      <td>0.52</td>\n",
       "    </tr>\n",
       "    <tr>\n",
       "      <th>2</th>\n",
       "      <td>Default</td>\n",
       "      <td>Manhattan (L1)</td>\n",
       "      <td>0.36</td>\n",
       "      <td>0.38</td>\n",
       "      <td>0.36</td>\n",
       "      <td>0.40</td>\n",
       "      <td>0.40</td>\n",
       "      <td>0.43</td>\n",
       "    </tr>\n",
       "    <tr>\n",
       "      <th>3</th>\n",
       "      <td>\"Optimal\"</td>\n",
       "      <td>Manhattan (L1)</td>\n",
       "      <td>0.40</td>\n",
       "      <td>0.42</td>\n",
       "      <td>0.40</td>\n",
       "      <td>0.43</td>\n",
       "      <td>0.44</td>\n",
       "      <td>0.44</td>\n",
       "    </tr>\n",
       "    <tr>\n",
       "      <th>4</th>\n",
       "      <td>Default</td>\n",
       "      <td>Cosine</td>\n",
       "      <td>0.56</td>\n",
       "      <td>0.59</td>\n",
       "      <td>0.57</td>\n",
       "      <td>0.57</td>\n",
       "      <td>0.59</td>\n",
       "      <td>0.58</td>\n",
       "    </tr>\n",
       "    <tr>\n",
       "      <th>5</th>\n",
       "      <td>\"Optimal\"</td>\n",
       "      <td>Cosine</td>\n",
       "      <td>0.54</td>\n",
       "      <td>0.57</td>\n",
       "      <td>0.55</td>\n",
       "      <td>0.57</td>\n",
       "      <td>0.59</td>\n",
       "      <td>0.57</td>\n",
       "    </tr>\n",
       "  </tbody>\n",
       "</table>"
      ],
      "text/plain": [
       "<IPython.core.display.HTML object>"
      ]
     },
     "metadata": {},
     "output_type": "display_data"
    }
   ],
   "source": [
    "# Main Table for Metrics\n",
    "df_final = pd.DataFrame(\n",
    "    columns=[\n",
    "        \"Vectorizer Settings\",\n",
    "        \"Distance Measure\",\n",
    "        \"Average\\n(Precision @ 5)\",\n",
    "        \"Average\\n(Recall @ 5)\",\n",
    "        \"Average\\n(F-score @ 5)\",\n",
    "        \"Mean Average Precision (MAP)\",\n",
    "        \"R-Precision\",\n",
    "        \"AUC-PR (Averaged Eleven-Point)\",\n",
    "    ]\n",
    ")\n",
    "df_final.loc[0] = [\n",
    "    \"Default\",\n",
    "    \"Euclidean (L2)\",\n",
    "    \"{:0.2f}\".format(default_euc_pave),\n",
    "    \"{:0.2f}\".format(default_euc_rave),\n",
    "    \"{:0.2f}\".format(default_euc_fone),\n",
    "    \"{:0.2f}\".format(default_euc_map),\n",
    "    \"{:0.2f}\".format(default_euc_rp),\n",
    "    0.54,\n",
    "]\n",
    "\n",
    "df_final.loc[1] = [\n",
    "    '\"Optimal\"',\n",
    "    \"Euclidean (L2)\",\n",
    "    \"{:0.2f}\".format(optimal_euc_pave),\n",
    "    \"{:0.2f}\".format(optimal_euc_rave),\n",
    "    \"{:0.2f}\".format(optimal_euc_fone),\n",
    "    \"{:0.2f}\".format(optimal_euc_map),\n",
    "    \"{:0.2f}\".format(optimal_euc_rp),\n",
    "    0.52,\n",
    "]\n",
    "\n",
    "df_final.loc[2] = [\n",
    "    \"Default\",\n",
    "    \"Manhattan (L1)\",\n",
    "    \"{:0.2f}\".format(default_man_pave),\n",
    "    \"{:0.2f}\".format(default_man_rave),\n",
    "    \"{:0.2f}\".format(default_man_fone),\n",
    "    \"{:0.2f}\".format(default_man_map),\n",
    "    \"{:0.2f}\".format(default_man_rp),\n",
    "    0.43,\n",
    "]\n",
    "\n",
    "df_final.loc[3] = [\n",
    "    '\"Optimal\"',\n",
    "    \"Manhattan (L1)\",\n",
    "    \"{:0.2f}\".format(optimal_man_pave),\n",
    "    \"{:0.2f}\".format(optimal_man_rave),\n",
    "    \"{:0.2f}\".format(optimal_man_fone),\n",
    "    \"{:0.2f}\".format(optimal_man_map),\n",
    "    \"{:0.2f}\".format(optimal_man_rp),\n",
    "    0.44,\n",
    "]\n",
    "\n",
    "df_final.loc[4] = [\n",
    "    \"Default\",\n",
    "    \"Cosine\",\n",
    "    \"{:0.2f}\".format(default_cos_pave),\n",
    "    \"{:0.2f}\".format(default_cos_rave),\n",
    "    \"{:0.2f}\".format(default_cos_fone),\n",
    "    \"{:0.2f}\".format(default_cos_map),\n",
    "    \"{:0.2f}\".format(default_cos_rp),\n",
    "    0.58,\n",
    "]\n",
    "\n",
    "df_final.loc[5] = [\n",
    "    '\"Optimal\"',\n",
    "    \"Cosine\",\n",
    "    \"{:0.2f}\".format(optimal_cos_pave),\n",
    "    \"{:0.2f}\".format(optimal_cos_rave),\n",
    "    \"{:0.2f}\".format(optimal_cos_fone),\n",
    "    \"{:0.2f}\".format(optimal_cos_map),\n",
    "    \"{:0.2f}\".format(optimal_cos_rp),\n",
    "    0.57,\n",
    "]\n",
    "\n",
    "pretty_print(df_final)"
   ]
  },
  {
   "cell_type": "markdown",
   "id": "0697dc0b-40f6-43a2-8be0-5e9c4ae643a0",
   "metadata": {},
   "source": [
    "As seen above, comparing the metrics between Default and \"Optimal\", it can be said that the \"optimal\" IR mostly underperforms as compared to the IR with default settings in its vectorizer. This may hint at how having a dataset with relatively few data points would not require much tuning as compared to a more extensive dataset. Moreover, cosine distance outperforms all the other distance measure, making it the best distance measure to use for the dataset. \n",
    "\n",
    "Interpreting each evaluation metric,\n",
    "<ul>\n",
    "    <li>Comparing both the MAP and the Average (Precision @ 5), given that MAP is known to fully represent all queries with its measure (Cambridge UP, 2009), it could be said that the selected k, based on the previous figure, approaches the best threshold for the IR, where precision and recall are in a good balance.</li>\n",
    "    <li>Moreover, for k equal to 5, it could be noted that given a precision of around 0.40-0.50 which means that the results of the IR system are 40 to 50% relevant, the model is able to return about 50% of the relevant documents, as evidenced by the Average (Recall @ 5). This may imply that on average, the system is able to churn out most of the relevant documents for some queries, but fails to retrieve do so for other queries. This could be linked to the inequal distribution of the data points, which would be discussed in detail later.</li>\n",
    "    <li>Lastly, R-Precision, which can approximate the best recall and precision for each query, signifies that it would be easier to acquire a better accuracy, if there is ideally an equal distribution of relevant movies for each movie (e.g. through their genre, language, and such).</li>\n",
    "</ul>\n",
    "Concluding this part of the results, it could be said that (1) vectorizer settings should be changed mostly when dealing with highly extensive data, (2) cosine distance provides the best performance in the given dataset, which may mean that it is recommended to be used in movie recommendation systems, and (3) a more extensive and more equally distributed dataset would help in dealing with the issues of varying performance across queries."
   ]
  },
  {
   "cell_type": "markdown",
   "id": "b06ed2d7-4db3-4a3f-a105-1836cac4fd52",
   "metadata": {},
   "source": [
    "<p><b>Table 26.</b></p>\n",
    "<p><i>R-Precision per Setting, Distance Measure, and Genre</i></p>"
   ]
  },
  {
   "cell_type": "code",
   "execution_count": 321,
   "id": "e629399f-f3b5-4e34-ac1d-7d2ffa7579b4",
   "metadata": {
    "execution": {
     "iopub.execute_input": "2023-11-23T21:08:53.663897Z",
     "iopub.status.busy": "2023-11-23T21:08:53.663684Z",
     "iopub.status.idle": "2023-11-23T21:08:53.686619Z",
     "shell.execute_reply": "2023-11-23T21:08:53.685713Z",
     "shell.execute_reply.started": "2023-11-23T21:08:53.663876Z"
    },
    "tags": []
   },
   "outputs": [
    {
     "data": {
      "text/html": [
       "<div>\n",
       "<style scoped>\n",
       "    .dataframe tbody tr th:only-of-type {\n",
       "        vertical-align: middle;\n",
       "    }\n",
       "\n",
       "    .dataframe tbody tr th {\n",
       "        vertical-align: top;\n",
       "    }\n",
       "\n",
       "    .dataframe thead th {\n",
       "        text-align: right;\n",
       "    }\n",
       "</style>\n",
       "<table border=\"1\" class=\"dataframe\">\n",
       "  <thead>\n",
       "    <tr style=\"text-align: right;\">\n",
       "      <th></th>\n",
       "      <th>Vectorizer Settings</th>\n",
       "      <th>Distance Measure</th>\n",
       "      <th>Drama</th>\n",
       "      <th>Comedy</th>\n",
       "      <th>Mystery and Thriller</th>\n",
       "      <th>Horror</th>\n",
       "      <th>Romance</th>\n",
       "      <th>Action</th>\n",
       "      <th>Sci-fi</th>\n",
       "      <th>Adventure</th>\n",
       "      <th>LGBTQA+</th>\n",
       "      <th>Fantasy</th>\n",
       "    </tr>\n",
       "  </thead>\n",
       "  <tbody>\n",
       "    <tr>\n",
       "      <th>0</th>\n",
       "      <td>Default</td>\n",
       "      <td>Euclidean</td>\n",
       "      <td>0.67</td>\n",
       "      <td>0.50</td>\n",
       "      <td>0.67</td>\n",
       "      <td>0.40</td>\n",
       "      <td>0.29</td>\n",
       "      <td>0.50</td>\n",
       "      <td>0.50</td>\n",
       "      <td>1.00</td>\n",
       "      <td>0.75</td>\n",
       "      <td>0.33</td>\n",
       "    </tr>\n",
       "    <tr>\n",
       "      <th>1</th>\n",
       "      <td>Optimal</td>\n",
       "      <td>Euclidean</td>\n",
       "      <td>0.67</td>\n",
       "      <td>0.50</td>\n",
       "      <td>0.67</td>\n",
       "      <td>0.40</td>\n",
       "      <td>0.29</td>\n",
       "      <td>0.50</td>\n",
       "      <td>0.50</td>\n",
       "      <td>0.50</td>\n",
       "      <td>0.75</td>\n",
       "      <td>0.33</td>\n",
       "    </tr>\n",
       "    <tr>\n",
       "      <th>2</th>\n",
       "      <td>Default</td>\n",
       "      <td>Manhattan</td>\n",
       "      <td>0.50</td>\n",
       "      <td>0.25</td>\n",
       "      <td>0.33</td>\n",
       "      <td>0.20</td>\n",
       "      <td>0.29</td>\n",
       "      <td>0.50</td>\n",
       "      <td>0.25</td>\n",
       "      <td>0.75</td>\n",
       "      <td>0.75</td>\n",
       "      <td>0.17</td>\n",
       "    </tr>\n",
       "    <tr>\n",
       "      <th>3</th>\n",
       "      <td>Optimal</td>\n",
       "      <td>Manhattan</td>\n",
       "      <td>0.67</td>\n",
       "      <td>0.25</td>\n",
       "      <td>0.67</td>\n",
       "      <td>0.40</td>\n",
       "      <td>0.29</td>\n",
       "      <td>0.67</td>\n",
       "      <td>0.50</td>\n",
       "      <td>0.50</td>\n",
       "      <td>0.25</td>\n",
       "      <td>0.17</td>\n",
       "    </tr>\n",
       "    <tr>\n",
       "      <th>4</th>\n",
       "      <td>Default</td>\n",
       "      <td>Cosine</td>\n",
       "      <td>0.83</td>\n",
       "      <td>0.50</td>\n",
       "      <td>0.67</td>\n",
       "      <td>0.40</td>\n",
       "      <td>0.29</td>\n",
       "      <td>0.50</td>\n",
       "      <td>0.50</td>\n",
       "      <td>1.00</td>\n",
       "      <td>0.75</td>\n",
       "      <td>0.50</td>\n",
       "    </tr>\n",
       "    <tr>\n",
       "      <th>5</th>\n",
       "      <td>Optimal</td>\n",
       "      <td>Cosine</td>\n",
       "      <td>0.83</td>\n",
       "      <td>0.50</td>\n",
       "      <td>0.67</td>\n",
       "      <td>0.40</td>\n",
       "      <td>0.29</td>\n",
       "      <td>0.67</td>\n",
       "      <td>0.50</td>\n",
       "      <td>0.75</td>\n",
       "      <td>0.75</td>\n",
       "      <td>0.50</td>\n",
       "    </tr>\n",
       "  </tbody>\n",
       "</table>\n",
       "</div>"
      ],
      "text/plain": [
       "  Vectorizer Settings Distance Measure Drama Comedy Mystery and Thriller  \\\n",
       "0             Default        Euclidean  0.67   0.50                 0.67   \n",
       "1             Optimal        Euclidean  0.67   0.50                 0.67   \n",
       "2             Default        Manhattan  0.50   0.25                 0.33   \n",
       "3             Optimal        Manhattan  0.67   0.25                 0.67   \n",
       "4             Default           Cosine  0.83   0.50                 0.67   \n",
       "5             Optimal           Cosine  0.83   0.50                 0.67   \n",
       "\n",
       "  Horror Romance Action Sci-fi Adventure LGBTQA+ Fantasy  \n",
       "0   0.40    0.29   0.50   0.50      1.00    0.75    0.33  \n",
       "1   0.40    0.29   0.50   0.50      0.50    0.75    0.33  \n",
       "2   0.20    0.29   0.50   0.25      0.75    0.75    0.17  \n",
       "3   0.40    0.29   0.67   0.50      0.50    0.25    0.17  \n",
       "4   0.40    0.29   0.50   0.50      1.00    0.75    0.50  \n",
       "5   0.40    0.29   0.67   0.50      0.75    0.75    0.50  "
      ]
     },
     "execution_count": 321,
     "metadata": {},
     "output_type": "execute_result"
    }
   ],
   "source": [
    "# Main Table for Metrics\n",
    "df_genre = pd.DataFrame(\n",
    "    columns=[\n",
    "        \"Vectorizer Settings\",\n",
    "        \"Distance Measure\",\n",
    "        \"Drama\",\n",
    "        \"Comedy\",\n",
    "        \"Mystery and Thriller\",\n",
    "        \"Horror\",\n",
    "        \"Romance\",\n",
    "        \"Action\",\n",
    "        \"Sci-fi\",\n",
    "        \"Adventure\",\n",
    "        \"LGBTQA+\",\n",
    "        \"Fantasy\",\n",
    "    ]\n",
    ")\n",
    "\n",
    "lst_settings = ['Default', 'Optimal', 'Default', 'Optimal', 'Default',\n",
    "                'Optimal']\n",
    "lst_distances = ['Euclidean', 'Euclidean', 'Manhattan', 'Manhattan',\n",
    "                 'Cosine', 'Cosine']\n",
    "for i in range(6):\n",
    "    df_genre.loc[i] = [\n",
    "        lst_settings[i],\n",
    "        lst_distances[i],\n",
    "        \"{:0.2f}\".format(dict_genre[lst_distances[i]][lst_settings[i]][0]),\n",
    "        \"{:0.2f}\".format(dict_genre[lst_distances[i]][lst_settings[i]][1]),\n",
    "        \"{:0.2f}\".format(dict_genre[lst_distances[i]][lst_settings[i]][2]),\n",
    "        \"{:0.2f}\".format(dict_genre[lst_distances[i]][lst_settings[i]][3]),\n",
    "        \"{:0.2f}\".format(dict_genre[lst_distances[i]][lst_settings[i]][4]),\n",
    "        \"{:0.2f}\".format(dict_genre[lst_distances[i]][lst_settings[i]][5]),\n",
    "        \"{:0.2f}\".format(dict_genre[lst_distances[i]][lst_settings[i]][6]),\n",
    "        \"{:0.2f}\".format(dict_genre[lst_distances[i]][lst_settings[i]][7]),\n",
    "        \"{:0.2f}\".format(dict_genre[lst_distances[i]][lst_settings[i]][8]),\n",
    "        \"{:0.2f}\".format(dict_genre[lst_distances[i]][lst_settings[i]][9]),\n",
    "    ]\n",
    "df_genre"
   ]
  },
  {
   "cell_type": "markdown",
   "id": "9938c787-0ba8-4fc0-b982-62f75193a075",
   "metadata": {},
   "source": [
    "In Table 22, each genre is represented by a movie, and the R-Precision was used as it is able to take into account how much true relevant documents there are for a given query, and thus, can be used to compare queries with each other, given that their supposed ks are adjusted on a case-to-case basis. With regards to the table, the high population of drama may have contributed to the relatively average to high precision of drama, however, the genres that would contradict this are adventure and LGBTQA+, which have average representation in the dataset (based on their frequencies in the dataset) and which are able to return most to all of the relevant documents with a k equal to all the relevant documents. What this may signify is that the chosen movie for the genre is a good representative of all movies with the same genre, and moreover, the synopsis and critiques of these movie genre may make use of the same \"vernacular\" in writing, which may then allow for easier finding of similar, relevant movies to these movies. If it being a good representative is only the reason, in order to get a more impartial evaluation of the IR, it is better to acquire more \"users\" or queries to feed to the system, as to dampen the effects of the coincidentally highly representative queries.\n",
    "\n",
    "Hence, it could be said from this that while a high number of datapoints, where more relevant features may be derived, may help in raising accuracy; having relatively less data points for a given characteristic of the data points would not immediately lead to having lower accuracy for that characteristic. This may still depend on the features derived from these data points and the \"coincidental\" well-representativeness of the chosen query."
   ]
  },
  {
   "cell_type": "code",
   "execution_count": 322,
   "id": "353189c5-f0e3-46d7-b58f-cdaae388627e",
   "metadata": {
    "execution": {
     "iopub.execute_input": "2023-11-23T21:08:53.687595Z",
     "iopub.status.busy": "2023-11-23T21:08:53.687389Z",
     "iopub.status.idle": "2023-11-23T21:08:55.170037Z",
     "shell.execute_reply": "2023-11-23T21:08:55.169042Z",
     "shell.execute_reply.started": "2023-11-23T21:08:53.687575Z"
    },
    "tags": []
   },
   "outputs": [
    {
     "data": {
      "image/png": "[encoded data removed]",
      "text/plain": [
       "<Figure size 640x480 with 1 Axes>"
      ]
     },
     "metadata": {},
     "output_type": "display_data"
    }
   ],
   "source": [
    "# Eleven-Point Precision/Recall Curve\n",
    "# Default Euclidean\n",
    "ave_prg(queries['Default'], data_default, euclidean, 1, gold_standards)\n",
    "plt.show()"
   ]
  },
  {
   "cell_type": "markdown",
   "id": "a8989e18-b98c-49e5-a1dc-a30acc90bc6d",
   "metadata": {},
   "source": [
    "<center><b>Figure 7.</b> Averaged Eleven-Point PR Curve (Default Euclidean)</center>"
   ]
  },
  {
   "cell_type": "markdown",
   "id": "18da999d-ec35-469a-86ca-aebd26735d53",
   "metadata": {},
   "source": [
    "Seen above is a usual trend for PR curves where precision tends to go down as recall goes up, and vice-versa. What could be noted here is that the IR system using these settings can immediately churn out relevant movies, however, it tends to underperform as more results are returned. The coordinates (0.5, 0.5) serves as the best trade-off for both metrics, however, given that precision is more desired than recall, lowering the recall or k may help in furthering this goal of higher precision."
   ]
  },
  {
   "cell_type": "code",
   "execution_count": 323,
   "id": "1e740b18-76bb-4e6e-a147-5396a2badd17",
   "metadata": {
    "execution": {
     "iopub.execute_input": "2023-11-23T21:08:55.171339Z",
     "iopub.status.busy": "2023-11-23T21:08:55.171111Z",
     "iopub.status.idle": "2023-11-23T21:08:56.753712Z",
     "shell.execute_reply": "2023-11-23T21:08:56.752669Z",
     "shell.execute_reply.started": "2023-11-23T21:08:55.171319Z"
    },
    "tags": []
   },
   "outputs": [
    {
     "data": {
      "image/png": "[encoded data removed]",
      "text/plain": [
       "<Figure size 640x480 with 1 Axes>"
      ]
     },
     "metadata": {},
     "output_type": "display_data"
    }
   ],
   "source": [
    "# Default Manhattan\n",
    "ave_prg(queries['Default'], data_default, cityblock, 1, gold_standards)\n",
    "plt.show()"
   ]
  },
  {
   "cell_type": "markdown",
   "id": "18a22810-31ff-4c76-bdce-52e8fb858909",
   "metadata": {},
   "source": [
    "<center><b>Figure 8.</b> Averaged Eleven-Point PR Curve (Default Manhattan)</center>"
   ]
  },
  {
   "cell_type": "markdown",
   "id": "cee6b820-efc5-402c-8fdf-d79a562710aa",
   "metadata": {},
   "source": [
    "There is a similar trend, however, using the Manhattan distance makes the IR system underperform, as evidenced by the lower area under the curve."
   ]
  },
  {
   "cell_type": "code",
   "execution_count": 324,
   "id": "811887a0-b044-4484-9b8e-2ede74a64488",
   "metadata": {
    "execution": {
     "iopub.execute_input": "2023-11-23T21:08:56.755064Z",
     "iopub.status.busy": "2023-11-23T21:08:56.754830Z",
     "iopub.status.idle": "2023-11-23T21:08:58.888817Z",
     "shell.execute_reply": "2023-11-23T21:08:58.887656Z",
     "shell.execute_reply.started": "2023-11-23T21:08:56.755044Z"
    },
    "tags": []
   },
   "outputs": [
    {
     "data": {
      "image/png": "[encoded data removed]",
      "text/plain": [
       "<Figure size 640x480 with 1 Axes>"
      ]
     },
     "metadata": {},
     "output_type": "display_data"
    }
   ],
   "source": [
    "# Default Cosine\n",
    "ave_prg(queries['Default'], data_default, cosine, 1, gold_standards)\n",
    "plt.show()"
   ]
  },
  {
   "cell_type": "markdown",
   "id": "64a4b106-0cd1-4a13-9d6b-27075063ca43",
   "metadata": {
    "execution": {
     "iopub.execute_input": "2023-11-22T12:54:39.658759Z",
     "iopub.status.busy": "2023-11-22T12:54:39.658053Z",
     "iopub.status.idle": "2023-11-22T12:54:39.669797Z",
     "shell.execute_reply": "2023-11-22T12:54:39.667425Z",
     "shell.execute_reply.started": "2023-11-22T12:54:39.658698Z"
    },
    "tags": []
   },
   "source": [
    "<center><b>Figure 9.</b> Averaged Eleven-Point PR Curve (Default Cosine)</center>"
   ]
  },
  {
   "cell_type": "markdown",
   "id": "5e20fa17-795b-4033-a613-4423b6344d12",
   "metadata": {},
   "source": [
    "As seen in the figure above, using the cosine distance provides a relatively area under the curve, and so, unlike the PR curve for default euclidean, it could be said that the recall or k could be raised higher, while still being able to provide a relatively high amount of precision."
   ]
  },
  {
   "cell_type": "code",
   "execution_count": 325,
   "id": "1f0219f4-2bbe-44a6-8c87-e3f564121273",
   "metadata": {
    "execution": {
     "iopub.execute_input": "2023-11-23T21:08:58.890116Z",
     "iopub.status.busy": "2023-11-23T21:08:58.889881Z",
     "iopub.status.idle": "2023-11-23T21:08:59.177533Z",
     "shell.execute_reply": "2023-11-23T21:08:59.176224Z",
     "shell.execute_reply.started": "2023-11-23T21:08:58.890095Z"
    },
    "tags": []
   },
   "outputs": [
    {
     "data": {
      "image/png": "[encoded data removed]",
      "text/plain": [
       "<Figure size 640x480 with 1 Axes>"
      ]
     },
     "metadata": {},
     "output_type": "display_data"
    }
   ],
   "source": [
    "# Optimal Euclidean\n",
    "ave_prg(queries['Optimal'], data_optimal, euclidean, 1, gold_standards)\n",
    "plt.show()"
   ]
  },
  {
   "cell_type": "markdown",
   "id": "765bac38-5d11-4bd1-bb95-6b257d4083b6",
   "metadata": {},
   "source": [
    "<center><b>Figure 10.</b> Averaged Eleven-Point PR Curve (Optimal Euclidean)</center>"
   ]
  },
  {
   "cell_type": "markdown",
   "id": "cfd31294-1210-458a-92c6-411897eff079",
   "metadata": {},
   "source": [
    "There are no unusual observations for this figure, except for the fact that \"optimizing\" the settings for the vectorizer led to a lower area under the curve, and thus, lower leverage in lowering the recall to increase the precision."
   ]
  },
  {
   "cell_type": "code",
   "execution_count": 326,
   "id": "276d1f56-c4c8-43b7-88d5-3d38c3378f4f",
   "metadata": {
    "execution": {
     "iopub.execute_input": "2023-11-23T21:08:59.178894Z",
     "iopub.status.busy": "2023-11-23T21:08:59.178663Z",
     "iopub.status.idle": "2023-11-23T21:08:59.456696Z",
     "shell.execute_reply": "2023-11-23T21:08:59.455686Z",
     "shell.execute_reply.started": "2023-11-23T21:08:59.178872Z"
    },
    "tags": []
   },
   "outputs": [
    {
     "data": {
      "image/png": "[encoded data removed]",
      "text/plain": [
       "<Figure size 640x480 with 1 Axes>"
      ]
     },
     "metadata": {},
     "output_type": "display_data"
    }
   ],
   "source": [
    "# Optimal Manhattan\n",
    "ave_prg(queries['Optimal'], data_optimal, cityblock, 1, gold_standards)\n",
    "plt.show()"
   ]
  },
  {
   "cell_type": "markdown",
   "id": "cb48c264-ad40-4710-b138-09b5a576c8e8",
   "metadata": {},
   "source": [
    "<center><b>Figure 11.</b> Averaged Eleven-Point PR Curve (Optimal Manhattan)</center>"
   ]
  },
  {
   "cell_type": "markdown",
   "id": "01276a0e-e012-453f-93c7-eecabc244ac4",
   "metadata": {},
   "source": [
    "There are no unusual observations for this figure, except for the fact that \"optimizing\" the settings for the vectorizer actually led to a miniscule increase in the area under the curve, for Manhattan distance."
   ]
  },
  {
   "cell_type": "code",
   "execution_count": 327,
   "id": "8d1628e3-1e82-46b0-8713-6a7e973a0a78",
   "metadata": {
    "execution": {
     "iopub.execute_input": "2023-11-23T21:08:59.457866Z",
     "iopub.status.busy": "2023-11-23T21:08:59.457637Z",
     "iopub.status.idle": "2023-11-23T21:08:59.788818Z",
     "shell.execute_reply": "2023-11-23T21:08:59.787810Z",
     "shell.execute_reply.started": "2023-11-23T21:08:59.457846Z"
    },
    "tags": []
   },
   "outputs": [
    {
     "data": {
      "image/png": "[encoded data removed]",
      "text/plain": [
       "<Figure size 640x480 with 1 Axes>"
      ]
     },
     "metadata": {},
     "output_type": "display_data"
    }
   ],
   "source": [
    "# Optimal Cosine\n",
    "ave_prg(queries['Optimal'], data_optimal, cosine, 1, gold_standards)\n",
    "plt.show()"
   ]
  },
  {
   "cell_type": "markdown",
   "id": "45715942-d389-4bca-a7bd-1a126d35faec",
   "metadata": {},
   "source": [
    "<center><b>Figure 12.</b> Averaged Eleven-Point PR Curve (Optimal Cosine)</center>"
   ]
  },
  {
   "cell_type": "markdown",
   "id": "fe138c8b-9845-4a07-a18d-7205b29fee84",
   "metadata": {},
   "source": [
    "Similarly, there are no interesting observations for the given graph, except for the fact that \"optimizing\" the vectorizer led to a miniscule decrease in the area under the curve and for the more apparent \"kink\" around recall equal to 0.5, where this may signify a slight increase in precision, even with the increase in recall. The significance of this is that it can be used as an argument to further increase the would-be k by a small margin, given that precision can still increase even if there is a slight increase in recall."
   ]
  },
  {
   "cell_type": "markdown",
   "id": "5876e394-ea72-40ab-8aaf-b21d67f5101a",
   "metadata": {},
   "source": [
    "Hence, the best Information Retrieval System would be the Default Cosine at k = 5, given its relatively high performance as compared to the other variants. To see this system in action, go to the notebook if you are viewing the HTML version of the report, feel free to select from the dropdown menus the number of results (k) and movie title to search similar movies for, and click `Search` to acquire a list of results deemed relevant by the system."
   ]
  },
  {
   "cell_type": "code",
   "execution_count": 328,
   "id": "ba5977be-54f6-45ad-9f97-c892fa672667",
   "metadata": {
    "execution": {
     "iopub.execute_input": "2023-11-23T21:08:59.789983Z",
     "iopub.status.busy": "2023-11-23T21:08:59.789748Z",
     "iopub.status.idle": "2023-11-23T21:08:59.809749Z",
     "shell.execute_reply": "2023-11-23T21:08:59.808830Z",
     "shell.execute_reply.started": "2023-11-23T21:08:59.789962Z"
    },
    "tags": []
   },
   "outputs": [
    {
     "data": {
      "application/vnd.jupyter.widget-view+json": {
       "model_id": "088a1268b5124b4d97c9041964f6d4a5",
       "version_major": 2,
       "version_minor": 0
      },
      "text/plain": [
       "Dropdown(description='k', index=4, options=(1, 2, 3, 4, 5, 6, 7, 8, 9, 10, 11, 12, 13, 14, 15, 16, 17, 18, 19,…"
      ]
     },
     "metadata": {},
     "output_type": "display_data"
    },
    {
     "data": {
      "application/vnd.jupyter.widget-view+json": {
       "model_id": "9cf85b7f89214c59967e76b80f10eb82",
       "version_major": 2,
       "version_minor": 0
      },
      "text/plain": [
       "Dropdown(description='Movie Title', options=('Afire', 'A Thousand and One', 'A Million Miles Away', 'Attachmen…"
      ]
     },
     "metadata": {},
     "output_type": "display_data"
    },
    {
     "data": {
      "application/vnd.jupyter.widget-view+json": {
       "model_id": "fe7070a9300e430e9ea2bccb5971b081",
       "version_major": 2,
       "version_minor": 0
      },
      "text/plain": [
       "Button(button_style='success', description='Search', style=ButtonStyle())"
      ]
     },
     "metadata": {},
     "output_type": "display_data"
    },
    {
     "data": {
      "application/vnd.jupyter.widget-view+json": {
       "model_id": "fce67a466bd143d5961eec4349f8499a",
       "version_major": 2,
       "version_minor": 0
      },
      "text/plain": [
       "Output()"
      ]
     },
     "metadata": {},
     "output_type": "display_data"
    }
   ],
   "source": [
    "search_k_title()"
   ]
  },
  {
   "cell_type": "markdown",
   "id": "3570c776-d8b1-476e-81f3-48e87b9505a1",
   "metadata": {},
   "source": [
    "[Back to TOC](#TContents)"
   ]
  },
  {
   "cell_type": "markdown",
   "id": "fe4ab069-6187-4af4-9d62-99a073aaa4d5",
   "metadata": {},
   "source": [
    "<a id='Conclusion'></a>\n",
    "<h1 style=\"color:#ffffff; background-color:#E44728; border: 1px solid #ffffff; padding: 10px 10px 10px 10px;\">VII. CONCLUSION</h1>"
   ]
  },
  {
   "cell_type": "markdown",
   "id": "c884f16b-9587-4211-a04f-52e51ae46fab",
   "metadata": {},
   "source": [
    "<p>In conclusion,</p>\n",
    "<ul>\n",
    "    <li>The best Information Retrieval System is the Default Cosine at k = 5. The facts regarding this are expounded below.</li>\n",
    "    <li>Changing the settings for the vectorizer is most appropriate when dealing with highly extensive and large datasets, as compared to dealing with relatively few data points. As exemplified in this laboratory experiment, there were mostly lower accuracies, when the \"optimizations\" were added, and mostly higher accuracies when the default settings were used.</li>\n",
    "    <li>Returning results where recall is equal to around 0.5 and where k is around 5 (as advised by the Precision-Recall vs. k graph) would provide the best trade-off between precision and recall, where both would be around 0.5. This is feasible for a small-scale recommendation system, where this could be often found in the parts of movie review websites which state \"If you like this movie, we recommend these movies too\".</li>\n",
    "    <li>For movie recommendation systems, systems which make use of textual data, and IR systems which make use of similar data (size, theme, features, e.g.), using cosine distance is recommended as it provided the highest accuracy out of all distance measures.</li>\n",
    "    <li>Using highly extensive and larger datasets may lead to higher accuracies, as it increases the chances of equal distribution among data points, of acquiring well-representative, relevant, and useful features, and of having more relevant data points for a given query.</li>\n",
    "    <li>Lastly, coincidentally selecting a highly representative query or exemplar would possibly provided highly-skewed accuracy scores, and so, it is recommended to acquire more \"users\" or queries to use in evaluating the system as to get \"truer\" or more genuine evaluation metrics.</li>\n",
    "</ul>\n",
    "    \n",
    "[Back to TOC](#TContents)"
   ]
  },
  {
   "cell_type": "markdown",
   "id": "26bdab64-ad19-4e24-a487-6a54f6347958",
   "metadata": {
    "execution": {
     "iopub.execute_input": "2023-11-20T13:39:17.875236Z",
     "iopub.status.busy": "2023-11-20T13:39:17.874414Z",
     "iopub.status.idle": "2023-11-20T13:39:17.882762Z",
     "shell.execute_reply": "2023-11-20T13:39:17.881129Z",
     "shell.execute_reply.started": "2023-11-20T13:39:17.875196Z"
    },
    "tags": []
   },
   "source": [
    "<a id='Recommendation'></a>\n",
    "<h1 style=\"color:#ffffff; background-color:#E44728; border: 1px solid #ffffff; padding: 10px 10px 10px 10px;\">VIII. RECOMMENDATION</h1>"
   ]
  },
  {
   "cell_type": "markdown",
   "id": "aa7546c4-dae6-49e1-a3fd-c7bda3a729e1",
   "metadata": {},
   "source": [
    "<p>Some recommendations for further improvement of this project and if this project would be replicated are:</p>\n",
    "<ol>\n",
    "    <li>Create hypotheses for each change in setting as to ascertain which setting may be improving the performance of the IR system instead of lumping all changes together and comparing them against the control.</li>\n",
    "    <li>Increase the size of the dataset as to accomodate other movies and to further tune or refine the ability of the IR system to recognize similar or relevant movies, through the introduction of more representative features and more representative data points.</li>\n",
    "    <li>Increase the number of queries as to avoid the skewing of the evaluation metrics and to reduce the possibilities of acquring mostly representative or less representative queries.</li>\n",
    "    <li>Moreover, hiring or outsourcing a number of \"movie watchers\" would help in further refining the gold standard and in further improving the subjective question of which is relevant or not.</li>\n",
    "    <li>Compare other distance measures with the cosine distance as the point of comparison. This is to further study whether cosine distances are indeed the best metric for text-based information retrieval, movie recommendation systems, or datasets which are similar to the one used in the study.</li>\n",
    "</ol>\n",
    "\n",
    "[Back to TOC](#TContents)"
   ]
  },
  {
   "cell_type": "markdown",
   "id": "2c8253ae-93ea-4969-97b7-8c2e1bdf6537",
   "metadata": {
    "execution": {
     "iopub.execute_input": "2023-11-20T14:05:10.881767Z",
     "iopub.status.busy": "2023-11-20T14:05:10.881201Z",
     "iopub.status.idle": "2023-11-20T14:05:10.889821Z",
     "shell.execute_reply": "2023-11-20T14:05:10.888440Z",
     "shell.execute_reply.started": "2023-11-20T14:05:10.881720Z"
    },
    "tags": []
   },
   "source": [
    "<a id='Acknowledgment'></a>\n",
    "<h1 style=\"color:#ffffff; background-color:#E44728; border: 1px solid #ffffff; padding: 10px 10px 10px 10px;\">ACKNOWLEDGMENT</h1>"
   ]
  },
  {
   "cell_type": "markdown",
   "id": "7ee2ee66-6a4f-446a-8ed5-d9d1eca07683",
   "metadata": {},
   "source": [
    "We express our heartfelt gratitude to our parents, family, and friends for their unwavering support throughout our data science journey. Additionally, we extend our sincere thanks to Professor Alis and all our esteemed professors for their continuous inspiration, fostering our curiosity in the field of data science, and encouraging us to always seek new knowledge.\n",
    "\n",
    "A special note of appreciation goes to Professor Alis for his dedicated guidance. We are thankful for the thought-provoking problem sets and exercises he provides, which have significantly contributed to our practical understanding and skills in the realm of data science. His commitment to our academic development has been instrumental, and we are grateful for the invaluable learning experiences he has facilitated.\n",
    "\n",
    "[Back to TOC](#TContents)"
   ]
  },
  {
   "cell_type": "markdown",
   "id": "ce361264-a202-43eb-be29-ad774bbbb146",
   "metadata": {
    "execution": {
     "iopub.execute_input": "2023-11-20T13:39:49.367500Z",
     "iopub.status.busy": "2023-11-20T13:39:49.366400Z",
     "iopub.status.idle": "2023-11-20T13:39:49.373913Z",
     "shell.execute_reply": "2023-11-20T13:39:49.372519Z",
     "shell.execute_reply.started": "2023-11-20T13:39:49.367461Z"
    },
    "tags": []
   },
   "source": [
    "<a id='References'></a>\n",
    "<h1 style=\"color:#ffffff; background-color:#E44728; border: 1px solid #ffffff; padding: 10px 10px 10px 10px;\">REFERENCES</h1>"
   ]
  },
  {
   "cell_type": "markdown",
   "id": "89ef9256-0a36-43d6-a67d-90b58074fb76",
   "metadata": {},
   "source": [
    "<a name='Intro'></a>[1] Cambridge UP. (2008). <i>Assessing Relevance.</i> Retrieved from https://nlp.stanford.edu/IR-book/html/htmledition/assessing-relevance-1.html\n",
    "\n",
    "[2] Cambridge UP. (2009). <i>Introduction to Information Retrieval - Chapter 8: Evaluation in Information Retrieval.</i> Retrieved from https://nlp.stanford.edu/IR-book/pdf/08eval.pdf\n",
    "\n",
    "[3] Ganesan, K. (n.d.). <i>Tips for Constructing Custom Stop Word Lists.</i> Retrieved from https://kavita-ganesan.com/tips-for-constructing-custom-stop-word-lists/\n",
    "\n",
    "[4] Ganesan, K. (n.d.). <i>How to Use CountVectorizer.</i> Retrieved from https://kavita-ganesan.com/how-to-use-countvectorizer/ \n",
    "\n",
    "[5] Inside Learning Machines. (n.d.). <i>Precision@K and Recall@K.</i> Retrieved from https://insidelearningmachines.com/precisionk_and_recallk/\n",
    "\n",
    "[6] Manning, C. D., Raghavan, P., & Schütze, H. (n.d.). <i>Evaluation of Ranked Retrieval Results.</i> Retrieved from https://nlp.stanford.edu/IR-book/html/htmledition/evaluation-of-ranked-retrieval-results-1.html\n",
    "\n",
    "[7] Nandeshwar. (2022). <i>Mean Average Precision (MAP) - K Metric Explained + Code.</i> Retrieved from https://www.kaggle.com/code/nandeshwar/mean-average-precision-map-k-metric-explained-code\n",
    "\n",
    "[8] Northeastern University Khoury College of Computer Sciences. (2015). <i>Information Retrieval User Study: Evaluation (Lecture Notes).</i> Retrieved from https://www.khoury.northeastern.edu/home/vip/teach/IRcourse/5_eval_userstudy/lecture_notes/IR_V6.pdf \n",
    "\n",
    "[9] PopFlick. (n.d.). <i>Film Industry Statistics.</i> Retrieved from https://www.popflick.com/film-industry-statistics\n",
    "\n",
    "[10] PracticeProbs. (n.d.). <i>Precision and Recall.</i> Retrieved from https://www.practiceprobs.com/problemsets/metrics/precision-and-recall/#average-precision-at-k-apk\n",
    "\n",
    "[11] Towards Data Science. (2023). <i>Evaluation Metrics for Recommendation Systems: An Overview.</i> Retrieved from https://towardsdatascience.com/evaluation-metrics-for-recommendation-systems-an-overview-71290690ecba\n",
    "\n",
    "[12] University of Cambridge Computer Laboratory. (n.d.). <i>Lecture 5: Evaluation (Information Retrieval).</i> Retrieved from https://www.cl.cam.ac.uk/teaching/1415/InfoRtrv/lecture5.pdf\n",
    "\n",
    "[13] Zhang, E., Zhang, Y. (2009). <i>Eleven Point Precision-recall Curve.</i> In: LIU, L., ÖZSU, M.T. (eds) Encyclopedia of Database Systems. Springer, Boston, MA. https://doi.org/10.1007/978-0-387-39940-9_481\n",
    "\n",
    "[Back to TOC](#TContents)"
   ]
  }
 ],
 "metadata": {
  "kernelspec": {
   "display_name": "Python 3 (ipykernel)",
   "language": "python",
   "name": "python3"
  },
  "language_info": {
   "codemirror_mode": {
    "name": "ipython",
    "version": 3
   },
   "file_extension": ".py",
   "mimetype": "text/x-python",
   "name": "python",
   "nbconvert_exporter": "python",
   "pygments_lexer": "ipython3",
   "version": "3.11.8"
  }
 },
 "nbformat": 4,
 "nbformat_minor": 5
}
